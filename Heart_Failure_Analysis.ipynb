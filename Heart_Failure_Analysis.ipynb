{
 "cells": [
  {
   "cell_type": "markdown",
   "id": "002c3e9c-baa6-4804-86e6-1777aab23ae9",
   "metadata": {},
   "source": [
    "# Heart Failure Analysis - by Ashley Self\n",
    "\n",
    "Cardiovascular diseases (CVDs) are the number 1 cause of death all over the world, taking an estimated **17.9** million lives each year, which accounts for 31% of all deaths worldwide.\n",
    "Heart failure is a common event caused by CVDs and this dataset contains 12 features that can be used to predict mortality by heart failure, as well as analyze and understand the main factor for these diseases.\n",
    "\n",
    "Most cardiovascular diseases can be prevented by addressing behavioural risk factors such as tobacco use, unhealthy diet and obesity, physical inactivity and harmful use of alcohol using population-wide strategies.\n",
    "\n",
    "People with CV disease or who are at high cardiovascular risk (due to the presence of one or more risk factors such as hypertension, diabetes, hyperlipidaemia or already established disease) need early detection and management wherein a great analysis of it can be of great help."
   ]
  },
  {
   "cell_type": "markdown",
   "id": "71f0cefe-a910-466b-ba23-d256dc41bf75",
   "metadata": {},
   "source": [
    "# Deep Dive Analysis with Python"
   ]
  },
  {
   "cell_type": "markdown",
   "id": "5ac90545-b318-4f9d-8ade-f14e780d8a81",
   "metadata": {},
   "source": [
    "1) Why are more females dying in the age range of 51-70 years old, even though they do not smoke? \n",
    "\n",
    "2) What is causing men to have higher death rates, regardless of other variables (according to this dataset)?\n",
    "\n",
    "3) Why are there almost twice as many males compared to females that were collected for this dataset?\n",
    "\n",
    "4) Is there anything within this dataset that would indicate a patient has a higher chance of dying from heart failure?"
   ]
  },
  {
   "cell_type": "code",
   "execution_count": 1,
   "id": "6f625f76-feed-45b1-a87d-42518ae8e145",
   "metadata": {
    "executionTime": 0,
    "lastSuccessfullyExecutedCode": "#import necessary packages\nimport numpy as np\nimport pandas as pd\nimport matplotlib.pyplot as plt\nimport seaborn as sns"
   },
   "outputs": [],
   "source": [
    "#import necessary packages\n",
    "import numpy as np\n",
    "import pandas as pd\n",
    "import matplotlib.pyplot as plt\n",
    "import seaborn as sns"
   ]
  },
  {
   "cell_type": "markdown",
   "id": "933a9834-e93a-44d8-823f-81fe89c88f14",
   "metadata": {},
   "source": [
    "Attributes having Boolean values: 0 = False & 1 = True\n",
    "\n",
    "Except for sex: 1 = Male & 0 = Female"
   ]
  },
  {
   "cell_type": "code",
   "execution_count": 2,
   "id": "8e2b5982-ee05-4a9b-a051-cb82275b8da9",
   "metadata": {
    "executionTime": 560,
    "lastSuccessfullyExecutedCode": "heart_failure_df = pd.read_csv(\"heart_failure_joined.csv\")"
   },
   "outputs": [],
   "source": [
    "heart_failure_df = pd.read_csv(\"heart_failure_joined.csv\")"
   ]
  },
  {
   "cell_type": "code",
   "execution_count": 3,
   "id": "4e6e8d34-a67c-4736-9788-d049755111d3",
   "metadata": {
    "executionTime": 924,
    "lastSuccessfullyExecutedCode": "heart_failure_df.head()"
   },
   "outputs": [
    {
     "data": {
      "text/html": [
       "<div>\n",
       "<style scoped>\n",
       "    .dataframe tbody tr th:only-of-type {\n",
       "        vertical-align: middle;\n",
       "    }\n",
       "\n",
       "    .dataframe tbody tr th {\n",
       "        vertical-align: top;\n",
       "    }\n",
       "\n",
       "    .dataframe thead th {\n",
       "        text-align: right;\n",
       "    }\n",
       "</style>\n",
       "<table border=\"1\" class=\"dataframe\">\n",
       "  <thead>\n",
       "    <tr style=\"text-align: right;\">\n",
       "      <th></th>\n",
       "      <th>uniqueID</th>\n",
       "      <th>smoking</th>\n",
       "      <th>ejection_fraction</th>\n",
       "      <th>serum_sodium</th>\n",
       "      <th>platelets</th>\n",
       "      <th>creatinine_phosphokinase</th>\n",
       "      <th>diabetes</th>\n",
       "      <th>serum_creatinine</th>\n",
       "      <th>anaemia</th>\n",
       "      <th>high_blood_pressure</th>\n",
       "      <th>age</th>\n",
       "      <th>sex</th>\n",
       "      <th>time</th>\n",
       "      <th>DEATH_EVENT</th>\n",
       "      <th>age_group</th>\n",
       "    </tr>\n",
       "  </thead>\n",
       "  <tbody>\n",
       "    <tr>\n",
       "      <th>0</th>\n",
       "      <td>0</td>\n",
       "      <td>0</td>\n",
       "      <td>20</td>\n",
       "      <td>130</td>\n",
       "      <td>265000.00</td>\n",
       "      <td>582</td>\n",
       "      <td>0</td>\n",
       "      <td>1.9</td>\n",
       "      <td>0</td>\n",
       "      <td>1</td>\n",
       "      <td>75.0</td>\n",
       "      <td>1</td>\n",
       "      <td>4</td>\n",
       "      <td>1</td>\n",
       "      <td>71 - 80</td>\n",
       "    </tr>\n",
       "    <tr>\n",
       "      <th>1</th>\n",
       "      <td>1</td>\n",
       "      <td>0</td>\n",
       "      <td>38</td>\n",
       "      <td>136</td>\n",
       "      <td>263358.03</td>\n",
       "      <td>7861</td>\n",
       "      <td>0</td>\n",
       "      <td>1.1</td>\n",
       "      <td>0</td>\n",
       "      <td>0</td>\n",
       "      <td>55.0</td>\n",
       "      <td>1</td>\n",
       "      <td>6</td>\n",
       "      <td>1</td>\n",
       "      <td>51 - 70</td>\n",
       "    </tr>\n",
       "    <tr>\n",
       "      <th>2</th>\n",
       "      <td>2</td>\n",
       "      <td>1</td>\n",
       "      <td>20</td>\n",
       "      <td>129</td>\n",
       "      <td>162000.00</td>\n",
       "      <td>146</td>\n",
       "      <td>0</td>\n",
       "      <td>1.3</td>\n",
       "      <td>0</td>\n",
       "      <td>0</td>\n",
       "      <td>65.0</td>\n",
       "      <td>1</td>\n",
       "      <td>7</td>\n",
       "      <td>1</td>\n",
       "      <td>51 - 70</td>\n",
       "    </tr>\n",
       "    <tr>\n",
       "      <th>3</th>\n",
       "      <td>3</td>\n",
       "      <td>0</td>\n",
       "      <td>20</td>\n",
       "      <td>137</td>\n",
       "      <td>210000.00</td>\n",
       "      <td>111</td>\n",
       "      <td>0</td>\n",
       "      <td>1.9</td>\n",
       "      <td>1</td>\n",
       "      <td>0</td>\n",
       "      <td>50.0</td>\n",
       "      <td>1</td>\n",
       "      <td>7</td>\n",
       "      <td>1</td>\n",
       "      <td>10 - 50</td>\n",
       "    </tr>\n",
       "    <tr>\n",
       "      <th>4</th>\n",
       "      <td>4</td>\n",
       "      <td>0</td>\n",
       "      <td>20</td>\n",
       "      <td>116</td>\n",
       "      <td>327000.00</td>\n",
       "      <td>160</td>\n",
       "      <td>1</td>\n",
       "      <td>2.7</td>\n",
       "      <td>1</td>\n",
       "      <td>0</td>\n",
       "      <td>65.0</td>\n",
       "      <td>0</td>\n",
       "      <td>8</td>\n",
       "      <td>1</td>\n",
       "      <td>51 - 70</td>\n",
       "    </tr>\n",
       "  </tbody>\n",
       "</table>\n",
       "</div>"
      ],
      "text/plain": [
       "   uniqueID  smoking  ejection_fraction  serum_sodium  platelets  \\\n",
       "0         0        0                 20           130  265000.00   \n",
       "1         1        0                 38           136  263358.03   \n",
       "2         2        1                 20           129  162000.00   \n",
       "3         3        0                 20           137  210000.00   \n",
       "4         4        0                 20           116  327000.00   \n",
       "\n",
       "   creatinine_phosphokinase  diabetes  serum_creatinine  anaemia  \\\n",
       "0                       582         0               1.9        0   \n",
       "1                      7861         0               1.1        0   \n",
       "2                       146         0               1.3        0   \n",
       "3                       111         0               1.9        1   \n",
       "4                       160         1               2.7        1   \n",
       "\n",
       "   high_blood_pressure   age  sex  time  DEATH_EVENT age_group  \n",
       "0                    1  75.0    1     4            1   71 - 80  \n",
       "1                    0  55.0    1     6            1   51 - 70  \n",
       "2                    0  65.0    1     7            1   51 - 70  \n",
       "3                    0  50.0    1     7            1   10 - 50  \n",
       "4                    0  65.0    0     8            1   51 - 70  "
      ]
     },
     "execution_count": 3,
     "metadata": {},
     "output_type": "execute_result"
    }
   ],
   "source": [
    "heart_failure_df.head()"
   ]
  },
  {
   "cell_type": "markdown",
   "id": "64608616-727f-4973-88ee-49425541d150",
   "metadata": {},
   "source": [
    "_Combined csv has been imported correctly._"
   ]
  },
  {
   "cell_type": "code",
   "execution_count": 4,
   "id": "32c6b874-53fc-4965-8a46-932e3b1efe8a",
   "metadata": {
    "executionTime": 0,
    "lastSuccessfullyExecutedCode": "# Create copy df to not change anything in the original csv file\nheart_failure_copy = pd.DataFrame(heart_failure_df)"
   },
   "outputs": [],
   "source": [
    "# Create copy df to not change anything in the original csv file\n",
    "heart_failure_copy = pd.DataFrame(heart_failure_df)"
   ]
  },
  {
   "cell_type": "code",
   "execution_count": 5,
   "id": "1a3af2fe-b8b6-4023-a9e4-c5b4430f8229",
   "metadata": {
    "executionTime": 611,
    "lastSuccessfullyExecutedCode": "#show datatypes for all columns\nheart_failure_copy.info()"
   },
   "outputs": [
    {
     "name": "stdout",
     "output_type": "stream",
     "text": [
      "<class 'pandas.core.frame.DataFrame'>\n",
      "RangeIndex: 299 entries, 0 to 298\n",
      "Data columns (total 15 columns):\n",
      " #   Column                    Non-Null Count  Dtype  \n",
      "---  ------                    --------------  -----  \n",
      " 0   uniqueID                  299 non-null    int64  \n",
      " 1   smoking                   299 non-null    int64  \n",
      " 2   ejection_fraction         299 non-null    int64  \n",
      " 3   serum_sodium              299 non-null    int64  \n",
      " 4   platelets                 299 non-null    float64\n",
      " 5   creatinine_phosphokinase  299 non-null    int64  \n",
      " 6   diabetes                  299 non-null    int64  \n",
      " 7   serum_creatinine          299 non-null    float64\n",
      " 8   anaemia                   299 non-null    int64  \n",
      " 9   high_blood_pressure       299 non-null    int64  \n",
      " 10  age                       299 non-null    float64\n",
      " 11  sex                       299 non-null    int64  \n",
      " 12  time                      299 non-null    int64  \n",
      " 13  DEATH_EVENT               299 non-null    int64  \n",
      " 14  age_group                 299 non-null    object \n",
      "dtypes: float64(3), int64(11), object(1)\n",
      "memory usage: 35.2+ KB\n"
     ]
    }
   ],
   "source": [
    "#show datatypes for all columns\n",
    "heart_failure_copy.info()"
   ]
  },
  {
   "cell_type": "markdown",
   "id": "d6fbe7ed-46bc-4933-b429-e69c6bb8f43f",
   "metadata": {},
   "source": [
    "- Here we see no null (NaN) values in the data."
   ]
  },
  {
   "cell_type": "code",
   "execution_count": 6,
   "id": "c5723792-6e2e-4df5-9204-c366edfeb4ee",
   "metadata": {
    "executionTime": 853,
    "lastSuccessfullyExecutedCode": "# Renaming DEATH_EVENT column to clean up data and make for better visualizations\nheart_failure_copy.rename(columns = {'DEATH_EVENT':'patient_outcome'}, inplace = True)\nheart_failure_copy.head()"
   },
   "outputs": [
    {
     "data": {
      "text/html": [
       "<div>\n",
       "<style scoped>\n",
       "    .dataframe tbody tr th:only-of-type {\n",
       "        vertical-align: middle;\n",
       "    }\n",
       "\n",
       "    .dataframe tbody tr th {\n",
       "        vertical-align: top;\n",
       "    }\n",
       "\n",
       "    .dataframe thead th {\n",
       "        text-align: right;\n",
       "    }\n",
       "</style>\n",
       "<table border=\"1\" class=\"dataframe\">\n",
       "  <thead>\n",
       "    <tr style=\"text-align: right;\">\n",
       "      <th></th>\n",
       "      <th>uniqueID</th>\n",
       "      <th>smoking</th>\n",
       "      <th>ejection_fraction</th>\n",
       "      <th>serum_sodium</th>\n",
       "      <th>platelets</th>\n",
       "      <th>creatinine_phosphokinase</th>\n",
       "      <th>diabetes</th>\n",
       "      <th>serum_creatinine</th>\n",
       "      <th>anaemia</th>\n",
       "      <th>high_blood_pressure</th>\n",
       "      <th>age</th>\n",
       "      <th>sex</th>\n",
       "      <th>time</th>\n",
       "      <th>patient_outcome</th>\n",
       "      <th>age_group</th>\n",
       "    </tr>\n",
       "  </thead>\n",
       "  <tbody>\n",
       "    <tr>\n",
       "      <th>0</th>\n",
       "      <td>0</td>\n",
       "      <td>0</td>\n",
       "      <td>20</td>\n",
       "      <td>130</td>\n",
       "      <td>265000.00</td>\n",
       "      <td>582</td>\n",
       "      <td>0</td>\n",
       "      <td>1.9</td>\n",
       "      <td>0</td>\n",
       "      <td>1</td>\n",
       "      <td>75.0</td>\n",
       "      <td>1</td>\n",
       "      <td>4</td>\n",
       "      <td>1</td>\n",
       "      <td>71 - 80</td>\n",
       "    </tr>\n",
       "    <tr>\n",
       "      <th>1</th>\n",
       "      <td>1</td>\n",
       "      <td>0</td>\n",
       "      <td>38</td>\n",
       "      <td>136</td>\n",
       "      <td>263358.03</td>\n",
       "      <td>7861</td>\n",
       "      <td>0</td>\n",
       "      <td>1.1</td>\n",
       "      <td>0</td>\n",
       "      <td>0</td>\n",
       "      <td>55.0</td>\n",
       "      <td>1</td>\n",
       "      <td>6</td>\n",
       "      <td>1</td>\n",
       "      <td>51 - 70</td>\n",
       "    </tr>\n",
       "    <tr>\n",
       "      <th>2</th>\n",
       "      <td>2</td>\n",
       "      <td>1</td>\n",
       "      <td>20</td>\n",
       "      <td>129</td>\n",
       "      <td>162000.00</td>\n",
       "      <td>146</td>\n",
       "      <td>0</td>\n",
       "      <td>1.3</td>\n",
       "      <td>0</td>\n",
       "      <td>0</td>\n",
       "      <td>65.0</td>\n",
       "      <td>1</td>\n",
       "      <td>7</td>\n",
       "      <td>1</td>\n",
       "      <td>51 - 70</td>\n",
       "    </tr>\n",
       "    <tr>\n",
       "      <th>3</th>\n",
       "      <td>3</td>\n",
       "      <td>0</td>\n",
       "      <td>20</td>\n",
       "      <td>137</td>\n",
       "      <td>210000.00</td>\n",
       "      <td>111</td>\n",
       "      <td>0</td>\n",
       "      <td>1.9</td>\n",
       "      <td>1</td>\n",
       "      <td>0</td>\n",
       "      <td>50.0</td>\n",
       "      <td>1</td>\n",
       "      <td>7</td>\n",
       "      <td>1</td>\n",
       "      <td>10 - 50</td>\n",
       "    </tr>\n",
       "    <tr>\n",
       "      <th>4</th>\n",
       "      <td>4</td>\n",
       "      <td>0</td>\n",
       "      <td>20</td>\n",
       "      <td>116</td>\n",
       "      <td>327000.00</td>\n",
       "      <td>160</td>\n",
       "      <td>1</td>\n",
       "      <td>2.7</td>\n",
       "      <td>1</td>\n",
       "      <td>0</td>\n",
       "      <td>65.0</td>\n",
       "      <td>0</td>\n",
       "      <td>8</td>\n",
       "      <td>1</td>\n",
       "      <td>51 - 70</td>\n",
       "    </tr>\n",
       "  </tbody>\n",
       "</table>\n",
       "</div>"
      ],
      "text/plain": [
       "   uniqueID  smoking  ejection_fraction  serum_sodium  platelets  \\\n",
       "0         0        0                 20           130  265000.00   \n",
       "1         1        0                 38           136  263358.03   \n",
       "2         2        1                 20           129  162000.00   \n",
       "3         3        0                 20           137  210000.00   \n",
       "4         4        0                 20           116  327000.00   \n",
       "\n",
       "   creatinine_phosphokinase  diabetes  serum_creatinine  anaemia  \\\n",
       "0                       582         0               1.9        0   \n",
       "1                      7861         0               1.1        0   \n",
       "2                       146         0               1.3        0   \n",
       "3                       111         0               1.9        1   \n",
       "4                       160         1               2.7        1   \n",
       "\n",
       "   high_blood_pressure   age  sex  time  patient_outcome age_group  \n",
       "0                    1  75.0    1     4                1   71 - 80  \n",
       "1                    0  55.0    1     6                1   51 - 70  \n",
       "2                    0  65.0    1     7                1   51 - 70  \n",
       "3                    0  50.0    1     7                1   10 - 50  \n",
       "4                    0  65.0    0     8                1   51 - 70  "
      ]
     },
     "execution_count": 6,
     "metadata": {},
     "output_type": "execute_result"
    }
   ],
   "source": [
    "# Renaming DEATH_EVENT column to clean up data and make for better visualizations\n",
    "heart_failure_copy.rename(columns = {'DEATH_EVENT':'patient_outcome'}, inplace = True)\n",
    "heart_failure_copy.head()"
   ]
  },
  {
   "cell_type": "code",
   "execution_count": 7,
   "id": "6de20c5e-cdb4-4387-842d-5246ef43ffc5",
   "metadata": {
    "chartConfig": {
     "bar": {
      "hasRoundedCorners": true,
      "stacked": false
     },
     "type": "bar",
     "version": "v1"
    },
    "executionTime": 1518,
    "lastSuccessfullyExecutedCode": "#review summary statistics for all columns\nheart_failure_copy.describe().T",
    "visualizeDataframe": false
   },
   "outputs": [
    {
     "data": {
      "text/html": [
       "<div>\n",
       "<style scoped>\n",
       "    .dataframe tbody tr th:only-of-type {\n",
       "        vertical-align: middle;\n",
       "    }\n",
       "\n",
       "    .dataframe tbody tr th {\n",
       "        vertical-align: top;\n",
       "    }\n",
       "\n",
       "    .dataframe thead th {\n",
       "        text-align: right;\n",
       "    }\n",
       "</style>\n",
       "<table border=\"1\" class=\"dataframe\">\n",
       "  <thead>\n",
       "    <tr style=\"text-align: right;\">\n",
       "      <th></th>\n",
       "      <th>count</th>\n",
       "      <th>mean</th>\n",
       "      <th>std</th>\n",
       "      <th>min</th>\n",
       "      <th>25%</th>\n",
       "      <th>50%</th>\n",
       "      <th>75%</th>\n",
       "      <th>max</th>\n",
       "    </tr>\n",
       "  </thead>\n",
       "  <tbody>\n",
       "    <tr>\n",
       "      <th>uniqueID</th>\n",
       "      <td>299.0</td>\n",
       "      <td>149.000000</td>\n",
       "      <td>86.458082</td>\n",
       "      <td>0.0</td>\n",
       "      <td>74.5</td>\n",
       "      <td>149.0</td>\n",
       "      <td>223.5</td>\n",
       "      <td>298.0</td>\n",
       "    </tr>\n",
       "    <tr>\n",
       "      <th>smoking</th>\n",
       "      <td>299.0</td>\n",
       "      <td>0.321070</td>\n",
       "      <td>0.467670</td>\n",
       "      <td>0.0</td>\n",
       "      <td>0.0</td>\n",
       "      <td>0.0</td>\n",
       "      <td>1.0</td>\n",
       "      <td>1.0</td>\n",
       "    </tr>\n",
       "    <tr>\n",
       "      <th>ejection_fraction</th>\n",
       "      <td>299.0</td>\n",
       "      <td>38.083612</td>\n",
       "      <td>11.834841</td>\n",
       "      <td>14.0</td>\n",
       "      <td>30.0</td>\n",
       "      <td>38.0</td>\n",
       "      <td>45.0</td>\n",
       "      <td>80.0</td>\n",
       "    </tr>\n",
       "    <tr>\n",
       "      <th>serum_sodium</th>\n",
       "      <td>299.0</td>\n",
       "      <td>136.625418</td>\n",
       "      <td>4.412477</td>\n",
       "      <td>113.0</td>\n",
       "      <td>134.0</td>\n",
       "      <td>137.0</td>\n",
       "      <td>140.0</td>\n",
       "      <td>148.0</td>\n",
       "    </tr>\n",
       "    <tr>\n",
       "      <th>platelets</th>\n",
       "      <td>299.0</td>\n",
       "      <td>263358.029264</td>\n",
       "      <td>97804.236869</td>\n",
       "      <td>25100.0</td>\n",
       "      <td>212500.0</td>\n",
       "      <td>262000.0</td>\n",
       "      <td>303500.0</td>\n",
       "      <td>850000.0</td>\n",
       "    </tr>\n",
       "    <tr>\n",
       "      <th>creatinine_phosphokinase</th>\n",
       "      <td>299.0</td>\n",
       "      <td>581.839465</td>\n",
       "      <td>970.287881</td>\n",
       "      <td>23.0</td>\n",
       "      <td>116.5</td>\n",
       "      <td>250.0</td>\n",
       "      <td>582.0</td>\n",
       "      <td>7861.0</td>\n",
       "    </tr>\n",
       "    <tr>\n",
       "      <th>diabetes</th>\n",
       "      <td>299.0</td>\n",
       "      <td>0.418060</td>\n",
       "      <td>0.494067</td>\n",
       "      <td>0.0</td>\n",
       "      <td>0.0</td>\n",
       "      <td>0.0</td>\n",
       "      <td>1.0</td>\n",
       "      <td>1.0</td>\n",
       "    </tr>\n",
       "    <tr>\n",
       "      <th>serum_creatinine</th>\n",
       "      <td>299.0</td>\n",
       "      <td>1.393880</td>\n",
       "      <td>1.034510</td>\n",
       "      <td>0.5</td>\n",
       "      <td>0.9</td>\n",
       "      <td>1.1</td>\n",
       "      <td>1.4</td>\n",
       "      <td>9.4</td>\n",
       "    </tr>\n",
       "    <tr>\n",
       "      <th>anaemia</th>\n",
       "      <td>299.0</td>\n",
       "      <td>0.431438</td>\n",
       "      <td>0.496107</td>\n",
       "      <td>0.0</td>\n",
       "      <td>0.0</td>\n",
       "      <td>0.0</td>\n",
       "      <td>1.0</td>\n",
       "      <td>1.0</td>\n",
       "    </tr>\n",
       "    <tr>\n",
       "      <th>high_blood_pressure</th>\n",
       "      <td>299.0</td>\n",
       "      <td>0.351171</td>\n",
       "      <td>0.478136</td>\n",
       "      <td>0.0</td>\n",
       "      <td>0.0</td>\n",
       "      <td>0.0</td>\n",
       "      <td>1.0</td>\n",
       "      <td>1.0</td>\n",
       "    </tr>\n",
       "    <tr>\n",
       "      <th>age</th>\n",
       "      <td>299.0</td>\n",
       "      <td>60.833893</td>\n",
       "      <td>11.894809</td>\n",
       "      <td>40.0</td>\n",
       "      <td>51.0</td>\n",
       "      <td>60.0</td>\n",
       "      <td>70.0</td>\n",
       "      <td>95.0</td>\n",
       "    </tr>\n",
       "    <tr>\n",
       "      <th>sex</th>\n",
       "      <td>299.0</td>\n",
       "      <td>0.648829</td>\n",
       "      <td>0.478136</td>\n",
       "      <td>0.0</td>\n",
       "      <td>0.0</td>\n",
       "      <td>1.0</td>\n",
       "      <td>1.0</td>\n",
       "      <td>1.0</td>\n",
       "    </tr>\n",
       "    <tr>\n",
       "      <th>time</th>\n",
       "      <td>299.0</td>\n",
       "      <td>130.260870</td>\n",
       "      <td>77.614208</td>\n",
       "      <td>4.0</td>\n",
       "      <td>73.0</td>\n",
       "      <td>115.0</td>\n",
       "      <td>203.0</td>\n",
       "      <td>285.0</td>\n",
       "    </tr>\n",
       "    <tr>\n",
       "      <th>patient_outcome</th>\n",
       "      <td>299.0</td>\n",
       "      <td>0.321070</td>\n",
       "      <td>0.467670</td>\n",
       "      <td>0.0</td>\n",
       "      <td>0.0</td>\n",
       "      <td>0.0</td>\n",
       "      <td>1.0</td>\n",
       "      <td>1.0</td>\n",
       "    </tr>\n",
       "  </tbody>\n",
       "</table>\n",
       "</div>"
      ],
      "text/plain": [
       "                          count           mean           std      min  \\\n",
       "uniqueID                  299.0     149.000000     86.458082      0.0   \n",
       "smoking                   299.0       0.321070      0.467670      0.0   \n",
       "ejection_fraction         299.0      38.083612     11.834841     14.0   \n",
       "serum_sodium              299.0     136.625418      4.412477    113.0   \n",
       "platelets                 299.0  263358.029264  97804.236869  25100.0   \n",
       "creatinine_phosphokinase  299.0     581.839465    970.287881     23.0   \n",
       "diabetes                  299.0       0.418060      0.494067      0.0   \n",
       "serum_creatinine          299.0       1.393880      1.034510      0.5   \n",
       "anaemia                   299.0       0.431438      0.496107      0.0   \n",
       "high_blood_pressure       299.0       0.351171      0.478136      0.0   \n",
       "age                       299.0      60.833893     11.894809     40.0   \n",
       "sex                       299.0       0.648829      0.478136      0.0   \n",
       "time                      299.0     130.260870     77.614208      4.0   \n",
       "patient_outcome           299.0       0.321070      0.467670      0.0   \n",
       "\n",
       "                               25%       50%       75%       max  \n",
       "uniqueID                      74.5     149.0     223.5     298.0  \n",
       "smoking                        0.0       0.0       1.0       1.0  \n",
       "ejection_fraction             30.0      38.0      45.0      80.0  \n",
       "serum_sodium                 134.0     137.0     140.0     148.0  \n",
       "platelets                 212500.0  262000.0  303500.0  850000.0  \n",
       "creatinine_phosphokinase     116.5     250.0     582.0    7861.0  \n",
       "diabetes                       0.0       0.0       1.0       1.0  \n",
       "serum_creatinine               0.9       1.1       1.4       9.4  \n",
       "anaemia                        0.0       0.0       1.0       1.0  \n",
       "high_blood_pressure            0.0       0.0       1.0       1.0  \n",
       "age                           51.0      60.0      70.0      95.0  \n",
       "sex                            0.0       1.0       1.0       1.0  \n",
       "time                          73.0     115.0     203.0     285.0  \n",
       "patient_outcome                0.0       0.0       1.0       1.0  "
      ]
     },
     "execution_count": 7,
     "metadata": {},
     "output_type": "execute_result"
    }
   ],
   "source": [
    "#review summary statistics for all columns\n",
    "heart_failure_copy.describe().T"
   ]
  },
  {
   "cell_type": "markdown",
   "id": "fd33831c-fdd3-48ac-bd16-c8039ec59ada",
   "metadata": {},
   "source": [
    "- From the summary statistics above, most columns look as if they have normal distribution, however **creatinine phosphokinase (CPK)** and **serum creatinine** are significantly skewed: the range for these two columns are wider than the rest of the dataset.\n",
    "- Range for CPK: **7,838**\n",
    "- Range for serum creatinine: **8.9**"
   ]
  },
  {
   "cell_type": "code",
   "execution_count": 8,
   "id": "fe8d88a2-4db4-4c68-a110-5570e1168509",
   "metadata": {
    "executionTime": 1081,
    "lastSuccessfullyExecutedCode": "# Dropping time column as it is not needed here, has no bearing on heart failure death\nheart_failure_copy = heart_failure_copy.drop('time', axis = 1)\nheart_failure_copy.head()"
   },
   "outputs": [
    {
     "data": {
      "text/html": [
       "<div>\n",
       "<style scoped>\n",
       "    .dataframe tbody tr th:only-of-type {\n",
       "        vertical-align: middle;\n",
       "    }\n",
       "\n",
       "    .dataframe tbody tr th {\n",
       "        vertical-align: top;\n",
       "    }\n",
       "\n",
       "    .dataframe thead th {\n",
       "        text-align: right;\n",
       "    }\n",
       "</style>\n",
       "<table border=\"1\" class=\"dataframe\">\n",
       "  <thead>\n",
       "    <tr style=\"text-align: right;\">\n",
       "      <th></th>\n",
       "      <th>uniqueID</th>\n",
       "      <th>smoking</th>\n",
       "      <th>ejection_fraction</th>\n",
       "      <th>serum_sodium</th>\n",
       "      <th>platelets</th>\n",
       "      <th>creatinine_phosphokinase</th>\n",
       "      <th>diabetes</th>\n",
       "      <th>serum_creatinine</th>\n",
       "      <th>anaemia</th>\n",
       "      <th>high_blood_pressure</th>\n",
       "      <th>age</th>\n",
       "      <th>sex</th>\n",
       "      <th>patient_outcome</th>\n",
       "      <th>age_group</th>\n",
       "    </tr>\n",
       "  </thead>\n",
       "  <tbody>\n",
       "    <tr>\n",
       "      <th>0</th>\n",
       "      <td>0</td>\n",
       "      <td>0</td>\n",
       "      <td>20</td>\n",
       "      <td>130</td>\n",
       "      <td>265000.00</td>\n",
       "      <td>582</td>\n",
       "      <td>0</td>\n",
       "      <td>1.9</td>\n",
       "      <td>0</td>\n",
       "      <td>1</td>\n",
       "      <td>75.0</td>\n",
       "      <td>1</td>\n",
       "      <td>1</td>\n",
       "      <td>71 - 80</td>\n",
       "    </tr>\n",
       "    <tr>\n",
       "      <th>1</th>\n",
       "      <td>1</td>\n",
       "      <td>0</td>\n",
       "      <td>38</td>\n",
       "      <td>136</td>\n",
       "      <td>263358.03</td>\n",
       "      <td>7861</td>\n",
       "      <td>0</td>\n",
       "      <td>1.1</td>\n",
       "      <td>0</td>\n",
       "      <td>0</td>\n",
       "      <td>55.0</td>\n",
       "      <td>1</td>\n",
       "      <td>1</td>\n",
       "      <td>51 - 70</td>\n",
       "    </tr>\n",
       "    <tr>\n",
       "      <th>2</th>\n",
       "      <td>2</td>\n",
       "      <td>1</td>\n",
       "      <td>20</td>\n",
       "      <td>129</td>\n",
       "      <td>162000.00</td>\n",
       "      <td>146</td>\n",
       "      <td>0</td>\n",
       "      <td>1.3</td>\n",
       "      <td>0</td>\n",
       "      <td>0</td>\n",
       "      <td>65.0</td>\n",
       "      <td>1</td>\n",
       "      <td>1</td>\n",
       "      <td>51 - 70</td>\n",
       "    </tr>\n",
       "    <tr>\n",
       "      <th>3</th>\n",
       "      <td>3</td>\n",
       "      <td>0</td>\n",
       "      <td>20</td>\n",
       "      <td>137</td>\n",
       "      <td>210000.00</td>\n",
       "      <td>111</td>\n",
       "      <td>0</td>\n",
       "      <td>1.9</td>\n",
       "      <td>1</td>\n",
       "      <td>0</td>\n",
       "      <td>50.0</td>\n",
       "      <td>1</td>\n",
       "      <td>1</td>\n",
       "      <td>10 - 50</td>\n",
       "    </tr>\n",
       "    <tr>\n",
       "      <th>4</th>\n",
       "      <td>4</td>\n",
       "      <td>0</td>\n",
       "      <td>20</td>\n",
       "      <td>116</td>\n",
       "      <td>327000.00</td>\n",
       "      <td>160</td>\n",
       "      <td>1</td>\n",
       "      <td>2.7</td>\n",
       "      <td>1</td>\n",
       "      <td>0</td>\n",
       "      <td>65.0</td>\n",
       "      <td>0</td>\n",
       "      <td>1</td>\n",
       "      <td>51 - 70</td>\n",
       "    </tr>\n",
       "  </tbody>\n",
       "</table>\n",
       "</div>"
      ],
      "text/plain": [
       "   uniqueID  smoking  ejection_fraction  serum_sodium  platelets  \\\n",
       "0         0        0                 20           130  265000.00   \n",
       "1         1        0                 38           136  263358.03   \n",
       "2         2        1                 20           129  162000.00   \n",
       "3         3        0                 20           137  210000.00   \n",
       "4         4        0                 20           116  327000.00   \n",
       "\n",
       "   creatinine_phosphokinase  diabetes  serum_creatinine  anaemia  \\\n",
       "0                       582         0               1.9        0   \n",
       "1                      7861         0               1.1        0   \n",
       "2                       146         0               1.3        0   \n",
       "3                       111         0               1.9        1   \n",
       "4                       160         1               2.7        1   \n",
       "\n",
       "   high_blood_pressure   age  sex  patient_outcome age_group  \n",
       "0                    1  75.0    1                1   71 - 80  \n",
       "1                    0  55.0    1                1   51 - 70  \n",
       "2                    0  65.0    1                1   51 - 70  \n",
       "3                    0  50.0    1                1   10 - 50  \n",
       "4                    0  65.0    0                1   51 - 70  "
      ]
     },
     "execution_count": 8,
     "metadata": {},
     "output_type": "execute_result"
    }
   ],
   "source": [
    "# Dropping time column as it is not needed here, has no bearing on heart failure death\n",
    "heart_failure_copy = heart_failure_copy.drop('time', axis = 1)\n",
    "heart_failure_copy.head()"
   ]
  },
  {
   "cell_type": "code",
   "execution_count": 9,
   "id": "2e8489a5-76fe-4ea0-9f26-8fb3533e1520",
   "metadata": {
    "executionTime": 0,
    "lastSuccessfullyExecutedCode": "# Changing age datatype from float to int, do not need decimals in age variable\nheart_failure_copy.age = heart_failure_copy.age.astype(int)"
   },
   "outputs": [],
   "source": [
    "# Changing age datatype from float to int, do not need decimals in age variable\n",
    "heart_failure_copy.age = heart_failure_copy.age.astype(int)"
   ]
  },
  {
   "cell_type": "code",
   "execution_count": 10,
   "id": "dab1ee94-efd8-4cfe-b272-4ee489a9d803",
   "metadata": {
    "executionTime": 948,
    "lastSuccessfullyExecutedCode": "# Checking to make sure it worked\nheart_failure_copy.info()"
   },
   "outputs": [
    {
     "name": "stdout",
     "output_type": "stream",
     "text": [
      "<class 'pandas.core.frame.DataFrame'>\n",
      "RangeIndex: 299 entries, 0 to 298\n",
      "Data columns (total 14 columns):\n",
      " #   Column                    Non-Null Count  Dtype  \n",
      "---  ------                    --------------  -----  \n",
      " 0   uniqueID                  299 non-null    int64  \n",
      " 1   smoking                   299 non-null    int64  \n",
      " 2   ejection_fraction         299 non-null    int64  \n",
      " 3   serum_sodium              299 non-null    int64  \n",
      " 4   platelets                 299 non-null    float64\n",
      " 5   creatinine_phosphokinase  299 non-null    int64  \n",
      " 6   diabetes                  299 non-null    int64  \n",
      " 7   serum_creatinine          299 non-null    float64\n",
      " 8   anaemia                   299 non-null    int64  \n",
      " 9   high_blood_pressure       299 non-null    int64  \n",
      " 10  age                       299 non-null    int32  \n",
      " 11  sex                       299 non-null    int64  \n",
      " 12  patient_outcome           299 non-null    int64  \n",
      " 13  age_group                 299 non-null    object \n",
      "dtypes: float64(2), int32(1), int64(10), object(1)\n",
      "memory usage: 31.7+ KB\n"
     ]
    }
   ],
   "source": [
    "# Checking to make sure it worked\n",
    "heart_failure_copy.info()"
   ]
  },
  {
   "cell_type": "code",
   "execution_count": 11,
   "id": "a0489586-a978-4a95-8ace-2917f86dd0b6",
   "metadata": {
    "executionTime": 0,
    "lastSuccessfullyExecutedCode": "# Changing columns with boolean values for better visualization\n\n# Smoking column\nheart_failure_copy['smoking'] = heart_failure_copy['smoking'].replace({0:'No', 1:'Yes'})\n# Diabetes column\nheart_failure_copy['diabetes'] = heart_failure_copy['diabetes'].replace({0:'No', 1:'Yes'})\n# Anaemia column\nheart_failure_copy['anaemia'] = heart_failure_copy['anaemia'].replace({0:'No', 1:'Yes'})\n# High Blood Pressure column\nheart_failure_copy['high_blood_pressure'] = heart_failure_copy['high_blood_pressure'].replace({0:'No', 1:'Yes'})\n# Sex column\nheart_failure_copy['sex'] = heart_failure_copy['sex'].replace({0:'Female', 1:'Male'})\n# Patient Outcome column\nheart_failure_copy['patient_outcome'] = heart_failure_copy['patient_outcome'].replace({0:'Alive', 1:'Dead'})"
   },
   "outputs": [],
   "source": [
    "# Changing columns with boolean values for better visualization\n",
    "\n",
    "# Smoking column\n",
    "heart_failure_copy['smoking'] = heart_failure_copy['smoking'].replace({0:'No', 1:'Yes'})\n",
    "# Diabetes column\n",
    "heart_failure_copy['diabetes'] = heart_failure_copy['diabetes'].replace({0:'No', 1:'Yes'})\n",
    "# Anaemia column\n",
    "heart_failure_copy['anaemia'] = heart_failure_copy['anaemia'].replace({0:'No', 1:'Yes'})\n",
    "# High Blood Pressure column\n",
    "heart_failure_copy['high_blood_pressure'] = heart_failure_copy['high_blood_pressure'].replace({0:'No', 1:'Yes'})\n",
    "# Sex column\n",
    "heart_failure_copy['sex'] = heart_failure_copy['sex'].replace({0:'Female', 1:'Male'})\n",
    "# Patient Outcome column\n",
    "heart_failure_copy['patient_outcome'] = heart_failure_copy['patient_outcome'].replace({0:'Alive', 1:'Dead'})"
   ]
  },
  {
   "cell_type": "code",
   "execution_count": 12,
   "id": "4b6fbca0-5fa3-4dfd-a734-7fe8600b0cca",
   "metadata": {
    "executionTime": 849,
    "lastSuccessfullyExecutedCode": "# Checking to make sure all column info changed\nheart_failure_copy"
   },
   "outputs": [
    {
     "data": {
      "text/html": [
       "<div>\n",
       "<style scoped>\n",
       "    .dataframe tbody tr th:only-of-type {\n",
       "        vertical-align: middle;\n",
       "    }\n",
       "\n",
       "    .dataframe tbody tr th {\n",
       "        vertical-align: top;\n",
       "    }\n",
       "\n",
       "    .dataframe thead th {\n",
       "        text-align: right;\n",
       "    }\n",
       "</style>\n",
       "<table border=\"1\" class=\"dataframe\">\n",
       "  <thead>\n",
       "    <tr style=\"text-align: right;\">\n",
       "      <th></th>\n",
       "      <th>uniqueID</th>\n",
       "      <th>smoking</th>\n",
       "      <th>ejection_fraction</th>\n",
       "      <th>serum_sodium</th>\n",
       "      <th>platelets</th>\n",
       "      <th>creatinine_phosphokinase</th>\n",
       "      <th>diabetes</th>\n",
       "      <th>serum_creatinine</th>\n",
       "      <th>anaemia</th>\n",
       "      <th>high_blood_pressure</th>\n",
       "      <th>age</th>\n",
       "      <th>sex</th>\n",
       "      <th>patient_outcome</th>\n",
       "      <th>age_group</th>\n",
       "    </tr>\n",
       "  </thead>\n",
       "  <tbody>\n",
       "    <tr>\n",
       "      <th>0</th>\n",
       "      <td>0</td>\n",
       "      <td>No</td>\n",
       "      <td>20</td>\n",
       "      <td>130</td>\n",
       "      <td>265000.00</td>\n",
       "      <td>582</td>\n",
       "      <td>No</td>\n",
       "      <td>1.9</td>\n",
       "      <td>No</td>\n",
       "      <td>Yes</td>\n",
       "      <td>75</td>\n",
       "      <td>Male</td>\n",
       "      <td>Dead</td>\n",
       "      <td>71 - 80</td>\n",
       "    </tr>\n",
       "    <tr>\n",
       "      <th>1</th>\n",
       "      <td>1</td>\n",
       "      <td>No</td>\n",
       "      <td>38</td>\n",
       "      <td>136</td>\n",
       "      <td>263358.03</td>\n",
       "      <td>7861</td>\n",
       "      <td>No</td>\n",
       "      <td>1.1</td>\n",
       "      <td>No</td>\n",
       "      <td>No</td>\n",
       "      <td>55</td>\n",
       "      <td>Male</td>\n",
       "      <td>Dead</td>\n",
       "      <td>51 - 70</td>\n",
       "    </tr>\n",
       "    <tr>\n",
       "      <th>2</th>\n",
       "      <td>2</td>\n",
       "      <td>Yes</td>\n",
       "      <td>20</td>\n",
       "      <td>129</td>\n",
       "      <td>162000.00</td>\n",
       "      <td>146</td>\n",
       "      <td>No</td>\n",
       "      <td>1.3</td>\n",
       "      <td>No</td>\n",
       "      <td>No</td>\n",
       "      <td>65</td>\n",
       "      <td>Male</td>\n",
       "      <td>Dead</td>\n",
       "      <td>51 - 70</td>\n",
       "    </tr>\n",
       "    <tr>\n",
       "      <th>3</th>\n",
       "      <td>3</td>\n",
       "      <td>No</td>\n",
       "      <td>20</td>\n",
       "      <td>137</td>\n",
       "      <td>210000.00</td>\n",
       "      <td>111</td>\n",
       "      <td>No</td>\n",
       "      <td>1.9</td>\n",
       "      <td>Yes</td>\n",
       "      <td>No</td>\n",
       "      <td>50</td>\n",
       "      <td>Male</td>\n",
       "      <td>Dead</td>\n",
       "      <td>10 - 50</td>\n",
       "    </tr>\n",
       "    <tr>\n",
       "      <th>4</th>\n",
       "      <td>4</td>\n",
       "      <td>No</td>\n",
       "      <td>20</td>\n",
       "      <td>116</td>\n",
       "      <td>327000.00</td>\n",
       "      <td>160</td>\n",
       "      <td>Yes</td>\n",
       "      <td>2.7</td>\n",
       "      <td>Yes</td>\n",
       "      <td>No</td>\n",
       "      <td>65</td>\n",
       "      <td>Female</td>\n",
       "      <td>Dead</td>\n",
       "      <td>51 - 70</td>\n",
       "    </tr>\n",
       "    <tr>\n",
       "      <th>...</th>\n",
       "      <td>...</td>\n",
       "      <td>...</td>\n",
       "      <td>...</td>\n",
       "      <td>...</td>\n",
       "      <td>...</td>\n",
       "      <td>...</td>\n",
       "      <td>...</td>\n",
       "      <td>...</td>\n",
       "      <td>...</td>\n",
       "      <td>...</td>\n",
       "      <td>...</td>\n",
       "      <td>...</td>\n",
       "      <td>...</td>\n",
       "      <td>...</td>\n",
       "    </tr>\n",
       "    <tr>\n",
       "      <th>294</th>\n",
       "      <td>294</td>\n",
       "      <td>Yes</td>\n",
       "      <td>38</td>\n",
       "      <td>143</td>\n",
       "      <td>155000.00</td>\n",
       "      <td>61</td>\n",
       "      <td>Yes</td>\n",
       "      <td>1.1</td>\n",
       "      <td>No</td>\n",
       "      <td>Yes</td>\n",
       "      <td>62</td>\n",
       "      <td>Male</td>\n",
       "      <td>Alive</td>\n",
       "      <td>51 - 70</td>\n",
       "    </tr>\n",
       "    <tr>\n",
       "      <th>295</th>\n",
       "      <td>295</td>\n",
       "      <td>No</td>\n",
       "      <td>38</td>\n",
       "      <td>139</td>\n",
       "      <td>270000.00</td>\n",
       "      <td>1820</td>\n",
       "      <td>No</td>\n",
       "      <td>1.2</td>\n",
       "      <td>No</td>\n",
       "      <td>No</td>\n",
       "      <td>55</td>\n",
       "      <td>Female</td>\n",
       "      <td>Alive</td>\n",
       "      <td>51 - 70</td>\n",
       "    </tr>\n",
       "    <tr>\n",
       "      <th>296</th>\n",
       "      <td>296</td>\n",
       "      <td>No</td>\n",
       "      <td>60</td>\n",
       "      <td>138</td>\n",
       "      <td>742000.00</td>\n",
       "      <td>2060</td>\n",
       "      <td>Yes</td>\n",
       "      <td>0.8</td>\n",
       "      <td>No</td>\n",
       "      <td>No</td>\n",
       "      <td>45</td>\n",
       "      <td>Female</td>\n",
       "      <td>Alive</td>\n",
       "      <td>10 - 50</td>\n",
       "    </tr>\n",
       "    <tr>\n",
       "      <th>297</th>\n",
       "      <td>297</td>\n",
       "      <td>Yes</td>\n",
       "      <td>38</td>\n",
       "      <td>140</td>\n",
       "      <td>140000.00</td>\n",
       "      <td>2413</td>\n",
       "      <td>No</td>\n",
       "      <td>1.4</td>\n",
       "      <td>No</td>\n",
       "      <td>No</td>\n",
       "      <td>45</td>\n",
       "      <td>Male</td>\n",
       "      <td>Alive</td>\n",
       "      <td>10 - 50</td>\n",
       "    </tr>\n",
       "    <tr>\n",
       "      <th>298</th>\n",
       "      <td>298</td>\n",
       "      <td>Yes</td>\n",
       "      <td>45</td>\n",
       "      <td>136</td>\n",
       "      <td>395000.00</td>\n",
       "      <td>196</td>\n",
       "      <td>No</td>\n",
       "      <td>1.6</td>\n",
       "      <td>No</td>\n",
       "      <td>No</td>\n",
       "      <td>50</td>\n",
       "      <td>Male</td>\n",
       "      <td>Alive</td>\n",
       "      <td>10 - 50</td>\n",
       "    </tr>\n",
       "  </tbody>\n",
       "</table>\n",
       "<p>299 rows × 14 columns</p>\n",
       "</div>"
      ],
      "text/plain": [
       "     uniqueID smoking  ejection_fraction  serum_sodium  platelets  \\\n",
       "0           0      No                 20           130  265000.00   \n",
       "1           1      No                 38           136  263358.03   \n",
       "2           2     Yes                 20           129  162000.00   \n",
       "3           3      No                 20           137  210000.00   \n",
       "4           4      No                 20           116  327000.00   \n",
       "..        ...     ...                ...           ...        ...   \n",
       "294       294     Yes                 38           143  155000.00   \n",
       "295       295      No                 38           139  270000.00   \n",
       "296       296      No                 60           138  742000.00   \n",
       "297       297     Yes                 38           140  140000.00   \n",
       "298       298     Yes                 45           136  395000.00   \n",
       "\n",
       "     creatinine_phosphokinase diabetes  serum_creatinine anaemia  \\\n",
       "0                         582       No               1.9      No   \n",
       "1                        7861       No               1.1      No   \n",
       "2                         146       No               1.3      No   \n",
       "3                         111       No               1.9     Yes   \n",
       "4                         160      Yes               2.7     Yes   \n",
       "..                        ...      ...               ...     ...   \n",
       "294                        61      Yes               1.1      No   \n",
       "295                      1820       No               1.2      No   \n",
       "296                      2060      Yes               0.8      No   \n",
       "297                      2413       No               1.4      No   \n",
       "298                       196       No               1.6      No   \n",
       "\n",
       "    high_blood_pressure  age     sex patient_outcome age_group  \n",
       "0                   Yes   75    Male            Dead   71 - 80  \n",
       "1                    No   55    Male            Dead   51 - 70  \n",
       "2                    No   65    Male            Dead   51 - 70  \n",
       "3                    No   50    Male            Dead   10 - 50  \n",
       "4                    No   65  Female            Dead   51 - 70  \n",
       "..                  ...  ...     ...             ...       ...  \n",
       "294                 Yes   62    Male           Alive   51 - 70  \n",
       "295                  No   55  Female           Alive   51 - 70  \n",
       "296                  No   45  Female           Alive   10 - 50  \n",
       "297                  No   45    Male           Alive   10 - 50  \n",
       "298                  No   50    Male           Alive   10 - 50  \n",
       "\n",
       "[299 rows x 14 columns]"
      ]
     },
     "execution_count": 12,
     "metadata": {},
     "output_type": "execute_result"
    }
   ],
   "source": [
    "# Checking to make sure all column info changed\n",
    "heart_failure_copy"
   ]
  },
  {
   "cell_type": "code",
   "execution_count": 13,
   "id": "f3c99428-dfce-4ff1-8821-5a0446635faa",
   "metadata": {
    "executionTime": 613,
    "lastSuccessfullyExecutedCode": "# Double checking for null (NaN) values\nheart_failure_copy.isnull().any()"
   },
   "outputs": [
    {
     "data": {
      "text/plain": [
       "uniqueID                    False\n",
       "smoking                     False\n",
       "ejection_fraction           False\n",
       "serum_sodium                False\n",
       "platelets                   False\n",
       "creatinine_phosphokinase    False\n",
       "diabetes                    False\n",
       "serum_creatinine            False\n",
       "anaemia                     False\n",
       "high_blood_pressure         False\n",
       "age                         False\n",
       "sex                         False\n",
       "patient_outcome             False\n",
       "age_group                   False\n",
       "dtype: bool"
      ]
     },
     "execution_count": 13,
     "metadata": {},
     "output_type": "execute_result"
    }
   ],
   "source": [
    "# Double checking for null (NaN) values\n",
    "heart_failure_copy.isnull().any()"
   ]
  },
  {
   "cell_type": "markdown",
   "id": "9b652f1a-47b6-4e48-8d88-023c92ea069d",
   "metadata": {},
   "source": [
    "- No null (NaN) values detected."
   ]
  },
  {
   "cell_type": "markdown",
   "id": "9df899d3-6e07-452d-a8bb-52176c7a851a",
   "metadata": {},
   "source": [
    "### Analyzing and Visualizing previous Boolean columns"
   ]
  },
  {
   "cell_type": "code",
   "execution_count": 14,
   "id": "70858232-d493-4af7-a0ed-6131bf4b80f6",
   "metadata": {
    "executionTime": 493,
    "lastSuccessfullyExecutedCode": "#gender distribution\nheart_failure_copy.sex.value_counts()"
   },
   "outputs": [
    {
     "data": {
      "text/plain": [
       "Male      194\n",
       "Female    105\n",
       "Name: sex, dtype: int64"
      ]
     },
     "execution_count": 14,
     "metadata": {},
     "output_type": "execute_result"
    }
   ],
   "source": [
    "#gender distribution\n",
    "heart_failure_copy.sex.value_counts()"
   ]
  },
  {
   "cell_type": "code",
   "execution_count": 15,
   "id": "f4cfe980-c594-4b80-a801-7b59dbcd0e32",
   "metadata": {
    "executionTime": 488,
    "lastSuccessfullyExecutedCode": "gender = heart_failure_df.sex.value_counts()\nplt.figure(figsize = (12, 6))\nplt.pie(gender, labels = [\"Male\", \"Female\"], autopct = '%.2f%%', startangle = 90, colors = ['tab:blue', 'tab:pink'], explode=[0.1, 0],)\nplt.title(\"Percent of Gender\");"
   },
   "outputs": [
    {
     "data": {
      "image/png": "[encoded data removed]",
      "text/plain": [
       "<Figure size 864x432 with 1 Axes>"
      ]
     },
     "metadata": {},
     "output_type": "display_data"
    }
   ],
   "source": [
    "gender = heart_failure_df.sex.value_counts()\n",
    "plt.figure(figsize = (12, 6))\n",
    "plt.pie(gender, labels = [\"Male\", \"Female\"], autopct = '%.2f%%', startangle = 90, colors = ['tab:blue', 'tab:pink'], explode=[0.1, 0],)\n",
    "plt.title(\"Percent of Gender\");"
   ]
  },
  {
   "cell_type": "markdown",
   "id": "7748bae7-c822-42c8-8ab9-8cb2bbdc20d6",
   "metadata": {},
   "source": [
    "The dataset is imbalanced in that there are **89** more males than females; **1.83 times** more. This would be worth investigating further as to whether or not more males responded than females, or if heart failure is more predominant in males than it is in females.\n",
    "\n",
    "- **64.88%** males\n",
    "- **35.12%** females"
   ]
  },
  {
   "cell_type": "code",
   "execution_count": 16,
   "id": "1beda3d5-9e6c-4e81-ba49-f73e3c9648ea",
   "metadata": {
    "executionTime": 613,
    "lastSuccessfullyExecutedCode": "#death rate distribution\nheart_failure_copy.patient_outcome.value_counts()"
   },
   "outputs": [
    {
     "data": {
      "text/plain": [
       "Alive    203\n",
       "Dead      96\n",
       "Name: patient_outcome, dtype: int64"
      ]
     },
     "execution_count": 16,
     "metadata": {},
     "output_type": "execute_result"
    }
   ],
   "source": [
    "#death rate distribution\n",
    "heart_failure_copy.patient_outcome.value_counts()"
   ]
  },
  {
   "cell_type": "code",
   "execution_count": 17,
   "id": "eb4c29a5-d866-4b01-a4d5-38baf469bafd",
   "metadata": {
    "executionTime": 567,
    "lastSuccessfullyExecutedCode": "death = heart_failure_df.patient_outcome.value_counts()\nplt.figure(figsize = (12, 6))\nplt.pie(death, labels = [\"Alive\", \"Dead\"], autopct = '%.2f%%', startangle = 90, colors = ['tab:blue', 'tab:orange'], explode=[0.1, 0],)\nplt.title(\"Percent of Patient Outcome\");"
   },
   "outputs": [
    {
     "data": {
      "image/png": "[encoded data removed]",
      "text/plain": [
       "<Figure size 864x432 with 1 Axes>"
      ]
     },
     "metadata": {},
     "output_type": "display_data"
    }
   ],
   "source": [
    "death = heart_failure_df.patient_outcome.value_counts()\n",
    "plt.figure(figsize = (12, 6))\n",
    "plt.pie(death, labels = [\"Alive\", \"Dead\"], autopct = '%.2f%%', startangle = 90, colors = ['tab:blue', 'tab:orange'], explode=[0.1, 0],)\n",
    "plt.title(\"Percent of Patient Outcome\");"
   ]
  },
  {
   "cell_type": "markdown",
   "id": "d5acf193-0d98-4dd7-acb9-de8a0a2d9301",
   "metadata": {},
   "source": [
    "The ratio of patients who have died compared to those that were alive during the follow up period is promising: patients were alive more than **47.29%** compared to those that died.\n",
    "\n",
    "- **32.11%** dead\n",
    "- **67.89%** alive"
   ]
  },
  {
   "cell_type": "code",
   "execution_count": 18,
   "id": "a2ebe853-7ad5-4916-8524-d664b18d8fea",
   "metadata": {
    "executionTime": 578,
    "lastSuccessfullyExecutedCode": "#death vs sex distribution\nsns.countplot(x = \"patient_outcome\", data = heart_failure_copy, hue = \"sex\", palette = ['tab:blue', 'tab:pink'])\nplt.xlabel('Patient Outcome')\nplt.title('Patient Outcome per Sex')\nplt.show()"
   },
   "outputs": [
    {
     "data": {
      "image/png": "[encoded data removed]",
      "text/plain": [
       "<Figure size 432x288 with 1 Axes>"
      ]
     },
     "metadata": {
      "needs_background": "light"
     },
     "output_type": "display_data"
    }
   ],
   "source": [
    "#death vs sex distribution\n",
    "sns.countplot(x = \"patient_outcome\", data = heart_failure_copy, hue = \"sex\", palette = ['tab:blue', 'tab:pink'])\n",
    "plt.xlabel('Patient Outcome')\n",
    "plt.title('Patient Outcome per Sex')\n",
    "plt.show()"
   ]
  },
  {
   "cell_type": "markdown",
   "id": "3ab4a2ae-73de-4d07-bd7f-c7be9d857a35",
   "metadata": {},
   "source": [
    "The data is a bit imbalanced due to having almost twice as many men as women patients. More females were alive during the follow up period compared to males that died, but we cannot say for certain if this an entirely accurate representation of all patients with heart failure due to the imbalance of sex."
   ]
  },
  {
   "cell_type": "code",
   "execution_count": 19,
   "id": "a3487ee9-6ee5-4bc7-a38f-0519046999d5",
   "metadata": {
    "executionTime": 617,
    "lastSuccessfullyExecutedCode": "#number of males that died\nmale_dead = heart_failure_copy[(heart_failure_copy['sex'] == 'Male') & (heart_failure_copy['patient_outcome'] == 'Dead')]\ncount_male_dead = len(male_dead)\nprint(\"Number of males that died:\",count_male_dead)"
   },
   "outputs": [
    {
     "name": "stdout",
     "output_type": "stream",
     "text": [
      "Number of males that died: 62\n"
     ]
    }
   ],
   "source": [
    "#number of males that died\n",
    "male_dead = heart_failure_copy[(heart_failure_copy['sex'] == 'Male') & (heart_failure_copy['patient_outcome'] == 'Dead')]\n",
    "count_male_dead = len(male_dead)\n",
    "print(\"Number of males that died:\",count_male_dead)"
   ]
  },
  {
   "cell_type": "code",
   "execution_count": 20,
   "id": "f8b8ec72-3f4d-4ddf-9f54-88a076857cba",
   "metadata": {
    "executionTime": 553,
    "lastSuccessfullyExecutedCode": "#number of females that are alive\nfemale_alive = heart_failure_copy[(heart_failure_copy['sex'] == 'Female') & (heart_failure_copy['patient_outcome'] == 'Alive')]\ncount_female_alive = len(female_alive)\nprint(\"Number of females that are alive:\",count_female_alive)"
   },
   "outputs": [
    {
     "name": "stdout",
     "output_type": "stream",
     "text": [
      "Number of females that are alive: 71\n"
     ]
    }
   ],
   "source": [
    "#number of females that are alive\n",
    "female_alive = heart_failure_copy[(heart_failure_copy['sex'] == 'Female') & (heart_failure_copy['patient_outcome'] == 'Alive')]\n",
    "count_female_alive = len(female_alive)\n",
    "print(\"Number of females that are alive:\",count_female_alive)"
   ]
  },
  {
   "cell_type": "markdown",
   "id": "ee68db11-30a9-4891-a5d4-e85cd7fc746a",
   "metadata": {},
   "source": [
    "- There are only **9** more females that were counted as alive compared to males that died during the follow up period."
   ]
  },
  {
   "cell_type": "code",
   "execution_count": 21,
   "id": "f4540c8b-d157-4c3d-b866-624d60b20ee2",
   "metadata": {
    "executionTime": 487,
    "lastSuccessfullyExecutedCode": "#smoking distribution\nheart_failure_copy.smoking.value_counts()"
   },
   "outputs": [
    {
     "data": {
      "text/plain": [
       "No     203\n",
       "Yes     96\n",
       "Name: smoking, dtype: int64"
      ]
     },
     "execution_count": 21,
     "metadata": {},
     "output_type": "execute_result"
    }
   ],
   "source": [
    "#smoking distribution\n",
    "heart_failure_copy.smoking.value_counts()"
   ]
  },
  {
   "cell_type": "code",
   "execution_count": 22,
   "id": "db620f4b-6907-4496-835e-b8fa0cd67fb3",
   "metadata": {
    "executionTime": 496,
    "lastSuccessfullyExecutedCode": "smoke = heart_failure_df.smoking.value_counts()\nplt.figure(figsize = (12, 6))\nplt.pie(smoke, labels = [\"Non-Smoker\", \"Smoker\"], autopct = '%.2f%%', startangle = 90, colors = ['tab:blue', 'tab:orange'], explode=[0.1, 0],)\nplt.title(\"Percent of Smokers vs Non-Smokers\");"
   },
   "outputs": [
    {
     "data": {
      "image/png": "[encoded data removed]",
      "text/plain": [
       "<Figure size 864x432 with 1 Axes>"
      ]
     },
     "metadata": {},
     "output_type": "display_data"
    }
   ],
   "source": [
    "smoke = heart_failure_df.smoking.value_counts()\n",
    "plt.figure(figsize = (12, 6))\n",
    "plt.pie(smoke, labels = [\"Non-Smoker\", \"Smoker\"], autopct = '%.2f%%', startangle = 90, colors = ['tab:blue', 'tab:orange'], explode=[0.1, 0],)\n",
    "plt.title(\"Percent of Smokers vs Non-Smokers\");"
   ]
  },
  {
   "cell_type": "markdown",
   "id": "7a303cbc-a048-49a5-9b3c-3cf3c082f5ac",
   "metadata": {},
   "source": [
    "- Interesting find: the number of individuals that smoke is the exact same number of individuals that died!\n",
    "\n",
    "The dataset has **2.11** times more smokers than non-smokers, yet there are significantly less deaths than one would expect from this statistic. This is another variable worth investigating further."
   ]
  },
  {
   "cell_type": "code",
   "execution_count": 23,
   "id": "e265725a-ec7d-40ef-810e-4162212f2aaf",
   "metadata": {
    "executionTime": 475,
    "lastSuccessfullyExecutedCode": "#number of smokers that died\nsmoker_dead = heart_failure_copy[(heart_failure_copy['smoking'] == 'Yes') & (heart_failure_copy['patient_outcome'] == 'Dead')]\ncount_smoker_dead = len(smoker_dead)\nprint(\"Number of smokers that died:\",count_smoker_dead)"
   },
   "outputs": [
    {
     "name": "stdout",
     "output_type": "stream",
     "text": [
      "Number of smokers that died: 30\n"
     ]
    }
   ],
   "source": [
    "#number of smokers that died\n",
    "smoker_dead = heart_failure_copy[(heart_failure_copy['smoking'] == 'Yes') & (heart_failure_copy['patient_outcome'] == 'Dead')]\n",
    "count_smoker_dead = len(smoker_dead)\n",
    "print(\"Number of smokers that died:\",count_smoker_dead)"
   ]
  },
  {
   "cell_type": "code",
   "execution_count": 24,
   "id": "a3995782-4124-45df-9cdd-188636b2b631",
   "metadata": {
    "executionTime": 573,
    "lastSuccessfullyExecutedCode": "#number of smokers alive\nsmoker_alive = heart_failure_copy[(heart_failure_copy['smoking'] == 'Yes') & (heart_failure_copy['patient_outcome'] == 'Alive')]\ncount_smoker_alive = len(smoker_alive)\nprint(\"Number of smokers that are alive:\",count_smoker_alive)"
   },
   "outputs": [
    {
     "name": "stdout",
     "output_type": "stream",
     "text": [
      "Number of smokers that are alive: 66\n"
     ]
    }
   ],
   "source": [
    "#number of smokers alive\n",
    "smoker_alive = heart_failure_copy[(heart_failure_copy['smoking'] == 'Yes') & (heart_failure_copy['patient_outcome'] == 'Alive')]\n",
    "count_smoker_alive = len(smoker_alive)\n",
    "print(\"Number of smokers that are alive:\",count_smoker_alive)"
   ]
  },
  {
   "cell_type": "markdown",
   "id": "169d71b6-a906-47db-82c4-3abb8e77905d",
   "metadata": {},
   "source": [
    "It is interesting to see that, while the number of smokers is the exact same number of patients that died, not all smokers died during the collection of this data.\n",
    "\n",
    "- **31.25%** of smokers died\n",
    "- **68.75%** of smokers are alive\n",
    "\n",
    "There were **45.45%** more smoking patients alive during the follow up period than smokers that died: 2.2 times more smokers alive than dead."
   ]
  },
  {
   "cell_type": "markdown",
   "id": "1bae5803-5fe4-4f4c-958e-f685c9f5624d",
   "metadata": {},
   "source": [
    "It would be safe to add a temporary conclusion that smoking did not have a primary effect on patient outcome due to heart failure in this dataset. However, further investigation into other variables included here, then cross-referencing them to smokers vs non-smokers would be helpful in finding trends on whether or not smoking can kill heart failure patients with underlying conditions."
   ]
  },
  {
   "cell_type": "code",
   "execution_count": 25,
   "id": "be86a566-bb57-4017-b89f-51eb4d7ad0eb",
   "metadata": {
    "executionTime": 738,
    "lastSuccessfullyExecutedCode": "#diabetic distribution\nheart_failure_copy.diabetes.value_counts()"
   },
   "outputs": [
    {
     "data": {
      "text/plain": [
       "No     174\n",
       "Yes    125\n",
       "Name: diabetes, dtype: int64"
      ]
     },
     "execution_count": 25,
     "metadata": {},
     "output_type": "execute_result"
    }
   ],
   "source": [
    "#diabetic distribution\n",
    "heart_failure_copy.diabetes.value_counts()"
   ]
  },
  {
   "cell_type": "code",
   "execution_count": 26,
   "id": "2aa4811a-1c31-48ec-9a7e-3b01ab2873f1",
   "metadata": {
    "executionTime": 488,
    "lastSuccessfullyExecutedCode": "diabetic = heart_failure_df.diabetes.value_counts()\nplt.figure(figsize = (12, 6))\nplt.pie(diabetic, labels = [\"Non-Diabetic\", \"Diabetic\"], autopct = '%.2f%%', startangle = 90, colors = ['tab:blue', 'tab:orange'], explode=[0.1, 0],)\nplt.title(\"Percent of Diabetics vs Non-Diabetics\");"
   },
   "outputs": [
    {
     "data": {
      "image/png": "[encoded data removed]",
      "text/plain": [
       "<Figure size 864x432 with 1 Axes>"
      ]
     },
     "metadata": {},
     "output_type": "display_data"
    }
   ],
   "source": [
    "diabetic = heart_failure_df.diabetes.value_counts()\n",
    "plt.figure(figsize = (12, 6))\n",
    "plt.pie(diabetic, labels = [\"Non-Diabetic\", \"Diabetic\"], autopct = '%.2f%%', startangle = 90, colors = ['tab:blue', 'tab:orange'], explode=[0.1, 0],)\n",
    "plt.title(\"Percent of Diabetics vs Non-Diabetics\");"
   ]
  },
  {
   "cell_type": "markdown",
   "id": "17d5c9f4-6006-4bff-8555-8e58bc7b69bd",
   "metadata": {},
   "source": [
    "There are **1.39 times** more non-diabetics compared to people diagnosed with diabetes.\n",
    "\n",
    "- **58.19%** non-diabetics\n",
    "- **41.81%** have diabetes"
   ]
  },
  {
   "cell_type": "code",
   "execution_count": 27,
   "id": "234f8e37-ac25-41ad-bcb3-e73195bee20a",
   "metadata": {
    "executionTime": 475,
    "lastSuccessfullyExecutedCode": "#anemia distribution\nheart_failure_copy.anaemia.value_counts()"
   },
   "outputs": [
    {
     "data": {
      "text/plain": [
       "No     170\n",
       "Yes    129\n",
       "Name: anaemia, dtype: int64"
      ]
     },
     "execution_count": 27,
     "metadata": {},
     "output_type": "execute_result"
    }
   ],
   "source": [
    "#anemia distribution\n",
    "heart_failure_copy.anaemia.value_counts()"
   ]
  },
  {
   "cell_type": "code",
   "execution_count": 28,
   "id": "411b3207-afeb-414c-aea5-197d434d330d",
   "metadata": {
    "executionTime": 473,
    "lastSuccessfullyExecutedCode": "anemia = heart_failure_df.anaemia.value_counts()\nplt.figure(figsize = (12, 6))\nplt.pie(anemia, labels = [\"Non-Anemic\", \"Anemic\"], autopct = '%.2f%%', startangle = 90, colors = ['tab:blue', 'tab:orange'], explode=[0.1, 0],)\nplt.title(\"Percent of Anemics vs Non-Anemics\");"
   },
   "outputs": [
    {
     "data": {
      "image/png": "[encoded data removed]",
      "text/plain": [
       "<Figure size 864x432 with 1 Axes>"
      ]
     },
     "metadata": {},
     "output_type": "display_data"
    }
   ],
   "source": [
    "anemia = heart_failure_df.anaemia.value_counts()\n",
    "plt.figure(figsize = (12, 6))\n",
    "plt.pie(anemia, labels = [\"Non-Anemic\", \"Anemic\"], autopct = '%.2f%%', startangle = 90, colors = ['tab:blue', 'tab:orange'], explode=[0.1, 0],)\n",
    "plt.title(\"Percent of Anemics vs Non-Anemics\");"
   ]
  },
  {
   "cell_type": "markdown",
   "id": "95ae9307-ccce-486c-a586-36fa7f6709de",
   "metadata": {},
   "source": [
    "There are **1.32 times** more people without anemia than those with anemia.\n",
    "\n",
    "- **56.86%** do not have anemia\n",
    "- **43.14%** have anemia"
   ]
  },
  {
   "cell_type": "code",
   "execution_count": 29,
   "id": "723b5a2b-c667-4d67-bc72-5cbace0af44e",
   "metadata": {
    "executionTime": 499,
    "lastSuccessfullyExecutedCode": "#high blood pressure distribution\nheart_failure_copy.high_blood_pressure.value_counts()"
   },
   "outputs": [
    {
     "data": {
      "text/plain": [
       "No     194\n",
       "Yes    105\n",
       "Name: high_blood_pressure, dtype: int64"
      ]
     },
     "execution_count": 29,
     "metadata": {},
     "output_type": "execute_result"
    }
   ],
   "source": [
    "#high blood pressure distribution\n",
    "heart_failure_copy.high_blood_pressure.value_counts()"
   ]
  },
  {
   "cell_type": "code",
   "execution_count": 30,
   "id": "9acec92f-2478-4408-a211-62aaebea3672",
   "metadata": {
    "executionTime": 569,
    "lastSuccessfullyExecutedCode": "hbp = heart_failure_df.high_blood_pressure.value_counts()\nplt.figure(figsize = (12, 6))\nplt.pie(hbp, labels = [\"Does Not Have Has High Blood Pressure\", \"High Blood Pressure\"], autopct = '%.2f%%', startangle = 90, colors = ['tab:blue', 'tab:orange'], explode=[0.1, 0],)\nplt.title(\"Has High Blood Pressure vs Does Not Have High Blood Pressure\");"
   },
   "outputs": [
    {
     "data": {
      "image/png": "[encoded data removed]",
      "text/plain": [
       "<Figure size 864x432 with 1 Axes>"
      ]
     },
     "metadata": {},
     "output_type": "display_data"
    }
   ],
   "source": [
    "hbp = heart_failure_df.high_blood_pressure.value_counts()\n",
    "plt.figure(figsize = (12, 6))\n",
    "plt.pie(hbp, labels = [\"Does Not Have Has High Blood Pressure\", \"High Blood Pressure\"], autopct = '%.2f%%', startangle = 90, colors = ['tab:blue', 'tab:orange'], explode=[0.1, 0],)\n",
    "plt.title(\"Has High Blood Pressure vs Does Not Have High Blood Pressure\");"
   ]
  },
  {
   "cell_type": "markdown",
   "id": "3b5dda6c-4fce-4475-a312-250ee9506abf",
   "metadata": {},
   "source": [
    "There are **1.85 times** more people that do not have high blood pressure compared to those that do.\n",
    "\n",
    "- **64.88%** do not have high blood pressure\n",
    "- **35.12%** do have high blood pressure"
   ]
  },
  {
   "cell_type": "code",
   "execution_count": 31,
   "id": "3e070bda-8404-472e-9ff4-28677a6bd8c3",
   "metadata": {
    "executionTime": 716,
    "lastSuccessfullyExecutedCode": "#age distribution\nheart_failure_copy.age.value_counts()"
   },
   "outputs": [
    {
     "data": {
      "text/plain": [
       "60    35\n",
       "50    27\n",
       "65    26\n",
       "70    25\n",
       "45    19\n",
       "55    17\n",
       "75    11\n",
       "58    10\n",
       "53    10\n",
       "63     8\n",
       "42     7\n",
       "40     7\n",
       "72     7\n",
       "80     7\n",
       "85     6\n",
       "52     5\n",
       "68     5\n",
       "62     5\n",
       "49     4\n",
       "61     4\n",
       "59     4\n",
       "73     4\n",
       "51     4\n",
       "64     3\n",
       "46     3\n",
       "69     3\n",
       "82     3\n",
       "90     3\n",
       "66     2\n",
       "78     2\n",
       "54     2\n",
       "77     2\n",
       "57     2\n",
       "44     2\n",
       "67     2\n",
       "95     2\n",
       "48     2\n",
       "43     1\n",
       "86     1\n",
       "81     1\n",
       "79     1\n",
       "41     1\n",
       "94     1\n",
       "87     1\n",
       "47     1\n",
       "56     1\n",
       "Name: age, dtype: int64"
      ]
     },
     "execution_count": 31,
     "metadata": {},
     "output_type": "execute_result"
    }
   ],
   "source": [
    "#age distribution\n",
    "heart_failure_copy.age.value_counts()"
   ]
  },
  {
   "cell_type": "code",
   "execution_count": 32,
   "id": "b4705981-dc6d-4da7-8976-338f0d971280",
   "metadata": {
    "executionTime": 485,
    "lastSuccessfullyExecutedCode": "# finding min & max age for histplot in next codeblock\nmin_age = min(heart_failure_copy.age)\nmax_age = max(heart_failure_copy.age)\n\nprint(\"The minimum age in this dataset is:\",min_age)\nprint(\"The minimum age in this dataset is:\",max_age)"
   },
   "outputs": [
    {
     "name": "stdout",
     "output_type": "stream",
     "text": [
      "The minimum age in this dataset is: 40\n",
      "The minimum age in this dataset is: 95\n"
     ]
    }
   ],
   "source": [
    "# finding min & max age for histplot in next codeblock\n",
    "min_age = min(heart_failure_copy.age)\n",
    "max_age = max(heart_failure_copy.age)\n",
    "\n",
    "print(\"The minimum age in this dataset is:\",min_age)\n",
    "print(\"The minimum age in this dataset is:\",max_age)"
   ]
  },
  {
   "cell_type": "code",
   "execution_count": 34,
   "id": "7a29a17d-abc4-45ca-b045-0d4586e530f4",
   "metadata": {
    "executionTime": 488,
    "lastSuccessfullyExecutedCode": "plt.hist(heart_failure_copy.age, bins = np.arange(40,95, 5), rwidth = 0.98, color = 'tab:blue')\nplt.xlabel(\"Count of Patients\")\nplt.ylabel(\"Age (in years)\")\nplt.title(\"Distribution of Age Amongst Patients\")\nplt.show()"
   },
   "outputs": [
    {
     "data": {
      "image/png": "[encoded data removed]",
      "text/plain": [
       "<Figure size 432x288 with 1 Axes>"
      ]
     },
     "metadata": {
      "needs_background": "light"
     },
     "output_type": "display_data"
    }
   ],
   "source": [
    "plt.hist(heart_failure_copy.age, bins = np.arange(40,95, 5), rwidth = 0.95, color = 'tab:blue')\n",
    "plt.xlabel(\"Count of Patients\")\n",
    "plt.ylabel(\"Age (in years)\")\n",
    "plt.title(\"Distribution of Age Amongst Patients\")\n",
    "plt.show()"
   ]
  },
  {
   "cell_type": "markdown",
   "id": "43d16689-d5ca-4837-bb57-7902c2fb0b2b",
   "metadata": {},
   "source": [
    "- The age range 60 - 65 has the highest number of patients in this dataset, followed by 50 - 55."
   ]
  },
  {
   "cell_type": "markdown",
   "id": "2b5a038a-8f36-479b-9092-de450e184b8e",
   "metadata": {},
   "source": [
    "### Deep diving into the numerical columns (minus uniqueid and age)"
   ]
  },
  {
   "cell_type": "code",
   "execution_count": 35,
   "id": "267e7338-24b0-4057-bf87-c7db93ca6323",
   "metadata": {
    "executionTime": 516,
    "lastSuccessfullyExecutedCode": "# Describing to only columns with numerical data\nheart_failure_copy.describe().T"
   },
   "outputs": [
    {
     "data": {
      "text/html": [
       "<div>\n",
       "<style scoped>\n",
       "    .dataframe tbody tr th:only-of-type {\n",
       "        vertical-align: middle;\n",
       "    }\n",
       "\n",
       "    .dataframe tbody tr th {\n",
       "        vertical-align: top;\n",
       "    }\n",
       "\n",
       "    .dataframe thead th {\n",
       "        text-align: right;\n",
       "    }\n",
       "</style>\n",
       "<table border=\"1\" class=\"dataframe\">\n",
       "  <thead>\n",
       "    <tr style=\"text-align: right;\">\n",
       "      <th></th>\n",
       "      <th>count</th>\n",
       "      <th>mean</th>\n",
       "      <th>std</th>\n",
       "      <th>min</th>\n",
       "      <th>25%</th>\n",
       "      <th>50%</th>\n",
       "      <th>75%</th>\n",
       "      <th>max</th>\n",
       "    </tr>\n",
       "  </thead>\n",
       "  <tbody>\n",
       "    <tr>\n",
       "      <th>uniqueID</th>\n",
       "      <td>299.0</td>\n",
       "      <td>149.000000</td>\n",
       "      <td>86.458082</td>\n",
       "      <td>0.0</td>\n",
       "      <td>74.5</td>\n",
       "      <td>149.0</td>\n",
       "      <td>223.5</td>\n",
       "      <td>298.0</td>\n",
       "    </tr>\n",
       "    <tr>\n",
       "      <th>ejection_fraction</th>\n",
       "      <td>299.0</td>\n",
       "      <td>38.083612</td>\n",
       "      <td>11.834841</td>\n",
       "      <td>14.0</td>\n",
       "      <td>30.0</td>\n",
       "      <td>38.0</td>\n",
       "      <td>45.0</td>\n",
       "      <td>80.0</td>\n",
       "    </tr>\n",
       "    <tr>\n",
       "      <th>serum_sodium</th>\n",
       "      <td>299.0</td>\n",
       "      <td>136.625418</td>\n",
       "      <td>4.412477</td>\n",
       "      <td>113.0</td>\n",
       "      <td>134.0</td>\n",
       "      <td>137.0</td>\n",
       "      <td>140.0</td>\n",
       "      <td>148.0</td>\n",
       "    </tr>\n",
       "    <tr>\n",
       "      <th>platelets</th>\n",
       "      <td>299.0</td>\n",
       "      <td>263358.029264</td>\n",
       "      <td>97804.236869</td>\n",
       "      <td>25100.0</td>\n",
       "      <td>212500.0</td>\n",
       "      <td>262000.0</td>\n",
       "      <td>303500.0</td>\n",
       "      <td>850000.0</td>\n",
       "    </tr>\n",
       "    <tr>\n",
       "      <th>creatinine_phosphokinase</th>\n",
       "      <td>299.0</td>\n",
       "      <td>581.839465</td>\n",
       "      <td>970.287881</td>\n",
       "      <td>23.0</td>\n",
       "      <td>116.5</td>\n",
       "      <td>250.0</td>\n",
       "      <td>582.0</td>\n",
       "      <td>7861.0</td>\n",
       "    </tr>\n",
       "    <tr>\n",
       "      <th>serum_creatinine</th>\n",
       "      <td>299.0</td>\n",
       "      <td>1.393880</td>\n",
       "      <td>1.034510</td>\n",
       "      <td>0.5</td>\n",
       "      <td>0.9</td>\n",
       "      <td>1.1</td>\n",
       "      <td>1.4</td>\n",
       "      <td>9.4</td>\n",
       "    </tr>\n",
       "    <tr>\n",
       "      <th>age</th>\n",
       "      <td>299.0</td>\n",
       "      <td>60.829431</td>\n",
       "      <td>11.894997</td>\n",
       "      <td>40.0</td>\n",
       "      <td>51.0</td>\n",
       "      <td>60.0</td>\n",
       "      <td>70.0</td>\n",
       "      <td>95.0</td>\n",
       "    </tr>\n",
       "  </tbody>\n",
       "</table>\n",
       "</div>"
      ],
      "text/plain": [
       "                          count           mean           std      min  \\\n",
       "uniqueID                  299.0     149.000000     86.458082      0.0   \n",
       "ejection_fraction         299.0      38.083612     11.834841     14.0   \n",
       "serum_sodium              299.0     136.625418      4.412477    113.0   \n",
       "platelets                 299.0  263358.029264  97804.236869  25100.0   \n",
       "creatinine_phosphokinase  299.0     581.839465    970.287881     23.0   \n",
       "serum_creatinine          299.0       1.393880      1.034510      0.5   \n",
       "age                       299.0      60.829431     11.894997     40.0   \n",
       "\n",
       "                               25%       50%       75%       max  \n",
       "uniqueID                      74.5     149.0     223.5     298.0  \n",
       "ejection_fraction             30.0      38.0      45.0      80.0  \n",
       "serum_sodium                 134.0     137.0     140.0     148.0  \n",
       "platelets                 212500.0  262000.0  303500.0  850000.0  \n",
       "creatinine_phosphokinase     116.5     250.0     582.0    7861.0  \n",
       "serum_creatinine               0.9       1.1       1.4       9.4  \n",
       "age                           51.0      60.0      70.0      95.0  "
      ]
     },
     "execution_count": 35,
     "metadata": {},
     "output_type": "execute_result"
    }
   ],
   "source": [
    "# Describing to only columns with numerical data\n",
    "heart_failure_copy.describe().T"
   ]
  },
  {
   "cell_type": "markdown",
   "id": "02fcfe2d-70fc-4640-a8bd-fc3e5cdefc5e",
   "metadata": {},
   "source": [
    "### Ejection Fraction (EF)"
   ]
  },
  {
   "cell_type": "markdown",
   "id": "d332f175-2a0b-4209-a823-d91e6c01ab93",
   "metadata": {},
   "source": [
    "\"Ejection fraction (EF) is a measure of how well the heart is pumping blood. It is a percentage that represents the amount of blood that is pumped out of the left ventricle of the heart with each contraction. The left ventricle is the chamber of the heart that pumps oxygenated blood to the rest of the body. The EF is calculated as the ratio of the volume of blood pumped out of the left ventricle (stroke volume) to the total volume of blood in the left ventricle at the end of diastole (the period of relaxation between contractions). A normal EF is generally considered to be between **55% and 70%**. An EF of **less than 40% is considered to be indicative of heart failure**, specifically systolic heart failure, in which the heart is not able to pump enough blood to meet the body's needs. However, an EF of less than 55% does not necessarily mean that a person has heart failure, it can also be caused by various factors such as hypertension, valvular disease, and others. **A high ejection fraction (EF) is generally considered to be above 70%**. In general, a high EF indicates that the heart is pumping blood efficiently and effectively, which is considered to be a good sign of heart health. However, high EF alone may not be a definitive indicator of heart health, and other factors such as blood pressure, cholesterol, and other lab test results should be considered. A high EF can be seen in certain medical conditions such as hypertension, hyperthyroidism, and anemia. Also, certain medications such as beta-blockers and ACE inhibitors can increase the EF. A high EF can also be seen in some cases of heart disease, such as hypertrophic cardiomyopathy, a condition in which the heart muscle becomes thickened, which can cause the heart to pump more forcefully and result in a higher EF.\" -ChatGPT"
   ]
  },
  {
   "cell_type": "code",
   "execution_count": 36,
   "id": "c3076dca-fb03-451c-95c9-5259cd23b584",
   "metadata": {
    "executionTime": 0,
    "lastSuccessfullyExecutedCode": "# Using Z-score to find outliers\nz_scores = (heart_failure_copy['ejection_fraction'] - heart_failure_copy['ejection_fraction'].mean()) / heart_failure_copy['ejection_fraction'].std()"
   },
   "outputs": [],
   "source": [
    "# Using Z-score to find outliers\n",
    "z_scores = (heart_failure_copy['ejection_fraction'] - heart_failure_copy['ejection_fraction'].mean()) / heart_failure_copy['ejection_fraction'].std()"
   ]
  },
  {
   "cell_type": "code",
   "execution_count": 37,
   "id": "10a858ce-4b08-4c6c-83dc-61b49578e2af",
   "metadata": {
    "executionTime": 0,
    "lastSuccessfullyExecutedCode": "threshold = 3\n\noutliers = heart_failure_copy[z_scores.abs() > threshold]"
   },
   "outputs": [],
   "source": [
    "threshold = 3\n",
    "\n",
    "outliers = heart_failure_copy[z_scores.abs() > threshold]"
   ]
  },
  {
   "cell_type": "code",
   "execution_count": 38,
   "id": "db2d15e4-8746-49f9-a9f7-91422c288b3e",
   "metadata": {
    "executionTime": 506,
    "lastSuccessfullyExecutedCode": "outliers"
   },
   "outputs": [
    {
     "data": {
      "text/html": [
       "<div>\n",
       "<style scoped>\n",
       "    .dataframe tbody tr th:only-of-type {\n",
       "        vertical-align: middle;\n",
       "    }\n",
       "\n",
       "    .dataframe tbody tr th {\n",
       "        vertical-align: top;\n",
       "    }\n",
       "\n",
       "    .dataframe thead th {\n",
       "        text-align: right;\n",
       "    }\n",
       "</style>\n",
       "<table border=\"1\" class=\"dataframe\">\n",
       "  <thead>\n",
       "    <tr style=\"text-align: right;\">\n",
       "      <th></th>\n",
       "      <th>uniqueID</th>\n",
       "      <th>smoking</th>\n",
       "      <th>ejection_fraction</th>\n",
       "      <th>serum_sodium</th>\n",
       "      <th>platelets</th>\n",
       "      <th>creatinine_phosphokinase</th>\n",
       "      <th>diabetes</th>\n",
       "      <th>serum_creatinine</th>\n",
       "      <th>anaemia</th>\n",
       "      <th>high_blood_pressure</th>\n",
       "      <th>age</th>\n",
       "      <th>sex</th>\n",
       "      <th>patient_outcome</th>\n",
       "      <th>age_group</th>\n",
       "    </tr>\n",
       "  </thead>\n",
       "  <tbody>\n",
       "    <tr>\n",
       "      <th>64</th>\n",
       "      <td>64</td>\n",
       "      <td>No</td>\n",
       "      <td>80</td>\n",
       "      <td>137</td>\n",
       "      <td>263358.03</td>\n",
       "      <td>582</td>\n",
       "      <td>No</td>\n",
       "      <td>1.18</td>\n",
       "      <td>No</td>\n",
       "      <td>No</td>\n",
       "      <td>45</td>\n",
       "      <td>Female</td>\n",
       "      <td>Alive</td>\n",
       "      <td>10 - 50</td>\n",
       "    </tr>\n",
       "  </tbody>\n",
       "</table>\n",
       "</div>"
      ],
      "text/plain": [
       "    uniqueID smoking  ejection_fraction  serum_sodium  platelets  \\\n",
       "64        64      No                 80           137  263358.03   \n",
       "\n",
       "    creatinine_phosphokinase diabetes  serum_creatinine anaemia  \\\n",
       "64                       582       No              1.18      No   \n",
       "\n",
       "   high_blood_pressure  age     sex patient_outcome age_group  \n",
       "64                  No   45  Female           Alive   10 - 50  "
      ]
     },
     "execution_count": 38,
     "metadata": {},
     "output_type": "execute_result"
    }
   ],
   "source": [
    "outliers"
   ]
  },
  {
   "cell_type": "markdown",
   "id": "2f185dac-5c6b-44f3-aeb7-42af434c4e7f",
   "metadata": {},
   "source": [
    "- Only one true outlier detected using the Z-score method; patient ID 64.\n",
    "\n",
    "One outlier is not going to skew the data enough to make a difference, therefor I will not be dropping it at this time."
   ]
  },
  {
   "cell_type": "code",
   "execution_count": 39,
   "id": "f96e3a92-d774-40b1-92c6-9fb59694041a",
   "metadata": {
    "executionTime": 482,
    "lastSuccessfullyExecutedCode": "# Checking for patients that are below 40%, as this can be an indication of heart failure\nlow_ef = heart_failure_copy[heart_failure_copy.ejection_fraction < 40]\ncount_low_ef = len(low_ef)\nprint(\"Number of patients with low ejection fraction:\",count_low_ef)"
   },
   "outputs": [
    {
     "name": "stdout",
     "output_type": "stream",
     "text": [
      "Number of patients with low ejection fraction: 182\n"
     ]
    }
   ],
   "source": [
    "# Checking for patients that are below 40%, as this can be an indication of heart failure\n",
    "low_ef = heart_failure_copy[heart_failure_copy.ejection_fraction < 40]\n",
    "count_low_ef = len(low_ef)\n",
    "print(\"Number of patients with low ejection fraction:\",count_low_ef)"
   ]
  },
  {
   "cell_type": "markdown",
   "id": "510fe8f9-f23b-4574-a4b9-081303f89c9e",
   "metadata": {},
   "source": [
    "- The results for patients with an EF of less than 40% is abnormally high: 182 patients out of 299 reported lower than normal EF levels. Out of 299 patients present in this dataset, **60.87% have low ejection fraction**."
   ]
  },
  {
   "cell_type": "code",
   "execution_count": 40,
   "id": "ca3511b8-c18d-4abe-a233-ff23d5c38b33",
   "metadata": {
    "executionTime": 0,
    "lastSuccessfullyExecutedCode": "# Filtering data to find all patients that have an EF < 40% and \"Dead\" under patient outcome\nfiltered_ef = heart_failure_copy[(heart_failure_copy['ejection_fraction'] < 40) & (heart_failure_copy['patient_outcome'] == 'Dead')]"
   },
   "outputs": [],
   "source": [
    "# Filtering data to find all patients that have an EF < 40% and \"Dead\" under patient outcome\n",
    "filtered_ef = heart_failure_copy[(heart_failure_copy['ejection_fraction'] < 40) & (heart_failure_copy['patient_outcome'] == 'Dead')]"
   ]
  },
  {
   "cell_type": "code",
   "execution_count": 41,
   "id": "228b7a02-14d3-4096-83f6-108a65dea4c2",
   "metadata": {
    "executionTime": 499,
    "lastSuccessfullyExecutedCode": "count_filtered_ef = len(filtered_ef)\nprint(\"Number of patients with low ejection fraction that have died:\",count_filtered_ef)"
   },
   "outputs": [
    {
     "name": "stdout",
     "output_type": "stream",
     "text": [
      "Number of patients with low ejection fraction that have died: 73\n"
     ]
    }
   ],
   "source": [
    "count_filtered_ef = len(filtered_ef)\n",
    "print(\"Number of patients with low ejection fraction that have died:\",count_filtered_ef)"
   ]
  },
  {
   "cell_type": "markdown",
   "id": "69846398-4f19-408b-aefd-66869f957114",
   "metadata": {},
   "source": [
    "- Over the course of this dataset, 73 patients have died that also have an EF of less than 40%. Out of 182 patients that have a low EF, **40.11%** have died.\n",
    " \n",
    "- If we look at the entire count of patients (299) **24.41%** of patients that have an EF of less than 40% have **died**."
   ]
  },
  {
   "cell_type": "code",
   "execution_count": 42,
   "id": "cf815331-5bf3-42e2-8096-7d0a5fab870c",
   "metadata": {
    "executionTime": 557,
    "lastSuccessfullyExecutedCode": "# Distribution of ejection fraction\nsns.histplot(heart_failure_copy.ejection_fraction, kde=True, color='tab:blue')\nplt.title(\"Ejection Fraction Distribution\", fontweight='bold');"
   },
   "outputs": [
    {
     "data": {
      "image/png": "[encoded data removed]",
      "text/plain": [
       "<Figure size 432x288 with 1 Axes>"
      ]
     },
     "metadata": {
      "needs_background": "light"
     },
     "output_type": "display_data"
    }
   ],
   "source": [
    "# Distribution of ejection fraction\n",
    "sns.histplot(heart_failure_copy.ejection_fraction, kde=True, color='tab:blue')\n",
    "plt.title(\"Ejection Fraction Distribution\", fontweight='bold');"
   ]
  },
  {
   "cell_type": "markdown",
   "id": "a06fc570-f6fc-4be9-900e-c822a0f267f9",
   "metadata": {},
   "source": [
    "- Ejection fraction is slightly right skewed, which correlates to only finding one true outlier with the Z-score method.\n",
    "- Ejection fraction is the most common abnormality among tests recorded in this dataset, with **60.87%** of patients having low EF."
   ]
  },
  {
   "cell_type": "markdown",
   "id": "d9de6036-6e99-4522-b84f-1c15cc179a90",
   "metadata": {},
   "source": [
    "### Serum Sodium"
   ]
  },
  {
   "cell_type": "markdown",
   "id": "34b301b3-416d-4474-91ac-6304a0c5ecb4",
   "metadata": {},
   "source": [
    "\"Serum sodium is a laboratory test that measures the level of sodium in the blood. Sodium is an electrolyte that helps regulate the balance of fluids in and around cells, and is essential for normal cell function and nerve and muscle function. The normal range for serum sodium is generally considered to be between **135 and 145 milliequivalents per liter (mEq/L)**. Low levels of serum sodium, known as hyponatremia, can occur due to a number of causes such as kidney failure, liver disease, heart failure, certain medications, and drinking excessive amounts of water.\" -ChatGPT"
   ]
  },
  {
   "cell_type": "code",
   "execution_count": 43,
   "id": "00a4ef07-85ca-46d4-8f7c-44e6664dbef3",
   "metadata": {
    "executionTime": 0,
    "lastSuccessfullyExecutedCode": "# Using Z-score to find outliers\nz_scores = (heart_failure_copy['serum_sodium'] - heart_failure_copy['serum_sodium'].mean()) / heart_failure_copy['serum_sodium'].std()"
   },
   "outputs": [],
   "source": [
    "# Using Z-score to find outliers\n",
    "z_scores = (heart_failure_copy['serum_sodium'] - heart_failure_copy['serum_sodium'].mean()) / heart_failure_copy['serum_sodium'].std()"
   ]
  },
  {
   "cell_type": "code",
   "execution_count": 44,
   "id": "fcc749e7-f292-47d6-a6a6-f44c10d41cc8",
   "metadata": {
    "executionTime": 0,
    "lastSuccessfullyExecutedCode": "threshold = 3\n\noutliers_ss = heart_failure_copy[z_scores.abs() > threshold]"
   },
   "outputs": [],
   "source": [
    "threshold = 3\n",
    "\n",
    "outliers_ss = heart_failure_copy[z_scores.abs() > threshold]"
   ]
  },
  {
   "cell_type": "code",
   "execution_count": 45,
   "id": "965851f9-8e02-4afd-947d-e14bd4806f66",
   "metadata": {
    "executionTime": 522,
    "lastSuccessfullyExecutedCode": "outliers_ss"
   },
   "outputs": [
    {
     "data": {
      "text/html": [
       "<div>\n",
       "<style scoped>\n",
       "    .dataframe tbody tr th:only-of-type {\n",
       "        vertical-align: middle;\n",
       "    }\n",
       "\n",
       "    .dataframe tbody tr th {\n",
       "        vertical-align: top;\n",
       "    }\n",
       "\n",
       "    .dataframe thead th {\n",
       "        text-align: right;\n",
       "    }\n",
       "</style>\n",
       "<table border=\"1\" class=\"dataframe\">\n",
       "  <thead>\n",
       "    <tr style=\"text-align: right;\">\n",
       "      <th></th>\n",
       "      <th>uniqueID</th>\n",
       "      <th>smoking</th>\n",
       "      <th>ejection_fraction</th>\n",
       "      <th>serum_sodium</th>\n",
       "      <th>platelets</th>\n",
       "      <th>creatinine_phosphokinase</th>\n",
       "      <th>diabetes</th>\n",
       "      <th>serum_creatinine</th>\n",
       "      <th>anaemia</th>\n",
       "      <th>high_blood_pressure</th>\n",
       "      <th>age</th>\n",
       "      <th>sex</th>\n",
       "      <th>patient_outcome</th>\n",
       "      <th>age_group</th>\n",
       "    </tr>\n",
       "  </thead>\n",
       "  <tbody>\n",
       "    <tr>\n",
       "      <th>4</th>\n",
       "      <td>4</td>\n",
       "      <td>No</td>\n",
       "      <td>20</td>\n",
       "      <td>116</td>\n",
       "      <td>327000.00</td>\n",
       "      <td>160</td>\n",
       "      <td>Yes</td>\n",
       "      <td>2.7</td>\n",
       "      <td>Yes</td>\n",
       "      <td>No</td>\n",
       "      <td>65</td>\n",
       "      <td>Female</td>\n",
       "      <td>Dead</td>\n",
       "      <td>51 - 70</td>\n",
       "    </tr>\n",
       "    <tr>\n",
       "      <th>19</th>\n",
       "      <td>19</td>\n",
       "      <td>No</td>\n",
       "      <td>55</td>\n",
       "      <td>121</td>\n",
       "      <td>87000.00</td>\n",
       "      <td>582</td>\n",
       "      <td>Yes</td>\n",
       "      <td>1.9</td>\n",
       "      <td>Yes</td>\n",
       "      <td>No</td>\n",
       "      <td>48</td>\n",
       "      <td>Female</td>\n",
       "      <td>Dead</td>\n",
       "      <td>10 - 50</td>\n",
       "    </tr>\n",
       "    <tr>\n",
       "      <th>199</th>\n",
       "      <td>199</td>\n",
       "      <td>Yes</td>\n",
       "      <td>35</td>\n",
       "      <td>113</td>\n",
       "      <td>263358.03</td>\n",
       "      <td>1211</td>\n",
       "      <td>Yes</td>\n",
       "      <td>1.8</td>\n",
       "      <td>No</td>\n",
       "      <td>No</td>\n",
       "      <td>60</td>\n",
       "      <td>Male</td>\n",
       "      <td>Alive</td>\n",
       "      <td>51 - 70</td>\n",
       "    </tr>\n",
       "  </tbody>\n",
       "</table>\n",
       "</div>"
      ],
      "text/plain": [
       "     uniqueID smoking  ejection_fraction  serum_sodium  platelets  \\\n",
       "4           4      No                 20           116  327000.00   \n",
       "19         19      No                 55           121   87000.00   \n",
       "199       199     Yes                 35           113  263358.03   \n",
       "\n",
       "     creatinine_phosphokinase diabetes  serum_creatinine anaemia  \\\n",
       "4                         160      Yes               2.7     Yes   \n",
       "19                        582      Yes               1.9     Yes   \n",
       "199                      1211      Yes               1.8      No   \n",
       "\n",
       "    high_blood_pressure  age     sex patient_outcome age_group  \n",
       "4                    No   65  Female            Dead   51 - 70  \n",
       "19                   No   48  Female            Dead   10 - 50  \n",
       "199                  No   60    Male           Alive   51 - 70  "
      ]
     },
     "execution_count": 45,
     "metadata": {},
     "output_type": "execute_result"
    }
   ],
   "source": [
    "outliers_ss"
   ]
  },
  {
   "cell_type": "markdown",
   "id": "b987ba7e-0593-400c-bffe-9efa965eea8d",
   "metadata": {},
   "source": [
    "- Using the Z-score method to find outliers, three have been deteced for Serum Sodium: patient ID's 4, 19, and 199. It is interesting to see that 2 out of these three patients were female, and both have died; while the only male outlier was still alive during the follow-up period.\n",
    "\n",
    "These three outliers are not low enough to make a significant difference in this dataset, therefore I will be keeping them in at this time."
   ]
  },
  {
   "cell_type": "code",
   "execution_count": 46,
   "id": "4477d65b-70eb-483f-a18e-7d293bb26075",
   "metadata": {
    "executionTime": 746,
    "lastSuccessfullyExecutedCode": "# Checking for patients that are below the lower end of the normal range indicated above (135 - 145)\nlow_ss = heart_failure_copy[heart_failure_copy.serum_sodium < 135]\ncount_low_ss = len(low_ss)\nprint(\"Number of patients with low serum_sodium:\",count_low_ss)"
   },
   "outputs": [
    {
     "name": "stdout",
     "output_type": "stream",
     "text": [
      "Number of patients with low serum_sodium: 83\n"
     ]
    }
   ],
   "source": [
    "# Checking for patients that are below the lower end of the normal range indicated above (135 - 145)\n",
    "low_ss = heart_failure_copy[heart_failure_copy.serum_sodium < 135]\n",
    "count_low_ss = len(low_ss)\n",
    "print(\"Number of patients with low serum_sodium:\",count_low_ss)"
   ]
  },
  {
   "cell_type": "markdown",
   "id": "176a2f89-03e9-486e-8590-047cda9af19c",
   "metadata": {},
   "source": [
    "- The results for patients with a low serum sodium level is not as high as the results obtained for EF: 83 patients out of 299 have a serum sodium level lower than what is considered normal. This is **27.76%** of patients in this dataset."
   ]
  },
  {
   "cell_type": "code",
   "execution_count": 47,
   "id": "3cb55d85-5d4c-42f0-9ad6-0fb4be7c6db0",
   "metadata": {
    "executionTime": 630,
    "lastSuccessfullyExecutedCode": "# Checking for patients that are above the higher end of the normal range indicated above (135 - 145)\nhigh_ss = heart_failure_copy[heart_failure_copy.serum_sodium > 145]\ncount_high_ss = len(high_ss)\nprint(\"Number of patients with high serum_sodium:\",count_high_ss)"
   },
   "outputs": [
    {
     "name": "stdout",
     "output_type": "stream",
     "text": [
      "Number of patients with high serum_sodium: 2\n"
     ]
    }
   ],
   "source": [
    "# Checking for patients that are above the higher end of the normal range indicated above (135 - 145)\n",
    "high_ss = heart_failure_copy[heart_failure_copy.serum_sodium > 145]\n",
    "count_high_ss = len(high_ss)\n",
    "print(\"Number of patients with high serum_sodium:\",count_high_ss)"
   ]
  },
  {
   "cell_type": "markdown",
   "id": "6461efc5-e483-4bc6-b98d-09fa585204a2",
   "metadata": {},
   "source": [
    "_- Only two patients have slightly elevated serum sodium levels, and this could be due to a number of factors that are not included with the original dataset. This is too small of a group, and to ambigious, to explore any further._"
   ]
  },
  {
   "cell_type": "code",
   "execution_count": 48,
   "id": "ed464c1e-bcd0-4e3c-a989-f8ac021991d4",
   "metadata": {
    "executionTime": 766,
    "lastSuccessfullyExecutedCode": "# Filtering data to find all patients that have a serum sodium level below 135 and \"Dead\" under patient outcome\nfiltered_ss = heart_failure_copy[(heart_failure_copy['serum_sodium'] < 135) & (heart_failure_copy['patient_outcome'] == 'Dead')]\ncount_filtered_ss = len(filtered_ss)\nprint(\"Number of patients with low serum sodium that have died:\",count_filtered_ss)"
   },
   "outputs": [
    {
     "name": "stdout",
     "output_type": "stream",
     "text": [
      "Number of patients with low serum sodium that have died: 42\n"
     ]
    }
   ],
   "source": [
    "# Filtering data to find all patients that have a serum sodium level below 135 and \"Dead\" under patient outcome\n",
    "filtered_ss = heart_failure_copy[(heart_failure_copy['serum_sodium'] < 135) & (heart_failure_copy['patient_outcome'] == 'Dead')]\n",
    "count_filtered_ss = len(filtered_ss)\n",
    "print(\"Number of patients with low serum sodium that have died:\",count_filtered_ss)"
   ]
  },
  {
   "cell_type": "markdown",
   "id": "39365e5d-c353-40cb-a17b-3f77991c89b9",
   "metadata": {},
   "source": [
    "- Over the course of this dataset, 42 patients have died that also have a serum sodium level less than 135. Out of 83 patients that have low serum sodium, **50.60%** have died.\n",
    " \n",
    "- If we look at the entire count of patients (299), only **14.05%** of patients that have a serum sodium level less than 135 have **died**."
   ]
  },
  {
   "cell_type": "code",
   "execution_count": 49,
   "id": "de64a1fd-b708-402b-8270-7f3f581714e0",
   "metadata": {
    "executionTime": 1104,
    "lastSuccessfullyExecutedCode": "# Distribution of serum sodium\nsns.histplot(heart_failure_copy.serum_sodium, kde=True, color='tab:blue')\nplt.title(\"Serum Sodium Distribution\", fontweight='bold');"
   },
   "outputs": [
    {
     "data": {
      "image/png": "[encoded data removed]",
      "text/plain": [
       "<Figure size 432x288 with 1 Axes>"
      ]
     },
     "metadata": {
      "needs_background": "light"
     },
     "output_type": "display_data"
    }
   ],
   "source": [
    "# Distribution of serum sodium\n",
    "sns.histplot(heart_failure_copy.serum_sodium, kde=True, color='tab:blue')\n",
    "plt.title(\"Serum Sodium Distribution\", fontweight='bold');"
   ]
  },
  {
   "cell_type": "markdown",
   "id": "fc791b57-e5f6-49eb-88b3-abbf2bcc69ae",
   "metadata": {},
   "source": [
    "- Serum Sodium is left skewed, as shown in the distribution above, and the true outliers are the three lowest values in the dataset.\n",
    "- Serum Sodium is less common amongst heart failure patients as only **27.76** of patients present with adnormally low levels."
   ]
  },
  {
   "cell_type": "markdown",
   "id": "04489654-cc0c-4838-85da-8cb8397d9329",
   "metadata": {},
   "source": [
    "### Platelets"
   ]
  },
  {
   "cell_type": "markdown",
   "id": "25191a63-cda4-466f-8fe7-47fa5b8f1baa",
   "metadata": {},
   "source": [
    "\"Platelets, also known as thrombocytes, are small, colorless cell fragments that are present in the blood. They play a crucial role in the process of blood clotting, also known as coagulation, which helps to stop bleeding when a blood vessel is injured. When a blood vessel is damaged, platelets are the first cells to arrive at the site of injury. They stick to the wall of the damaged blood vessel and to each other, forming a clot that helps to plug the hole and stop the bleeding. This process is called primary hemostasis. Platelets also release chemical signals, called growth factors, that attract other cells to the site of injury to help repair the damaged blood vessel. Once the bleeding has stopped, the clot dissolves and the repair process is completed. The normal range for platelet count is typically between **150,000 and 450,000 platelets per microliter of blood**. Low platelet count, known as thrombocytopenia, can occur due to a variety of causes such as bone marrow disorders, viral infections, certain medications, and certain types of cancer. High platelet count, known as thrombocytosis, can occur due to various causes such as bone marrow disorders, certain types of cancer, and other medical conditions. Symptoms of thrombocytosis may include thrombotic events such as stroke or heart attack.\" -ChatGPT"
   ]
  },
  {
   "cell_type": "code",
   "execution_count": 50,
   "id": "6034cc20-d960-478f-96a9-8fa77521928a",
   "metadata": {
    "executionTime": 0,
    "lastSuccessfullyExecutedCode": "# Using Z-score to find outliers\nz_scores = (heart_failure_copy['platelets'] - heart_failure_copy['platelets'].mean()) / heart_failure_copy['platelets'].std()"
   },
   "outputs": [],
   "source": [
    "# Using Z-score to find outliers\n",
    "z_scores = (heart_failure_copy['platelets'] - heart_failure_copy['platelets'].mean()) / heart_failure_copy['platelets'].std()"
   ]
  },
  {
   "cell_type": "code",
   "execution_count": 51,
   "id": "2c6ce575-c04d-4256-a97b-ce4f32e2943b",
   "metadata": {
    "executionTime": 0,
    "lastSuccessfullyExecutedCode": "threshold = 3\n\noutliers_p = heart_failure_copy[z_scores.abs() > threshold]"
   },
   "outputs": [],
   "source": [
    "threshold = 3\n",
    "\n",
    "outliers_p = heart_failure_copy[z_scores.abs() > threshold]"
   ]
  },
  {
   "cell_type": "code",
   "execution_count": 52,
   "id": "8ff16327-5b7a-4810-961a-e42544d778b2",
   "metadata": {
    "executionTime": 1031,
    "lastSuccessfullyExecutedCode": "outliers_p"
   },
   "outputs": [
    {
     "data": {
      "text/html": [
       "<div>\n",
       "<style scoped>\n",
       "    .dataframe tbody tr th:only-of-type {\n",
       "        vertical-align: middle;\n",
       "    }\n",
       "\n",
       "    .dataframe tbody tr th {\n",
       "        vertical-align: top;\n",
       "    }\n",
       "\n",
       "    .dataframe thead th {\n",
       "        text-align: right;\n",
       "    }\n",
       "</style>\n",
       "<table border=\"1\" class=\"dataframe\">\n",
       "  <thead>\n",
       "    <tr style=\"text-align: right;\">\n",
       "      <th></th>\n",
       "      <th>uniqueID</th>\n",
       "      <th>smoking</th>\n",
       "      <th>ejection_fraction</th>\n",
       "      <th>serum_sodium</th>\n",
       "      <th>platelets</th>\n",
       "      <th>creatinine_phosphokinase</th>\n",
       "      <th>diabetes</th>\n",
       "      <th>serum_creatinine</th>\n",
       "      <th>anaemia</th>\n",
       "      <th>high_blood_pressure</th>\n",
       "      <th>age</th>\n",
       "      <th>sex</th>\n",
       "      <th>patient_outcome</th>\n",
       "      <th>age_group</th>\n",
       "    </tr>\n",
       "  </thead>\n",
       "  <tbody>\n",
       "    <tr>\n",
       "      <th>105</th>\n",
       "      <td>105</td>\n",
       "      <td>Yes</td>\n",
       "      <td>30</td>\n",
       "      <td>138</td>\n",
       "      <td>621000.0</td>\n",
       "      <td>328</td>\n",
       "      <td>No</td>\n",
       "      <td>1.7</td>\n",
       "      <td>Yes</td>\n",
       "      <td>Yes</td>\n",
       "      <td>72</td>\n",
       "      <td>Female</td>\n",
       "      <td>Dead</td>\n",
       "      <td>71 - 80</td>\n",
       "    </tr>\n",
       "    <tr>\n",
       "      <th>109</th>\n",
       "      <td>109</td>\n",
       "      <td>Yes</td>\n",
       "      <td>35</td>\n",
       "      <td>142</td>\n",
       "      <td>850000.0</td>\n",
       "      <td>292</td>\n",
       "      <td>Yes</td>\n",
       "      <td>1.3</td>\n",
       "      <td>No</td>\n",
       "      <td>No</td>\n",
       "      <td>45</td>\n",
       "      <td>Male</td>\n",
       "      <td>Alive</td>\n",
       "      <td>10 - 50</td>\n",
       "    </tr>\n",
       "    <tr>\n",
       "      <th>296</th>\n",
       "      <td>296</td>\n",
       "      <td>No</td>\n",
       "      <td>60</td>\n",
       "      <td>138</td>\n",
       "      <td>742000.0</td>\n",
       "      <td>2060</td>\n",
       "      <td>Yes</td>\n",
       "      <td>0.8</td>\n",
       "      <td>No</td>\n",
       "      <td>No</td>\n",
       "      <td>45</td>\n",
       "      <td>Female</td>\n",
       "      <td>Alive</td>\n",
       "      <td>10 - 50</td>\n",
       "    </tr>\n",
       "  </tbody>\n",
       "</table>\n",
       "</div>"
      ],
      "text/plain": [
       "     uniqueID smoking  ejection_fraction  serum_sodium  platelets  \\\n",
       "105       105     Yes                 30           138   621000.0   \n",
       "109       109     Yes                 35           142   850000.0   \n",
       "296       296      No                 60           138   742000.0   \n",
       "\n",
       "     creatinine_phosphokinase diabetes  serum_creatinine anaemia  \\\n",
       "105                       328       No               1.7     Yes   \n",
       "109                       292      Yes               1.3      No   \n",
       "296                      2060      Yes               0.8      No   \n",
       "\n",
       "    high_blood_pressure  age     sex patient_outcome age_group  \n",
       "105                 Yes   72  Female            Dead   71 - 80  \n",
       "109                  No   45    Male           Alive   10 - 50  \n",
       "296                  No   45  Female           Alive   10 - 50  "
      ]
     },
     "execution_count": 52,
     "metadata": {},
     "output_type": "execute_result"
    }
   ],
   "source": [
    "outliers_p"
   ]
  },
  {
   "cell_type": "markdown",
   "id": "a3e4c292-5a95-49b8-b12f-09dc6ba3732d",
   "metadata": {},
   "source": [
    "- Using the Z-score method to find outliers, three have been detected for Platelets: patient ID's 105, 109, and 296. Other than having an abnormally high platelet count (compared to the normal range mentioned above), there seems to be no significance to these patients. There are two females, and one male: one female has died during the follow-up period, but the other two were still alive.\n",
    "\n",
    "These three outliers are high enough that they could potentially skew the descriptive statistics and outcomes of patients. However, I will not be going further with this variable at this time, therefor they will not be dropped."
   ]
  },
  {
   "cell_type": "code",
   "execution_count": 55,
   "id": "a153f514-9e2d-4a16-ae4d-c48c0bf92a77",
   "metadata": {
    "executionTime": 1057,
    "lastSuccessfullyExecutedCode": "# Checking for patients that are below the lower end of the normal range indicated above (150,000 - 450,000)\nlow_p = heart_failure_copy[heart_failure_copy.platelets < 150000]\ncount_low_p = len(low_p)\nprint(\"Number of patients with low platelets:\",count_low_p)"
   },
   "outputs": [
    {
     "name": "stdout",
     "output_type": "stream",
     "text": [
      "Number of patients with low platelets: 27\n"
     ]
    }
   ],
   "source": [
    "# Checking for patients that are below the lower end of the normal range indicated above (150,000 - 450,000)\n",
    "low_p = heart_failure_copy[heart_failure_copy.platelets < 150000]\n",
    "count_low_p = len(low_p)\n",
    "print(\"Number of patients with low platelets:\",count_low_p)"
   ]
  },
  {
   "cell_type": "markdown",
   "id": "9c427e17-11f5-4ac0-9af9-be1ed5ceb808",
   "metadata": {},
   "source": [
    "- Only 27 patients, out of 299, have a lower than normal platelet count: **9.03%** of patients have a low platelet count."
   ]
  },
  {
   "cell_type": "code",
   "execution_count": 56,
   "id": "3091f1cd-37fa-4702-8a32-b206f08c25b1",
   "metadata": {
    "executionTime": 888,
    "lastSuccessfullyExecutedCode": "# Checking for patients that are above the higher end of the normal range indicated above (150,000 - 450,000)\nhigh_p = heart_failure_copy[heart_failure_copy.platelets > 450000]\ncount_high_p = len(high_p)\nprint(\"Number of patients with high platelet levels:\",count_high_p)"
   },
   "outputs": [
    {
     "name": "stdout",
     "output_type": "stream",
     "text": [
      "Number of patients with high platelet levels: 13\n"
     ]
    }
   ],
   "source": [
    "# Checking for patients that are above the higher end of the normal range indicated above (150,000 - 450,000)\n",
    "high_p = heart_failure_copy[heart_failure_copy.platelets > 450000]\n",
    "count_high_p = len(high_p)\n",
    "print(\"Number of patients with high platelet levels:\",count_high_p)"
   ]
  },
  {
   "cell_type": "markdown",
   "id": "8ac6211e-9df0-40de-b3e7-3e95900a4f26",
   "metadata": {},
   "source": [
    "- The count is even lower for patients that have a higher than normal platelet count: only 13 patients were detected, or **4.35%** of all patients in this dataset."
   ]
  },
  {
   "cell_type": "code",
   "execution_count": 57,
   "id": "3302a514-e05c-4296-a275-3352e668c6c6",
   "metadata": {
    "executionTime": 868,
    "lastSuccessfullyExecutedCode": "# Filtering data to find all patients that have a platelet count below 150,000 and \"Dead\" under patient outcome\nfiltered_p = heart_failure_copy[(heart_failure_copy['platelets'] < 150000) & (heart_failure_copy['patient_outcome'] == 'Dead')]\ncount_filtered_p = len(filtered_p)\nprint(\"Number of patients with low platelets that have died:\",count_filtered_p)"
   },
   "outputs": [
    {
     "name": "stdout",
     "output_type": "stream",
     "text": [
      "Number of patients with low platelets that have died: 11\n"
     ]
    }
   ],
   "source": [
    "# Filtering data to find all patients that have a platelet count below 150,000 and \"Dead\" under patient outcome\n",
    "filtered_p = heart_failure_copy[(heart_failure_copy['platelets'] < 150000) & (heart_failure_copy['patient_outcome'] == 'Dead')]\n",
    "count_filtered_p = len(filtered_p)\n",
    "print(\"Number of patients with low platelets that have died:\",count_filtered_p)"
   ]
  },
  {
   "cell_type": "markdown",
   "id": "8fb12d61-2f78-43cd-b5d4-a8fe7f0a8688",
   "metadata": {},
   "source": [
    "- Over the course of this dataset, 11 patients have died that also have a platelet count of less than 150,000. Out of 27 patients that have a low platelet count, **40.74%** have died.\n",
    " \n",
    "- If we look at the entire count of patients (299), only **3.68%** of patients that have a platelet count of less than 150,000 have **died**."
   ]
  },
  {
   "cell_type": "code",
   "execution_count": 58,
   "id": "8293cd10-0dcb-49fe-aef5-583aaa92dec7",
   "metadata": {
    "executionTime": 505,
    "lastSuccessfullyExecutedCode": "# Filtering data to find all patients that have a platelet count above 450,000 and \"Dead\" under patient outcome\nfiltered_p2 = heart_failure_copy[(heart_failure_copy['platelets'] > 450000) & (heart_failure_copy['patient_outcome'] == 'Dead')]\ncount_filtered_p2 = len(filtered_p2)\nprint(\"Number of patients with high platelets that have died:\",count_filtered_p2)"
   },
   "outputs": [
    {
     "name": "stdout",
     "output_type": "stream",
     "text": [
      "Number of patients with high platelets that have died: 5\n"
     ]
    }
   ],
   "source": [
    "# Filtering data to find all patients that have a platelet count above 450,000 and \"Dead\" under patient outcome\n",
    "filtered_p2 = heart_failure_copy[(heart_failure_copy['platelets'] > 450000) & (heart_failure_copy['patient_outcome'] == 'Dead')]\n",
    "count_filtered_p2 = len(filtered_p2)\n",
    "print(\"Number of patients with high platelets that have died:\",count_filtered_p2)"
   ]
  },
  {
   "cell_type": "markdown",
   "id": "87eefa34-f529-4846-aeff-b56e47e1b7fa",
   "metadata": {},
   "source": [
    "- Over the course of this dataset, 5 patients have died that also have a platelet count of more than 450,000. Out of 13 patients that have a high platelet count, **38.46%** have died.\n",
    " \n",
    "- If we look at the entire count of patients (299), only **1.67%** of patients that have a platelet count of more than 450,000 have **died**."
   ]
  },
  {
   "cell_type": "code",
   "execution_count": 59,
   "id": "730a32af-b776-4cc7-9b69-f83372b4b4f9",
   "metadata": {
    "executionTime": 486,
    "lastSuccessfullyExecutedCode": "# Distribution of platelets\nsns.histplot(heart_failure_copy.platelets, kde=True, color='tab:blue')\nplt.title(\"Platelet Distribution\", fontweight='bold');"
   },
   "outputs": [
    {
     "data": {
      "image/png": "[encoded data removed]",
      "text/plain": [
       "<Figure size 432x288 with 1 Axes>"
      ]
     },
     "metadata": {
      "needs_background": "light"
     },
     "output_type": "display_data"
    }
   ],
   "source": [
    "# Distribution of platelets\n",
    "sns.histplot(heart_failure_copy.platelets, kde=True, color='tab:blue')\n",
    "plt.title(\"Platelet Distribution\", fontweight='bold');"
   ]
  },
  {
   "cell_type": "markdown",
   "id": "60cc20b7-2310-4f21-93b9-5b6a9db5b2ce",
   "metadata": {},
   "source": [
    "- Platelet distribution is right skewed, just as ejection fraction is, and shows that the three true outliers are on the right side as they have extremely high platelet levels.\n",
    "- Platelet count is less common amongst heart failure patients as only **13.38** of patients present with adnormally low, or high, levels."
   ]
  },
  {
   "cell_type": "markdown",
   "id": "537c0707-4d27-4838-bd30-a6a161dfeedf",
   "metadata": {},
   "source": [
    "### Creatinine Phosphokinase (CPK)"
   ]
  },
  {
   "cell_type": "markdown",
   "id": "cbe9dad6-6edb-44a3-a088-f0a26600eb9e",
   "metadata": {},
   "source": [
    "\"Creatinine phosphokinase (CPK) is an enzyme found in many body tissues, including the heart, brain, and skeletal muscle. A normal CPK level in the blood is generally considered to be between **30 and 200 U/L (units per liter)** for adult men and women. Elevated levels of CPK can indicate muscle damage, such as from a muscle injury or certain medical conditions such as muscle disorders, heart attack, and some types of cancer. However, CPK level can also be elevated due to strenuous physical activity, alcohol consumption, certain medications, and other factors. The maximum CPK level that is considered safe in patients with heart failure can vary depending on the specific case. CPK levels that are significantly elevated above the normal range (**such as >1000 U/L**) can indicate a significant degree of muscle damage and may be indicative of a more severe form of heart failure.\" -ChatGPT"
   ]
  },
  {
   "cell_type": "code",
   "execution_count": 60,
   "id": "727f0a32-190a-47d8-a33e-5e09e4b24481",
   "metadata": {
    "executionTime": 0,
    "lastSuccessfullyExecutedCode": "# Using Z-score to find outliers\nz_scores = (heart_failure_copy['creatinine_phosphokinase'] - heart_failure_copy['creatinine_phosphokinase'].mean()) / heart_failure_copy['creatinine_phosphokinase'].std()"
   },
   "outputs": [],
   "source": [
    "# Using Z-score to find outliers\n",
    "z_scores = (heart_failure_copy['creatinine_phosphokinase'] - heart_failure_copy['creatinine_phosphokinase'].mean()) / heart_failure_copy['creatinine_phosphokinase'].std()"
   ]
  },
  {
   "cell_type": "code",
   "execution_count": 61,
   "id": "51d5e6f3-2abd-4394-bba9-dc13359d8dd9",
   "metadata": {
    "executionTime": 0,
    "lastSuccessfullyExecutedCode": "threshold = 3\n\noutliers_cpk = heart_failure_copy[z_scores.abs() > threshold]"
   },
   "outputs": [],
   "source": [
    "threshold = 3\n",
    "\n",
    "outliers_cpk = heart_failure_copy[z_scores.abs() > threshold]"
   ]
  },
  {
   "cell_type": "code",
   "execution_count": 62,
   "id": "a440a39b-5e7e-41bb-bdee-7ab470c87c34",
   "metadata": {
    "executionTime": 578,
    "lastSuccessfullyExecutedCode": "outliers_cpk"
   },
   "outputs": [
    {
     "data": {
      "text/html": [
       "<div>\n",
       "<style scoped>\n",
       "    .dataframe tbody tr th:only-of-type {\n",
       "        vertical-align: middle;\n",
       "    }\n",
       "\n",
       "    .dataframe tbody tr th {\n",
       "        vertical-align: top;\n",
       "    }\n",
       "\n",
       "    .dataframe thead th {\n",
       "        text-align: right;\n",
       "    }\n",
       "</style>\n",
       "<table border=\"1\" class=\"dataframe\">\n",
       "  <thead>\n",
       "    <tr style=\"text-align: right;\">\n",
       "      <th></th>\n",
       "      <th>uniqueID</th>\n",
       "      <th>smoking</th>\n",
       "      <th>ejection_fraction</th>\n",
       "      <th>serum_sodium</th>\n",
       "      <th>platelets</th>\n",
       "      <th>creatinine_phosphokinase</th>\n",
       "      <th>diabetes</th>\n",
       "      <th>serum_creatinine</th>\n",
       "      <th>anaemia</th>\n",
       "      <th>high_blood_pressure</th>\n",
       "      <th>age</th>\n",
       "      <th>sex</th>\n",
       "      <th>patient_outcome</th>\n",
       "      <th>age_group</th>\n",
       "    </tr>\n",
       "  </thead>\n",
       "  <tbody>\n",
       "    <tr>\n",
       "      <th>1</th>\n",
       "      <td>1</td>\n",
       "      <td>No</td>\n",
       "      <td>38</td>\n",
       "      <td>136</td>\n",
       "      <td>263358.03</td>\n",
       "      <td>7861</td>\n",
       "      <td>No</td>\n",
       "      <td>1.10</td>\n",
       "      <td>No</td>\n",
       "      <td>No</td>\n",
       "      <td>55</td>\n",
       "      <td>Male</td>\n",
       "      <td>Dead</td>\n",
       "      <td>51 - 70</td>\n",
       "    </tr>\n",
       "    <tr>\n",
       "      <th>52</th>\n",
       "      <td>52</td>\n",
       "      <td>No</td>\n",
       "      <td>62</td>\n",
       "      <td>146</td>\n",
       "      <td>263358.03</td>\n",
       "      <td>3964</td>\n",
       "      <td>Yes</td>\n",
       "      <td>6.80</td>\n",
       "      <td>No</td>\n",
       "      <td>No</td>\n",
       "      <td>60</td>\n",
       "      <td>Female</td>\n",
       "      <td>Dead</td>\n",
       "      <td>51 - 70</td>\n",
       "    </tr>\n",
       "    <tr>\n",
       "      <th>60</th>\n",
       "      <td>60</td>\n",
       "      <td>No</td>\n",
       "      <td>25</td>\n",
       "      <td>139</td>\n",
       "      <td>390000.00</td>\n",
       "      <td>7702</td>\n",
       "      <td>Yes</td>\n",
       "      <td>1.00</td>\n",
       "      <td>No</td>\n",
       "      <td>Yes</td>\n",
       "      <td>45</td>\n",
       "      <td>Male</td>\n",
       "      <td>Dead</td>\n",
       "      <td>10 - 50</td>\n",
       "    </tr>\n",
       "    <tr>\n",
       "      <th>72</th>\n",
       "      <td>72</td>\n",
       "      <td>Yes</td>\n",
       "      <td>35</td>\n",
       "      <td>132</td>\n",
       "      <td>243000.00</td>\n",
       "      <td>5882</td>\n",
       "      <td>No</td>\n",
       "      <td>1.00</td>\n",
       "      <td>No</td>\n",
       "      <td>No</td>\n",
       "      <td>85</td>\n",
       "      <td>Male</td>\n",
       "      <td>Dead</td>\n",
       "      <td>81 - 120</td>\n",
       "    </tr>\n",
       "    <tr>\n",
       "      <th>103</th>\n",
       "      <td>103</td>\n",
       "      <td>Yes</td>\n",
       "      <td>30</td>\n",
       "      <td>140</td>\n",
       "      <td>226000.00</td>\n",
       "      <td>5209</td>\n",
       "      <td>No</td>\n",
       "      <td>1.00</td>\n",
       "      <td>No</td>\n",
       "      <td>No</td>\n",
       "      <td>42</td>\n",
       "      <td>Male</td>\n",
       "      <td>Alive</td>\n",
       "      <td>10 - 50</td>\n",
       "    </tr>\n",
       "    <tr>\n",
       "      <th>134</th>\n",
       "      <td>134</td>\n",
       "      <td>Yes</td>\n",
       "      <td>35</td>\n",
       "      <td>137</td>\n",
       "      <td>231000.00</td>\n",
       "      <td>4540</td>\n",
       "      <td>No</td>\n",
       "      <td>1.18</td>\n",
       "      <td>No</td>\n",
       "      <td>No</td>\n",
       "      <td>81</td>\n",
       "      <td>Male</td>\n",
       "      <td>Alive</td>\n",
       "      <td>81 - 120</td>\n",
       "    </tr>\n",
       "    <tr>\n",
       "      <th>171</th>\n",
       "      <td>171</td>\n",
       "      <td>Yes</td>\n",
       "      <td>40</td>\n",
       "      <td>140</td>\n",
       "      <td>325000.00</td>\n",
       "      <td>3966</td>\n",
       "      <td>No</td>\n",
       "      <td>0.90</td>\n",
       "      <td>No</td>\n",
       "      <td>No</td>\n",
       "      <td>52</td>\n",
       "      <td>Male</td>\n",
       "      <td>Alive</td>\n",
       "      <td>51 - 70</td>\n",
       "    </tr>\n",
       "  </tbody>\n",
       "</table>\n",
       "</div>"
      ],
      "text/plain": [
       "     uniqueID smoking  ejection_fraction  serum_sodium  platelets  \\\n",
       "1           1      No                 38           136  263358.03   \n",
       "52         52      No                 62           146  263358.03   \n",
       "60         60      No                 25           139  390000.00   \n",
       "72         72     Yes                 35           132  243000.00   \n",
       "103       103     Yes                 30           140  226000.00   \n",
       "134       134     Yes                 35           137  231000.00   \n",
       "171       171     Yes                 40           140  325000.00   \n",
       "\n",
       "     creatinine_phosphokinase diabetes  serum_creatinine anaemia  \\\n",
       "1                        7861       No              1.10      No   \n",
       "52                       3964      Yes              6.80      No   \n",
       "60                       7702      Yes              1.00      No   \n",
       "72                       5882       No              1.00      No   \n",
       "103                      5209       No              1.00      No   \n",
       "134                      4540       No              1.18      No   \n",
       "171                      3966       No              0.90      No   \n",
       "\n",
       "    high_blood_pressure  age     sex patient_outcome age_group  \n",
       "1                    No   55    Male            Dead   51 - 70  \n",
       "52                   No   60  Female            Dead   51 - 70  \n",
       "60                  Yes   45    Male            Dead   10 - 50  \n",
       "72                   No   85    Male            Dead  81 - 120  \n",
       "103                  No   42    Male           Alive   10 - 50  \n",
       "134                  No   81    Male           Alive  81 - 120  \n",
       "171                  No   52    Male           Alive   51 - 70  "
      ]
     },
     "execution_count": 62,
     "metadata": {},
     "output_type": "execute_result"
    }
   ],
   "source": [
    "outliers_cpk"
   ]
  },
  {
   "cell_type": "markdown",
   "id": "0e401bd9-dda0-4b44-bbe9-f02e9cdcb348",
   "metadata": {},
   "source": [
    "- Using the Z-score method to find outliers, the data has returned 7 patient ID's: 1, 52, 60, 72, 103, 134, and 171. CPK has returned the highest number of outliers in the dataset (so far). The data across all columns seems to be evenly-distributed amongst the different variables, except for sex: there is only 1 female present in all 7 outliers.\n",
    "\n",
    "CPK needs the most cleaning compared to how many outliers have been found, and how many patients have levels more than 5 times the high range of normal. However, for this analysis, in comparing levels to other risk factors, it is important to leave them in as CPK has the potential to show correlation / risk factor for patients with heart failure."
   ]
  },
  {
   "cell_type": "code",
   "execution_count": 63,
   "id": "75db22b9-1577-4f54-aa29-814aa63556d4",
   "metadata": {
    "executionTime": 622,
    "lastSuccessfullyExecutedCode": "# Checking for patients that are below the lower end of the normal range indicated above (30 - 200)\nlow_cpk = heart_failure_copy[heart_failure_copy.creatinine_phosphokinase < 30]\ncount_low_cpk = len(low_cpk)\nprint(\"Number of patients with low creatinine phosphokinase (CPK):\",count_low_cpk)"
   },
   "outputs": [
    {
     "name": "stdout",
     "output_type": "stream",
     "text": [
      "Number of patients with low creatinine phosphokinase (CPK): 1\n"
     ]
    }
   ],
   "source": [
    "# Checking for patients that are below the lower end of the normal range indicated above (30 - 200)\n",
    "low_cpk = heart_failure_copy[heart_failure_copy.creatinine_phosphokinase < 30]\n",
    "count_low_cpk = len(low_cpk)\n",
    "print(\"Number of patients with low creatinine phosphokinase (CPK):\",count_low_cpk)"
   ]
  },
  {
   "cell_type": "markdown",
   "id": "2b3142c5-6f93-4a44-8e69-d0313b6333db",
   "metadata": {},
   "source": [
    "_- Only one patient has a lower than normal CPK level, and this could be due to a number of factors that are not included with the original dataset. This is too small of a group, and to ambigious, to explore any further._"
   ]
  },
  {
   "cell_type": "code",
   "execution_count": 64,
   "id": "195874d0-9419-4acd-8aea-d8eeba49755c",
   "metadata": {
    "executionTime": 491,
    "lastSuccessfullyExecutedCode": "# Checking for patients that are above the higher end of the normal range indicated above (30 - 200)\nhigh_cpk = heart_failure_copy[heart_failure_copy.creatinine_phosphokinase > 200]\ncount_high_cpk = len(high_cpk)\nprint(\"Number of patients with high creatinine phosphokinase (CPK):\",count_high_cpk)"
   },
   "outputs": [
    {
     "name": "stdout",
     "output_type": "stream",
     "text": [
      "Number of patients with high creatinine phosphokinase (CPK): 170\n"
     ]
    }
   ],
   "source": [
    "# Checking for patients that are above the higher end of the normal range indicated above (30 - 200)\n",
    "high_cpk = heart_failure_copy[heart_failure_copy.creatinine_phosphokinase > 200]\n",
    "count_high_cpk = len(high_cpk)\n",
    "print(\"Number of patients with high creatinine phosphokinase (CPK):\",count_high_cpk)"
   ]
  },
  {
   "cell_type": "markdown",
   "id": "aa46356f-8422-450f-87a4-d59c5aaf669f",
   "metadata": {},
   "source": [
    "- The results for patients with a CPK above 200 is abnormally high: 170 patients out of 299 reported higher than normal CPK levels. Out of 299 patients present in this dataset, **56.86%** have a high CPK level."
   ]
  },
  {
   "cell_type": "code",
   "execution_count": 65,
   "id": "1a97b173-1ba3-4259-8670-79c6413693fd",
   "metadata": {
    "executionTime": 501,
    "lastSuccessfullyExecutedCode": "#Dive deeper to see how many patients have CPK levels above 1,000 (a significantly elevated level that may indicate severe heart failure)\nextreme_cpk = heart_failure_copy[heart_failure_copy.creatinine_phosphokinase > 1000]\ncount_extreme_cpk = len(extreme_cpk)\nprint(\"Number of patients with extremely high creatinine phosphokinase (CPK):\",count_extreme_cpk)"
   },
   "outputs": [
    {
     "name": "stdout",
     "output_type": "stream",
     "text": [
      "Number of patients with extremely high creatinine phosphokinase (CPK): 36\n"
     ]
    }
   ],
   "source": [
    "#Dive deeper to see how many patients have CPK levels above 1,000 (a significantly elevated level that may indicate severe heart failure)\n",
    "extreme_cpk = heart_failure_copy[heart_failure_copy.creatinine_phosphokinase > 1000]\n",
    "count_extreme_cpk = len(extreme_cpk)\n",
    "print(\"Number of patients with extremely high creatinine phosphokinase (CPK):\",count_extreme_cpk)"
   ]
  },
  {
   "cell_type": "markdown",
   "id": "ab0ac58b-3f99-4bf7-a398-aaf176fe2a60",
   "metadata": {},
   "source": [
    "- Out of the initial 170 patients that have a CPK level above normal (200+), only 36 patients have a CPK level of 1,000+. This shows that **21.18%** of patients that have higher than normal CPK levels could potentially have severe heart failure.\n",
    "- Of all 299 patients this dataset collected, **12.04%** of patients are in the severe heart failure category if we are only looking at their CPK level."
   ]
  },
  {
   "cell_type": "code",
   "execution_count": 66,
   "id": "e1877264-0b5c-4a52-9380-48b257df511d",
   "metadata": {
    "executionTime": 505,
    "lastSuccessfullyExecutedCode": "# Filtering data to find all patients that have a CPK above 200 and \"Dead\" under patient outcome\nfiltered_cpk = heart_failure_copy[(heart_failure_copy['creatinine_phosphokinase'] > 200) & (heart_failure_copy['patient_outcome'] == 'Dead')]\ncount_filtered_cpk = len(filtered_cpk)\nprint(\"Number of patients with high creatinine phosphokinase (CPK) that have died:\",count_filtered_cpk)"
   },
   "outputs": [
    {
     "name": "stdout",
     "output_type": "stream",
     "text": [
      "Number of patients with high creatinine phosphokinase (CPK) that have died: 56\n"
     ]
    }
   ],
   "source": [
    "# Filtering data to find all patients that have a CPK above 200 and \"Dead\" under patient outcome\n",
    "filtered_cpk = heart_failure_copy[(heart_failure_copy['creatinine_phosphokinase'] > 200) & (heart_failure_copy['patient_outcome'] == 'Dead')]\n",
    "count_filtered_cpk = len(filtered_cpk)\n",
    "print(\"Number of patients with high creatinine phosphokinase (CPK) that have died:\",count_filtered_cpk)"
   ]
  },
  {
   "cell_type": "markdown",
   "id": "9c08f377-0d14-4d1f-b46a-ea660fb3ce3f",
   "metadata": {},
   "source": [
    "- In only looking at the CPK levels above 200, there are 56 patients out of 170 with higher than normal CPK levels who have died: this is **32.94%** of all patients with elevated CPK levels.\n",
    "- If we look at the entire count of patients (299), **18.73%** of patients that have a CPK level above 200 have **died** (this includes those with levels above 1,000, or considered extremely high)."
   ]
  },
  {
   "cell_type": "code",
   "execution_count": 67,
   "id": "f32881e9-7197-46a2-9c65-a3448d910262",
   "metadata": {
    "executionTime": 474,
    "lastSuccessfullyExecutedCode": "#Dive deeper to see how many patients with CPK above 1,000 have died during the follow-up period\nfiltered_cpk2 = heart_failure_copy[(heart_failure_copy['creatinine_phosphokinase'] > 1000) & (heart_failure_copy['patient_outcome'] == 'Dead')]\ncount_filtered_cpk2 = len(filtered_cpk2)\nprint(\"Number of patients with extremely high creatinine phosphokinase (CPK) that have died:\",count_filtered_cpk2)"
   },
   "outputs": [
    {
     "name": "stdout",
     "output_type": "stream",
     "text": [
      "Number of patients with extremely high creatinine phosphokinase (CPK) that have died: 10\n"
     ]
    }
   ],
   "source": [
    "#Dive deeper to see how many patients with CPK above 1,000 have died during the follow-up period\n",
    "filtered_cpk2 = heart_failure_copy[(heart_failure_copy['creatinine_phosphokinase'] > 1000) & (heart_failure_copy['patient_outcome'] == 'Dead')]\n",
    "count_filtered_cpk2 = len(filtered_cpk2)\n",
    "print(\"Number of patients with extremely high creatinine phosphokinase (CPK) that have died:\",count_filtered_cpk2)"
   ]
  },
  {
   "cell_type": "markdown",
   "id": "48796df2-282e-4cf2-901e-1235b4831351",
   "metadata": {},
   "source": [
    "- Over the course of this dataset, 10 patients have died that also have a an extremely high CPK level (above 1,000). Out of the 56 patients that have a CPK level above 200 and died, **17.86%** had levels in this extreme category.\n",
    "\n",
    "- Out of the 36 patients who have CPK levels above 1,000, **27.78%** have died, the rest were alive during the time this data was collected in the follow up period.\n",
    " \n",
    "- If we look at the entire count of patients (299), only **3.34%** of patients that have an extremely high CPK level (>1,000) have **died**."
   ]
  },
  {
   "cell_type": "code",
   "execution_count": 68,
   "id": "2c018406-10dc-4c87-a823-9143e4e38432",
   "metadata": {
    "executionTime": 556,
    "lastSuccessfullyExecutedCode": "# Distribution of creatinine phosphokinase (or CPK)\nsns.histplot(heart_failure_copy.creatinine_phosphokinase, kde=True, color='tab:blue')\nplt.title(\"Creatinine Phosphokinase (CPK) Distribution\", fontweight='bold');"
   },
   "outputs": [
    {
     "data": {
      "image/png": "[encoded data removed]",
      "text/plain": [
       "<Figure size 432x288 with 1 Axes>"
      ]
     },
     "metadata": {
      "needs_background": "light"
     },
     "output_type": "display_data"
    }
   ],
   "source": [
    "# Distribution of creatinine phosphokinase (or CPK)\n",
    "sns.histplot(heart_failure_copy.creatinine_phosphokinase, kde=True, color='tab:blue')\n",
    "plt.title(\"Creatinine Phosphokinase (CPK) Distribution\", fontweight='bold');"
   ]
  },
  {
   "cell_type": "markdown",
   "id": "0e3db32d-959e-47ae-b295-5aaafdec2a16",
   "metadata": {},
   "source": [
    "- Creatinine Phosphokinase (CPK) is heavily right skewed, most likely due to a higher number of outliers than the other columns previously explored.\n",
    "- CPK is the second highest abnormal factor amongst the patients in this dataset: **56.86%** of all patients have a higher than normal CPK level (>200), while **12.04%** are in the extremely high category (>1,000)."
   ]
  },
  {
   "cell_type": "markdown",
   "id": "69b1537c-aed1-4566-8af6-1c791b7e59a3",
   "metadata": {},
   "source": [
    "### Serum Creatinine"
   ]
  },
  {
   "cell_type": "markdown",
   "id": "94de368b-c81c-4bdd-b38d-6cecca312542",
   "metadata": {},
   "source": [
    "\"Serum creatinine is a laboratory test that measures the level of creatinine in the blood. Creatinine is a waste product that is produced by the muscles and is filtered out of the blood by the kidneys. The level of creatinine in the blood can be an indicator of kidney function. The normal range for serum creatinine is generally considered to be between **0.5 and 1.2 milligrams per deciliter (mg/dL) for adult males and 0.4 to 1.1 mg/dL for adult females**. Elevated levels of creatinine can indicate decreased kidney function, a condition known as renal impairment or renal insufficiency. It can be caused by a variety of factors such as diabetes, hypertension, glomerulonephritis, pyelonephritis, and others. _Creatinine level can also be affected by muscle mass, as a person with more muscle will have a higher creatinine level, and a person with less muscle will have a lower creatinine level. Therefore, it's important to consider muscle mass when interpreting creatinine levels, especially in athletes or older adults who may have decreased muscle mass._\" -ChatGPT"
   ]
  },
  {
   "cell_type": "code",
   "execution_count": 69,
   "id": "1299a095-6ba5-41f0-8436-d137d60ab7de",
   "metadata": {
    "executionTime": 0,
    "lastSuccessfullyExecutedCode": "# Using Z-score to find outliers\nz_scores = (heart_failure_copy['serum_creatinine'] - heart_failure_copy['serum_creatinine'].mean()) / heart_failure_copy['serum_creatinine'].std()"
   },
   "outputs": [],
   "source": [
    "# Using Z-score to find outliers\n",
    "z_scores = (heart_failure_copy['serum_creatinine'] - heart_failure_copy['serum_creatinine'].mean()) / heart_failure_copy['serum_creatinine'].std()"
   ]
  },
  {
   "cell_type": "code",
   "execution_count": 70,
   "id": "1bd3b30a-d5b6-49d0-8ce4-e07d546254ce",
   "metadata": {
    "executionTime": 0,
    "lastSuccessfullyExecutedCode": "threshold = 3\n\noutliers_sc = heart_failure_copy[z_scores.abs() > threshold]"
   },
   "outputs": [],
   "source": [
    "threshold = 3\n",
    "\n",
    "outliers_sc = heart_failure_copy[z_scores.abs() > threshold]"
   ]
  },
  {
   "cell_type": "code",
   "execution_count": 71,
   "id": "5e1f84e4-1510-4377-981c-0348efe094ac",
   "metadata": {
    "executionTime": 575,
    "lastSuccessfullyExecutedCode": "outliers_sc"
   },
   "outputs": [
    {
     "data": {
      "text/html": [
       "<div>\n",
       "<style scoped>\n",
       "    .dataframe tbody tr th:only-of-type {\n",
       "        vertical-align: middle;\n",
       "    }\n",
       "\n",
       "    .dataframe tbody tr th {\n",
       "        vertical-align: top;\n",
       "    }\n",
       "\n",
       "    .dataframe thead th {\n",
       "        text-align: right;\n",
       "    }\n",
       "</style>\n",
       "<table border=\"1\" class=\"dataframe\">\n",
       "  <thead>\n",
       "    <tr style=\"text-align: right;\">\n",
       "      <th></th>\n",
       "      <th>uniqueID</th>\n",
       "      <th>smoking</th>\n",
       "      <th>ejection_fraction</th>\n",
       "      <th>serum_sodium</th>\n",
       "      <th>platelets</th>\n",
       "      <th>creatinine_phosphokinase</th>\n",
       "      <th>diabetes</th>\n",
       "      <th>serum_creatinine</th>\n",
       "      <th>anaemia</th>\n",
       "      <th>high_blood_pressure</th>\n",
       "      <th>age</th>\n",
       "      <th>sex</th>\n",
       "      <th>patient_outcome</th>\n",
       "      <th>age_group</th>\n",
       "    </tr>\n",
       "  </thead>\n",
       "  <tbody>\n",
       "    <tr>\n",
       "      <th>9</th>\n",
       "      <td>9</td>\n",
       "      <td>Yes</td>\n",
       "      <td>35</td>\n",
       "      <td>133</td>\n",
       "      <td>388000.00</td>\n",
       "      <td>123</td>\n",
       "      <td>No</td>\n",
       "      <td>9.4</td>\n",
       "      <td>Yes</td>\n",
       "      <td>Yes</td>\n",
       "      <td>80</td>\n",
       "      <td>Male</td>\n",
       "      <td>Dead</td>\n",
       "      <td>71 - 80</td>\n",
       "    </tr>\n",
       "    <tr>\n",
       "      <th>28</th>\n",
       "      <td>28</td>\n",
       "      <td>No</td>\n",
       "      <td>38</td>\n",
       "      <td>134</td>\n",
       "      <td>153000.00</td>\n",
       "      <td>60</td>\n",
       "      <td>No</td>\n",
       "      <td>5.8</td>\n",
       "      <td>Yes</td>\n",
       "      <td>No</td>\n",
       "      <td>58</td>\n",
       "      <td>Male</td>\n",
       "      <td>Dead</td>\n",
       "      <td>51 - 70</td>\n",
       "    </tr>\n",
       "    <tr>\n",
       "      <th>52</th>\n",
       "      <td>52</td>\n",
       "      <td>No</td>\n",
       "      <td>62</td>\n",
       "      <td>146</td>\n",
       "      <td>263358.03</td>\n",
       "      <td>3964</td>\n",
       "      <td>Yes</td>\n",
       "      <td>6.8</td>\n",
       "      <td>No</td>\n",
       "      <td>No</td>\n",
       "      <td>60</td>\n",
       "      <td>Female</td>\n",
       "      <td>Dead</td>\n",
       "      <td>51 - 70</td>\n",
       "    </tr>\n",
       "    <tr>\n",
       "      <th>131</th>\n",
       "      <td>131</td>\n",
       "      <td>No</td>\n",
       "      <td>45</td>\n",
       "      <td>131</td>\n",
       "      <td>250000.00</td>\n",
       "      <td>1082</td>\n",
       "      <td>Yes</td>\n",
       "      <td>6.1</td>\n",
       "      <td>Yes</td>\n",
       "      <td>No</td>\n",
       "      <td>60</td>\n",
       "      <td>Male</td>\n",
       "      <td>Alive</td>\n",
       "      <td>51 - 70</td>\n",
       "    </tr>\n",
       "    <tr>\n",
       "      <th>217</th>\n",
       "      <td>217</td>\n",
       "      <td>No</td>\n",
       "      <td>70</td>\n",
       "      <td>137</td>\n",
       "      <td>151000.00</td>\n",
       "      <td>427</td>\n",
       "      <td>No</td>\n",
       "      <td>9.0</td>\n",
       "      <td>Yes</td>\n",
       "      <td>Yes</td>\n",
       "      <td>54</td>\n",
       "      <td>Female</td>\n",
       "      <td>Dead</td>\n",
       "      <td>51 - 70</td>\n",
       "    </tr>\n",
       "    <tr>\n",
       "      <th>228</th>\n",
       "      <td>228</td>\n",
       "      <td>No</td>\n",
       "      <td>25</td>\n",
       "      <td>130</td>\n",
       "      <td>237000.00</td>\n",
       "      <td>56</td>\n",
       "      <td>No</td>\n",
       "      <td>5.0</td>\n",
       "      <td>No</td>\n",
       "      <td>No</td>\n",
       "      <td>65</td>\n",
       "      <td>Female</td>\n",
       "      <td>Alive</td>\n",
       "      <td>51 - 70</td>\n",
       "    </tr>\n",
       "  </tbody>\n",
       "</table>\n",
       "</div>"
      ],
      "text/plain": [
       "     uniqueID smoking  ejection_fraction  serum_sodium  platelets  \\\n",
       "9           9     Yes                 35           133  388000.00   \n",
       "28         28      No                 38           134  153000.00   \n",
       "52         52      No                 62           146  263358.03   \n",
       "131       131      No                 45           131  250000.00   \n",
       "217       217      No                 70           137  151000.00   \n",
       "228       228      No                 25           130  237000.00   \n",
       "\n",
       "     creatinine_phosphokinase diabetes  serum_creatinine anaemia  \\\n",
       "9                         123       No               9.4     Yes   \n",
       "28                         60       No               5.8     Yes   \n",
       "52                       3964      Yes               6.8      No   \n",
       "131                      1082      Yes               6.1     Yes   \n",
       "217                       427       No               9.0     Yes   \n",
       "228                        56       No               5.0      No   \n",
       "\n",
       "    high_blood_pressure  age     sex patient_outcome age_group  \n",
       "9                   Yes   80    Male            Dead   71 - 80  \n",
       "28                   No   58    Male            Dead   51 - 70  \n",
       "52                   No   60  Female            Dead   51 - 70  \n",
       "131                  No   60    Male           Alive   51 - 70  \n",
       "217                 Yes   54  Female            Dead   51 - 70  \n",
       "228                  No   65  Female           Alive   51 - 70  "
      ]
     },
     "execution_count": 71,
     "metadata": {},
     "output_type": "execute_result"
    }
   ],
   "source": [
    "outliers_sc"
   ]
  },
  {
   "cell_type": "markdown",
   "id": "1adfb586-0fd7-47e4-b21f-35e4e1fc0e14",
   "metadata": {},
   "source": [
    "- Using the Z-score method to find outliers, the data has returned 6 patient ID's: 9, 28, 52, 131, 217, and 228. This variable has one less true outlier than CPK, making it the second highest. \n",
    "- The data across all columns seems to be evenly-distributed amongst the different variables.\n",
    "\n",
    "Serum creatinine has the second highest number of outliers in this dataset, and the highest levels were almost 8 times higher than the high end of the normal range. For this analysis, much like CPK, in order to compare these egregious levels to other risk factors, they must be left in."
   ]
  },
  {
   "cell_type": "code",
   "execution_count": 72,
   "id": "53734a75-908b-49f5-88c0-7a048e43c24d",
   "metadata": {
    "executionTime": 568,
    "lastSuccessfullyExecutedCode": "# Total number of patients with low serum creatinine levels\nlow_sc = heart_failure_copy[heart_failure_copy.serum_creatinine < 0.4]\ncount_low_sc = len(low_sc)\nprint(\"Number of patients with low serum creatinine:\", count_low_sc)"
   },
   "outputs": [
    {
     "name": "stdout",
     "output_type": "stream",
     "text": [
      "Number of patients with low serum creatinine: 0\n"
     ]
    }
   ],
   "source": [
    "# Total number of patients with low serum creatinine levels\n",
    "low_sc = heart_failure_copy[heart_failure_copy.serum_creatinine < 0.4]\n",
    "count_low_sc = len(low_sc)\n",
    "print(\"Number of patients with low serum creatinine:\", count_low_sc)"
   ]
  },
  {
   "cell_type": "code",
   "execution_count": 73,
   "id": "c36b7463-ec7b-41f0-9624-26a21c20ea15",
   "metadata": {
    "executionTime": 802,
    "lastSuccessfullyExecutedCode": "# Total number of patients with high serum creatinine levels\nhigh_sc = heart_failure_copy[heart_failure_copy.serum_creatinine > 1.2]\ncount_high_sc = len(high_sc)\nprint(\"Number of patients with high serum creatinine:\", count_high_sc)"
   },
   "outputs": [
    {
     "name": "stdout",
     "output_type": "stream",
     "text": [
      "Number of patients with high serum creatinine: 101\n"
     ]
    }
   ],
   "source": [
    "# Total number of patients with high serum creatinine levels\n",
    "high_sc = heart_failure_copy[heart_failure_copy.serum_creatinine > 1.2]\n",
    "count_high_sc = len(high_sc)\n",
    "print(\"Number of patients with high serum creatinine:\", count_high_sc)"
   ]
  },
  {
   "cell_type": "markdown",
   "id": "72bf068c-724a-4e2e-8346-92d9c3c1d2ac",
   "metadata": {},
   "source": [
    "- I decided to use the lowest and highest level amongst both males and females as the total range to calculate the amount of patients with low and high levels. I will explore further into both males and females separately next.\n",
    "- There are no patients with lower than normal Serum Creatinine.\n",
    "- There are 101 total patients with higher than normal Serum Creatinine levels (> 1.2). Out of the 299 patients collected in this dataset, **33.78%** have higher than normal Serum Creatinine levels."
   ]
  },
  {
   "cell_type": "markdown",
   "id": "4a005b98-f020-41ae-af7a-d015944d2246",
   "metadata": {},
   "source": [
    "_NOTE: Since there were no patients in the first portion, extracting all patients with lower than normal Serum Creatinine levels, there is no need to code this portion._"
   ]
  },
  {
   "cell_type": "code",
   "execution_count": 74,
   "id": "96b97c52-2bbe-41f1-8ff9-fc3af77934dd",
   "metadata": {
    "executionTime": 530,
    "lastSuccessfullyExecutedCode": "# Checking for male patients that are above the higher end of the normal range (0.5 - 1.2)\nhigh_male_sc = heart_failure_copy[(heart_failure_copy['serum_creatinine'] > 1.2) & (heart_failure_copy['sex'] == 'Male')]\ncount_high_male_sc = len(high_male_sc)\nprint(\"Number of male patients with high serum creatinine:\",count_high_male_sc)"
   },
   "outputs": [
    {
     "name": "stdout",
     "output_type": "stream",
     "text": [
      "Number of male patients with high serum creatinine: 67\n"
     ]
    }
   ],
   "source": [
    "# Checking for male patients that are above the higher end of the normal range (0.5 - 1.2)\n",
    "high_male_sc = heart_failure_copy[(heart_failure_copy['serum_creatinine'] > 1.2) & (heart_failure_copy['sex'] == 'Male')]\n",
    "count_high_male_sc = len(high_male_sc)\n",
    "print(\"Number of male patients with high serum creatinine:\",count_high_male_sc)"
   ]
  },
  {
   "cell_type": "markdown",
   "id": "5396c4c8-f77d-43cf-a4c7-dc8666833fc5",
   "metadata": {},
   "source": [
    "- There are 67 males with a Serum Creatinine level above normal (1.2). Out of the total patients collected with high levels, **66.34%** are male.\n",
    "- Out of 299 patients present in this dataset, **22.41%** have a higher than normal Serum Creatinine level (and are male)."
   ]
  },
  {
   "cell_type": "code",
   "execution_count": 75,
   "id": "616e6920-d301-4edf-8148-a8dbee801ceb",
   "metadata": {
    "executionTime": 594,
    "lastSuccessfullyExecutedCode": "# Dive deeper and see how many males with high serum creatinine have died\nmale_sc_died = heart_failure_copy[(heart_failure_copy['serum_creatinine'] > 1.2) & (heart_failure_copy['sex'] == 'Male') & (heart_failure_copy['patient_outcome'] == 'Dead')]\ncount_male_sc_died = len(male_sc_died)\nprint(\"Number of male patients with high serum creatinine that have died:\",count_male_sc_died)"
   },
   "outputs": [
    {
     "name": "stdout",
     "output_type": "stream",
     "text": [
      "Number of male patients with high serum creatinine that have died: 32\n"
     ]
    }
   ],
   "source": [
    "# Dive deeper and see how many males with high serum creatinine have died\n",
    "male_sc_died = heart_failure_copy[(heart_failure_copy['serum_creatinine'] > 1.2) & (heart_failure_copy['sex'] == 'Male') & (heart_failure_copy['patient_outcome'] == 'Dead')]\n",
    "count_male_sc_died = len(male_sc_died)\n",
    "print(\"Number of male patients with high serum creatinine that have died:\",count_male_sc_died)"
   ]
  },
  {
   "cell_type": "markdown",
   "id": "d91236ef-9c52-43bd-84d7-46509f6655d5",
   "metadata": {},
   "source": [
    "- Out of all patients that have higher than normal Serum Creatinine, 32 patients, or **31.68%**, were males that died.\n",
    "\n",
    "- Out of all males that recorded higher than normal Serum Creatinine, **47.76%** died.\n",
    " \n",
    "- If we look at the entire count of patients (299), **10.70%** of male patients that have high levels of Serum Creatinine **died**."
   ]
  },
  {
   "cell_type": "markdown",
   "id": "88a29991-3b2f-49ee-8302-8302e0b448b2",
   "metadata": {},
   "source": [
    "_NOTE: Since there were no patients in the first portion, extracting all patients with lower than normal Serum Creatinine levels, there is no need to code this portion._"
   ]
  },
  {
   "cell_type": "code",
   "execution_count": 76,
   "id": "d8c6a9e8-bc60-4159-a4de-3320a406a9ba",
   "metadata": {
    "executionTime": 889,
    "lastSuccessfullyExecutedCode": "# Checking for female patients that are above the higher end of the normal range (0.5 - 1.2)\nhigh_female_sc = heart_failure_copy[(heart_failure_copy['serum_creatinine'] > 1.1) & (heart_failure_copy['sex'] == 'Female')]\ncount_high_female_sc = len(high_female_sc)\nprint(\"Number of female patients with high serum creatinine:\", count_high_female_sc)"
   },
   "outputs": [
    {
     "name": "stdout",
     "output_type": "stream",
     "text": [
      "Number of female patients with high serum creatinine: 47\n"
     ]
    }
   ],
   "source": [
    "# Checking for female patients that are above the higher end of the normal range (0.5 - 1.2)\n",
    "high_female_sc = heart_failure_copy[(heart_failure_copy['serum_creatinine'] > 1.1) & (heart_failure_copy['sex'] == 'Female')]\n",
    "count_high_female_sc = len(high_female_sc)\n",
    "print(\"Number of female patients with high serum creatinine:\", count_high_female_sc)"
   ]
  },
  {
   "cell_type": "markdown",
   "id": "e5833f6e-0358-4803-9300-5dbf6320cf2b",
   "metadata": {},
   "source": [
    "- There are 47 females with a Serum Creatinine level above normal. Out of the total patients collected prior, **33.66%** are female.\n",
    "- Out of 299 patients present in this dataset, **15.72%** have a higher than normal Serum Creatinine level (and are female)."
   ]
  },
  {
   "cell_type": "code",
   "execution_count": 77,
   "id": "574e1ad2-5903-49b7-a3bb-f7287868a079",
   "metadata": {
    "executionTime": 671,
    "lastSuccessfullyExecutedCode": "# Dive deeper and see how many females with high Serum Creatinine have died\nfemale_sc_died = heart_failure_copy[(heart_failure_copy['serum_creatinine'] > 1.1) & (heart_failure_copy['sex'] == 'Female') & (heart_failure_copy['patient_outcome'] == 'Dead')]\ncount_female_sc_died = len(female_sc_died)\nprint(\"Number of female patients with high serum creatinine that died:\", count_female_sc_died)"
   },
   "outputs": [
    {
     "name": "stdout",
     "output_type": "stream",
     "text": [
      "Number of female patients with high serum creatinine that died: 24\n"
     ]
    }
   ],
   "source": [
    "# Dive deeper and see how many females with high Serum Creatinine have died\n",
    "female_sc_died = heart_failure_copy[(heart_failure_copy['serum_creatinine'] > 1.1) & (heart_failure_copy['sex'] == 'Female') & (heart_failure_copy['patient_outcome'] == 'Dead')]\n",
    "count_female_sc_died = len(female_sc_died)\n",
    "print(\"Number of female patients with high serum creatinine that died:\", count_female_sc_died)"
   ]
  },
  {
   "cell_type": "markdown",
   "id": "ecb5797f-41d9-4a4b-b716-3d7387b9bf6a",
   "metadata": {},
   "source": [
    "- Out of all patients that have higher than normal Serum Creatinine, 24 patients, or **23.76%**, were females that died.\n",
    "\n",
    "- Out of all females that recorded higher than normal Serum Creatinine, **51.06%** died.\n",
    " \n",
    "- If we look at the entire count of patients (299), **8.03%** of female patients that have high levels of Serum Creatinine **died**."
   ]
  },
  {
   "cell_type": "code",
   "execution_count": 78,
   "id": "4f332dd8-4931-4ef2-80e9-9520edf35066",
   "metadata": {
    "executionTime": 511,
    "lastSuccessfullyExecutedCode": "# Distribution of Serum Creatinine\nsns.histplot(heart_failure_copy.serum_creatinine, kde=True, color='tab:blue')\nplt.title(\"Serum Creatinine Distribution\", fontweight='bold');"
   },
   "outputs": [
    {
     "data": {
      "image/png": "[encoded data removed]",
      "text/plain": [
       "<Figure size 432x288 with 1 Axes>"
      ]
     },
     "metadata": {
      "needs_background": "light"
     },
     "output_type": "display_data"
    }
   ],
   "source": [
    "# Distribution of Serum Creatinine\n",
    "sns.histplot(heart_failure_copy.serum_creatinine, kde=True, color='tab:blue')\n",
    "plt.title(\"Serum Creatinine Distribution\", fontweight='bold');"
   ]
  },
  {
   "cell_type": "markdown",
   "id": "42b64f5b-6b38-4516-a8a3-2dcb28d7ba16",
   "metadata": {},
   "source": [
    "- Serum Creatinine is heavily right skewed, much like CPK is, most likely because it has the second highest amount of outliers.\n",
    "- Serum Creatinine is another abnormal factor amongst the patients in this dataset: **33.78%** of all patients have a higher than normal Serum Creatinine level. Breaking this down in to each sex, males made up **66.34%** and females **33.66%** of the 101 patients recorded with higher than normal levels.\n",
    "- Taking it further, looking at all patients that have a higher than normal Serium Creatinine level, **31.68%** that died were male, while only **21.78%** were female."
   ]
  },
  {
   "cell_type": "markdown",
   "id": "3e39c8b2-4b44-42bf-bd4b-a3c8bd1c5ff9",
   "metadata": {},
   "source": [
    "### During my tableau analysis, I found that the amount of non-smoking females in the 51-70 age group that died was higher than that of the same sex and age group, but were labeled as smokers. There was only 1 female smoker that died in the age group, compare to 17 non-smokers that died (same age and sex). Looking further into this visual, this was the only instance that the amount of female deaths were higher than male deaths (across all age groups, sex, and smoker vs non-smoker).\n",
    "### - There were _17 female_, non-smoking deaths in the 51-70 age group.\n",
    "### - While there were _13 male_ deaths within the same parameters."
   ]
  },
  {
   "cell_type": "markdown",
   "id": "2e99bdb6-cdd0-4d95-8fc8-fdeb6d226f33",
   "metadata": {},
   "source": [
    "### I will be exploring this finding to see if there is a correlation between other risk factors and the increase in female, non-smoking deaths in the 51-70 age group."
   ]
  },
  {
   "cell_type": "code",
   "execution_count": 79,
   "id": "7c515621-28c3-4e41-ab2c-1cee7aa3da91",
   "metadata": {
    "executionTime": 609,
    "lastSuccessfullyExecutedCode": "#filtering for female, age 51-70, non-smokers - regardless of outcome\nfilter_fm = heart_failure_copy[(heart_failure_copy[\"sex\"] == \"Female\") & (heart_failure_copy[\"age\"] > 50) & (heart_failure_copy[\"age\"] <= 70) & (heart_failure_copy[\"smoking\"] == \"No\")]\ncount_filter_fm = len(filter_fm)\nprint(\"Number of non-smoking, females, age 51-70 (regardless of outcome):\",count_filter_fm)"
   },
   "outputs": [
    {
     "name": "stdout",
     "output_type": "stream",
     "text": [
      "Number of non-smoking, females, age 51-70 (regardless of outcome): 60\n"
     ]
    }
   ],
   "source": [
    "#filtering for female, age 51-70, non-smokers - regardless of outcome\n",
    "filter_fm = heart_failure_copy[(heart_failure_copy[\"sex\"] == \"Female\") & (heart_failure_copy[\"age\"] > 50) & (heart_failure_copy[\"age\"] <= 70) & (heart_failure_copy[\"smoking\"] == \"No\")]\n",
    "count_filter_fm = len(filter_fm)\n",
    "print(\"Number of non-smoking, females, age 51-70 (regardless of outcome):\",count_filter_fm)"
   ]
  },
  {
   "cell_type": "markdown",
   "id": "30266bfe-8cc7-4207-8725-cae202dfc3bc",
   "metadata": {},
   "source": [
    "- There are **60 females** who do not smoke, between 51 and 70 years old."
   ]
  },
  {
   "cell_type": "code",
   "execution_count": 80,
   "id": "12fd4c53-6a53-449b-8bd4-f25f1fca8cca",
   "metadata": {
    "executionTime": 565,
    "lastSuccessfullyExecutedCode": "#filtering down further to only include patients that died\nfilter_fm = heart_failure_copy[(heart_failure_copy[\"sex\"] == \"Female\") & (heart_failure_copy[\"age\"] > 50) & (heart_failure_copy[\"age\"] <= 70) & (heart_failure_copy[\"smoking\"] == \"No\") & (heart_failure_copy[\"patient_outcome\"] == \"Dead\")]\ncount_filter_fm = len(filter_fm)\nprint(\"Number of non-smoking, females, age 51-70 that have died:\",count_filter_fm)"
   },
   "outputs": [
    {
     "name": "stdout",
     "output_type": "stream",
     "text": [
      "Number of non-smoking, females, age 51-70 that have died: 17\n"
     ]
    }
   ],
   "source": [
    "#filtering down further to only include patients that died\n",
    "filter_fm = heart_failure_copy[(heart_failure_copy[\"sex\"] == \"Female\") & (heart_failure_copy[\"age\"] > 50) & (heart_failure_copy[\"age\"] <= 70) & (heart_failure_copy[\"smoking\"] == \"No\") & (heart_failure_copy[\"patient_outcome\"] == \"Dead\")]\n",
    "count_filter_fm = len(filter_fm)\n",
    "print(\"Number of non-smoking, females, age 51-70 that have died:\",count_filter_fm)"
   ]
  },
  {
   "cell_type": "markdown",
   "id": "4adbc75f-1e66-4f28-9b01-9f3991355198",
   "metadata": {},
   "source": [
    "- Out of the 60 females from above, 17 have died: **28.33%** of this group (certain variables) have died during the follow up."
   ]
  },
  {
   "cell_type": "code",
   "execution_count": 81,
   "id": "b1021373-a82b-401c-bdee-07628cf38d99",
   "metadata": {
    "executionTime": 622,
    "lastSuccessfullyExecutedCode": "#how many of the 17 females that died have abnormal ejection fraction?\nfilter_fm = heart_failure_copy[(heart_failure_copy[\"sex\"] == \"Female\") & (heart_failure_copy[\"age\"] > 50) & (heart_failure_copy[\"age\"] <= 70) & (heart_failure_copy[\"smoking\"] == \"No\") & (heart_failure_copy[\"patient_outcome\"] == \"Dead\") & (heart_failure_copy[\"ejection_fraction\"] < 40)]\ncount_filter_fm = len(filter_fm)\nprint(\"How many females that have died have abnormal ejection fraction?\", count_filter_fm)"
   },
   "outputs": [
    {
     "name": "stdout",
     "output_type": "stream",
     "text": [
      "How many females that have died have abnormal ejection fraction? 11\n"
     ]
    }
   ],
   "source": [
    "#how many of the 17 females that died have abnormal ejection fraction?\n",
    "filter_fm = heart_failure_copy[(heart_failure_copy[\"sex\"] == \"Female\") & (heart_failure_copy[\"age\"] > 50) & (heart_failure_copy[\"age\"] <= 70) & (heart_failure_copy[\"smoking\"] == \"No\") & (heart_failure_copy[\"patient_outcome\"] == \"Dead\") & (heart_failure_copy[\"ejection_fraction\"] < 40)]\n",
    "count_filter_fm = len(filter_fm)\n",
    "print(\"How many females that have died have abnormal ejection fraction?\", count_filter_fm)"
   ]
  },
  {
   "cell_type": "markdown",
   "id": "27fb7645-1c14-4531-8123-98e39ac6fc10",
   "metadata": {},
   "source": [
    "- There are 11 patients that had lower than 40% EF levels: **64.71%** of non-smoking females, age 51-70 have died during follow-up."
   ]
  },
  {
   "cell_type": "code",
   "execution_count": 82,
   "id": "e1849d66-eb91-46bd-a728-6cc4489b5a74",
   "metadata": {
    "executionTime": 745,
    "lastSuccessfullyExecutedCode": "#how many of the 17 females that died have abnormal serum sodium?\nfilter_fm = heart_failure_copy[(heart_failure_copy[\"sex\"] == \"Female\") & (heart_failure_copy[\"age\"] > 50) & (heart_failure_copy[\"age\"] <= 70) & (heart_failure_copy[\"smoking\"] == \"No\") & (heart_failure_copy[\"patient_outcome\"] == \"Dead\") & (heart_failure_copy[\"serum_sodium\"] < 135)]\ncount_filter_fm = len(filter_fm)\nprint(\"How many females that have died have abnormal serum sodium?\", count_filter_fm)"
   },
   "outputs": [
    {
     "name": "stdout",
     "output_type": "stream",
     "text": [
      "How many females that have died have abnormal serum sodium? 4\n"
     ]
    }
   ],
   "source": [
    "#how many of the 17 females that died have abnormal serum sodium?\n",
    "filter_fm = heart_failure_copy[(heart_failure_copy[\"sex\"] == \"Female\") & (heart_failure_copy[\"age\"] > 50) & (heart_failure_copy[\"age\"] <= 70) & (heart_failure_copy[\"smoking\"] == \"No\") & (heart_failure_copy[\"patient_outcome\"] == \"Dead\") & (heart_failure_copy[\"serum_sodium\"] < 135)]\n",
    "count_filter_fm = len(filter_fm)\n",
    "print(\"How many females that have died have abnormal serum sodium?\", count_filter_fm)"
   ]
  },
  {
   "cell_type": "markdown",
   "id": "b13d23ff-c60d-408a-8154-1280e517bca2",
   "metadata": {},
   "source": [
    "- There are 4 patients that had lower than 135 Serum Sodium levels: **23.53%** of non-smoking females, age 51-70 have died during follow-up."
   ]
  },
  {
   "cell_type": "code",
   "execution_count": 83,
   "id": "0acadf09-65a5-4e87-8c96-694d3e0fbd9b",
   "metadata": {
    "executionTime": 624,
    "lastSuccessfullyExecutedCode": "#how many of the 17 females that died have abnormal platelet count?\nfilter_fm = heart_failure_copy[(heart_failure_copy[\"sex\"] == \"Female\") & (heart_failure_copy[\"age\"] > 50) & (heart_failure_copy[\"age\"] <= 70) & (heart_failure_copy[\"smoking\"] == \"No\") & (heart_failure_copy[\"patient_outcome\"] == \"Dead\") & (heart_failure_copy[\"platelets\"] < 150000)]\ncount_filter_fm = len(filter_fm)\nprint(\"How many females that have died have an abnormal platelet level?\", count_filter_fm)"
   },
   "outputs": [
    {
     "name": "stdout",
     "output_type": "stream",
     "text": [
      "How many females that have died have an abnormal platelet level? 1\n"
     ]
    }
   ],
   "source": [
    "#how many of the 17 females that died have abnormal platelet count?\n",
    "filter_fm = heart_failure_copy[(heart_failure_copy[\"sex\"] == \"Female\") & (heart_failure_copy[\"age\"] > 50) & (heart_failure_copy[\"age\"] <= 70) & (heart_failure_copy[\"smoking\"] == \"No\") & (heart_failure_copy[\"patient_outcome\"] == \"Dead\") & (heart_failure_copy[\"platelets\"] < 150000)]\n",
    "count_filter_fm = len(filter_fm)\n",
    "print(\"How many females that have died have an abnormal platelet level?\", count_filter_fm)"
   ]
  },
  {
   "cell_type": "markdown",
   "id": "0b0a7272-cd4e-4a30-905e-1c65d93a462e",
   "metadata": {},
   "source": [
    "- There is only 1 patient that had lower than 150,000 platelet levels: **5.88%** of non-smoking females, age 51-70 have died during follow-up. \n",
    "\n",
    "Note: there are no patients in this filtered dataset with higher than 450,000 platelet count."
   ]
  },
  {
   "cell_type": "code",
   "execution_count": 84,
   "id": "0ed556d5-d55f-4ba4-a9f2-2a6bc822dae7",
   "metadata": {
    "executionTime": 520,
    "lastSuccessfullyExecutedCode": "#how many of the 17 females that died have abnormal creatinine phosphokinase (CPK)?\nfilter_fm = heart_failure_copy[(heart_failure_copy[\"sex\"] == \"Female\") & (heart_failure_copy[\"age\"] > 50) & (heart_failure_copy[\"age\"] <= 70) & (heart_failure_copy[\"smoking\"] == \"No\") & (heart_failure_copy[\"patient_outcome\"] == \"Dead\") & (heart_failure_copy[\"creatinine_phosphokinase\"] > 200)]\ncount_filter_fm = len(filter_fm)\nprint(\"How many females that have died have abnormal creatinine phosphokinase (CPK)?\", count_filter_fm)"
   },
   "outputs": [
    {
     "name": "stdout",
     "output_type": "stream",
     "text": [
      "How many females that have died have abnormal creatinine phosphokinase (CPK)? 6\n"
     ]
    }
   ],
   "source": [
    "#how many of the 17 females that died have abnormal creatinine phosphokinase (CPK)?\n",
    "filter_fm = heart_failure_copy[(heart_failure_copy[\"sex\"] == \"Female\") & (heart_failure_copy[\"age\"] > 50) & (heart_failure_copy[\"age\"] <= 70) & (heart_failure_copy[\"smoking\"] == \"No\") & (heart_failure_copy[\"patient_outcome\"] == \"Dead\") & (heart_failure_copy[\"creatinine_phosphokinase\"] > 200)]\n",
    "count_filter_fm = len(filter_fm)\n",
    "print(\"How many females that have died have abnormal creatinine phosphokinase (CPK)?\", count_filter_fm)"
   ]
  },
  {
   "cell_type": "code",
   "execution_count": 85,
   "id": "d0759d17-63fe-4273-817a-a1613ed31c3a",
   "metadata": {
    "executionTime": 508,
    "lastSuccessfullyExecutedCode": "#how many of the 17 females that died have extremely abnormal creatinine phosphokinase (CPK)?\nfilter_fm = heart_failure_copy[(heart_failure_copy[\"sex\"] == \"Female\") & (heart_failure_copy[\"age\"] > 50) & (heart_failure_copy[\"age\"] <= 70) & (heart_failure_copy[\"smoking\"] == \"No\") & (heart_failure_copy[\"patient_outcome\"] == \"Dead\") & (heart_failure_copy[\"creatinine_phosphokinase\"] > 1000)]\ncount_filter_fm = len(filter_fm)\nprint(\"How many females that have died have extremely abnormal creatinine phosphokinase (CPK)?\", count_filter_fm)"
   },
   "outputs": [
    {
     "name": "stdout",
     "output_type": "stream",
     "text": [
      "How many females that have died have extremely abnormal creatinine phosphokinase (CPK)? 2\n"
     ]
    }
   ],
   "source": [
    "#how many of the 17 females that died have extremely abnormal creatinine phosphokinase (CPK)?\n",
    "filter_fm = heart_failure_copy[(heart_failure_copy[\"sex\"] == \"Female\") & (heart_failure_copy[\"age\"] > 50) & (heart_failure_copy[\"age\"] <= 70) & (heart_failure_copy[\"smoking\"] == \"No\") & (heart_failure_copy[\"patient_outcome\"] == \"Dead\") & (heart_failure_copy[\"creatinine_phosphokinase\"] > 1000)]\n",
    "count_filter_fm = len(filter_fm)\n",
    "print(\"How many females that have died have extremely abnormal creatinine phosphokinase (CPK)?\", count_filter_fm)"
   ]
  },
  {
   "cell_type": "markdown",
   "id": "19b0d57f-5a7b-425c-b45c-84b29176101f",
   "metadata": {},
   "source": [
    "- There are 6 patients that had higher than 200 CPKlevels: **35.29%** of non-smoking females, age 51-70 have died during follow-up. \n",
    "- However, there are only 2 patients within the high CPK group that have levels over 1,000: **11.76%** of non-smoking females, age 51-70 have died during follow-up with extremely high levels."
   ]
  },
  {
   "cell_type": "code",
   "execution_count": 86,
   "id": "228c97fc-949c-4b49-9d71-bd2d73fcdd49",
   "metadata": {
    "executionTime": 860,
    "lastSuccessfullyExecutedCode": "#how many of the 17 females that died have abnormal serum creatinine?\nfilter_fm = heart_failure_copy[(heart_failure_copy[\"sex\"] == \"Female\") & (heart_failure_copy[\"age\"] > 50) & (heart_failure_copy[\"age\"] <= 70) & (heart_failure_copy[\"smoking\"] == \"No\") & (heart_failure_copy[\"patient_outcome\"] == \"Dead\") & (heart_failure_copy[\"serum_creatinine\"] > 1.1)]\ncount_filter_fm = len(filter_fm)\nprint(\"How many females that have died have abnormal serum creatinine?\", count_filter_fm)"
   },
   "outputs": [
    {
     "name": "stdout",
     "output_type": "stream",
     "text": [
      "How many females that have died have abnormal serum creatinine? 12\n"
     ]
    }
   ],
   "source": [
    "#how many of the 17 females that died have abnormal serum creatinine?\n",
    "filter_fm = heart_failure_copy[(heart_failure_copy[\"sex\"] == \"Female\") & (heart_failure_copy[\"age\"] > 50) & (heart_failure_copy[\"age\"] <= 70) & (heart_failure_copy[\"smoking\"] == \"No\") & (heart_failure_copy[\"patient_outcome\"] == \"Dead\") & (heart_failure_copy[\"serum_creatinine\"] > 1.1)]\n",
    "count_filter_fm = len(filter_fm)\n",
    "print(\"How many females that have died have abnormal serum creatinine?\", count_filter_fm)"
   ]
  },
  {
   "cell_type": "markdown",
   "id": "16c170a2-5b40-4c48-929c-48d2710d2250",
   "metadata": {},
   "source": [
    "- There are 12 patients that had higher than 1.1 serum creatinine levels: **70.59%** of non-smoking females, age 51-70 have died during follow-up."
   ]
  },
  {
   "cell_type": "code",
   "execution_count": 87,
   "id": "536cd695-ef03-4d90-99f4-f2f03c7178d3",
   "metadata": {
    "executionTime": 712,
    "lastSuccessfullyExecutedCode": "#create new df from non-smoking females, age 51-70 for plotting purposes\nfilter_fm = heart_failure_copy[(heart_failure_copy[\"sex\"] == \"Female\") & (heart_failure_copy[\"age\"] > 50) & (heart_failure_copy[\"age\"] <= 70) & (heart_failure_copy[\"smoking\"] == \"No\")]\n\nnsf_df = pd.DataFrame(filter_fm)\n\nnsf_df"
   },
   "outputs": [
    {
     "data": {
      "text/html": [
       "<div>\n",
       "<style scoped>\n",
       "    .dataframe tbody tr th:only-of-type {\n",
       "        vertical-align: middle;\n",
       "    }\n",
       "\n",
       "    .dataframe tbody tr th {\n",
       "        vertical-align: top;\n",
       "    }\n",
       "\n",
       "    .dataframe thead th {\n",
       "        text-align: right;\n",
       "    }\n",
       "</style>\n",
       "<table border=\"1\" class=\"dataframe\">\n",
       "  <thead>\n",
       "    <tr style=\"text-align: right;\">\n",
       "      <th></th>\n",
       "      <th>uniqueID</th>\n",
       "      <th>smoking</th>\n",
       "      <th>ejection_fraction</th>\n",
       "      <th>serum_sodium</th>\n",
       "      <th>platelets</th>\n",
       "      <th>creatinine_phosphokinase</th>\n",
       "      <th>diabetes</th>\n",
       "      <th>serum_creatinine</th>\n",
       "      <th>anaemia</th>\n",
       "      <th>high_blood_pressure</th>\n",
       "      <th>age</th>\n",
       "      <th>sex</th>\n",
       "      <th>patient_outcome</th>\n",
       "      <th>age_group</th>\n",
       "    </tr>\n",
       "  </thead>\n",
       "  <tbody>\n",
       "    <tr>\n",
       "      <th>4</th>\n",
       "      <td>4</td>\n",
       "      <td>No</td>\n",
       "      <td>20</td>\n",
       "      <td>116</td>\n",
       "      <td>327000.00</td>\n",
       "      <td>160</td>\n",
       "      <td>Yes</td>\n",
       "      <td>2.70</td>\n",
       "      <td>Yes</td>\n",
       "      <td>No</td>\n",
       "      <td>65</td>\n",
       "      <td>Female</td>\n",
       "      <td>Dead</td>\n",
       "      <td>51 - 70</td>\n",
       "    </tr>\n",
       "    <tr>\n",
       "      <th>8</th>\n",
       "      <td>8</td>\n",
       "      <td>No</td>\n",
       "      <td>65</td>\n",
       "      <td>138</td>\n",
       "      <td>263358.03</td>\n",
       "      <td>157</td>\n",
       "      <td>No</td>\n",
       "      <td>1.50</td>\n",
       "      <td>No</td>\n",
       "      <td>No</td>\n",
       "      <td>65</td>\n",
       "      <td>Female</td>\n",
       "      <td>Dead</td>\n",
       "      <td>51 - 70</td>\n",
       "    </tr>\n",
       "    <tr>\n",
       "      <th>18</th>\n",
       "      <td>18</td>\n",
       "      <td>No</td>\n",
       "      <td>25</td>\n",
       "      <td>140</td>\n",
       "      <td>237000.00</td>\n",
       "      <td>125</td>\n",
       "      <td>No</td>\n",
       "      <td>1.00</td>\n",
       "      <td>Yes</td>\n",
       "      <td>Yes</td>\n",
       "      <td>70</td>\n",
       "      <td>Female</td>\n",
       "      <td>Dead</td>\n",
       "      <td>51 - 70</td>\n",
       "    </tr>\n",
       "    <tr>\n",
       "      <th>20</th>\n",
       "      <td>20</td>\n",
       "      <td>No</td>\n",
       "      <td>25</td>\n",
       "      <td>137</td>\n",
       "      <td>276000.00</td>\n",
       "      <td>52</td>\n",
       "      <td>No</td>\n",
       "      <td>1.30</td>\n",
       "      <td>Yes</td>\n",
       "      <td>Yes</td>\n",
       "      <td>65</td>\n",
       "      <td>Female</td>\n",
       "      <td>Alive</td>\n",
       "      <td>51 - 70</td>\n",
       "    </tr>\n",
       "    <tr>\n",
       "      <th>21</th>\n",
       "      <td>21</td>\n",
       "      <td>No</td>\n",
       "      <td>30</td>\n",
       "      <td>136</td>\n",
       "      <td>297000.00</td>\n",
       "      <td>128</td>\n",
       "      <td>Yes</td>\n",
       "      <td>1.60</td>\n",
       "      <td>Yes</td>\n",
       "      <td>Yes</td>\n",
       "      <td>65</td>\n",
       "      <td>Female</td>\n",
       "      <td>Dead</td>\n",
       "      <td>51 - 70</td>\n",
       "    </tr>\n",
       "    <tr>\n",
       "      <th>39</th>\n",
       "      <td>39</td>\n",
       "      <td>No</td>\n",
       "      <td>38</td>\n",
       "      <td>142</td>\n",
       "      <td>329000.00</td>\n",
       "      <td>235</td>\n",
       "      <td>Yes</td>\n",
       "      <td>3.00</td>\n",
       "      <td>No</td>\n",
       "      <td>No</td>\n",
       "      <td>60</td>\n",
       "      <td>Female</td>\n",
       "      <td>Dead</td>\n",
       "      <td>51 - 70</td>\n",
       "    </tr>\n",
       "    <tr>\n",
       "      <th>44</th>\n",
       "      <td>44</td>\n",
       "      <td>No</td>\n",
       "      <td>60</td>\n",
       "      <td>142</td>\n",
       "      <td>194000.00</td>\n",
       "      <td>588</td>\n",
       "      <td>Yes</td>\n",
       "      <td>1.10</td>\n",
       "      <td>Yes</td>\n",
       "      <td>No</td>\n",
       "      <td>60</td>\n",
       "      <td>Female</td>\n",
       "      <td>Dead</td>\n",
       "      <td>51 - 70</td>\n",
       "    </tr>\n",
       "    <tr>\n",
       "      <th>49</th>\n",
       "      <td>49</td>\n",
       "      <td>No</td>\n",
       "      <td>30</td>\n",
       "      <td>140</td>\n",
       "      <td>395000.00</td>\n",
       "      <td>129</td>\n",
       "      <td>No</td>\n",
       "      <td>1.00</td>\n",
       "      <td>Yes</td>\n",
       "      <td>No</td>\n",
       "      <td>57</td>\n",
       "      <td>Female</td>\n",
       "      <td>Dead</td>\n",
       "      <td>51 - 70</td>\n",
       "    </tr>\n",
       "    <tr>\n",
       "      <th>51</th>\n",
       "      <td>51</td>\n",
       "      <td>No</td>\n",
       "      <td>20</td>\n",
       "      <td>139</td>\n",
       "      <td>418000.00</td>\n",
       "      <td>91</td>\n",
       "      <td>No</td>\n",
       "      <td>1.40</td>\n",
       "      <td>Yes</td>\n",
       "      <td>Yes</td>\n",
       "      <td>53</td>\n",
       "      <td>Female</td>\n",
       "      <td>Dead</td>\n",
       "      <td>51 - 70</td>\n",
       "    </tr>\n",
       "    <tr>\n",
       "      <th>52</th>\n",
       "      <td>52</td>\n",
       "      <td>No</td>\n",
       "      <td>62</td>\n",
       "      <td>146</td>\n",
       "      <td>263358.03</td>\n",
       "      <td>3964</td>\n",
       "      <td>Yes</td>\n",
       "      <td>6.80</td>\n",
       "      <td>No</td>\n",
       "      <td>No</td>\n",
       "      <td>60</td>\n",
       "      <td>Female</td>\n",
       "      <td>Dead</td>\n",
       "      <td>51 - 70</td>\n",
       "    </tr>\n",
       "    <tr>\n",
       "      <th>53</th>\n",
       "      <td>53</td>\n",
       "      <td>No</td>\n",
       "      <td>50</td>\n",
       "      <td>134</td>\n",
       "      <td>351000.00</td>\n",
       "      <td>69</td>\n",
       "      <td>Yes</td>\n",
       "      <td>1.00</td>\n",
       "      <td>Yes</td>\n",
       "      <td>Yes</td>\n",
       "      <td>70</td>\n",
       "      <td>Female</td>\n",
       "      <td>Dead</td>\n",
       "      <td>51 - 70</td>\n",
       "    </tr>\n",
       "    <tr>\n",
       "      <th>68</th>\n",
       "      <td>68</td>\n",
       "      <td>No</td>\n",
       "      <td>25</td>\n",
       "      <td>142</td>\n",
       "      <td>244000.00</td>\n",
       "      <td>161</td>\n",
       "      <td>No</td>\n",
       "      <td>1.20</td>\n",
       "      <td>No</td>\n",
       "      <td>No</td>\n",
       "      <td>70</td>\n",
       "      <td>Female</td>\n",
       "      <td>Dead</td>\n",
       "      <td>51 - 70</td>\n",
       "    </tr>\n",
       "    <tr>\n",
       "      <th>79</th>\n",
       "      <td>79</td>\n",
       "      <td>No</td>\n",
       "      <td>45</td>\n",
       "      <td>140</td>\n",
       "      <td>324000.00</td>\n",
       "      <td>336</td>\n",
       "      <td>No</td>\n",
       "      <td>0.90</td>\n",
       "      <td>No</td>\n",
       "      <td>Yes</td>\n",
       "      <td>55</td>\n",
       "      <td>Female</td>\n",
       "      <td>Alive</td>\n",
       "      <td>51 - 70</td>\n",
       "    </tr>\n",
       "    <tr>\n",
       "      <th>80</th>\n",
       "      <td>80</td>\n",
       "      <td>No</td>\n",
       "      <td>40</td>\n",
       "      <td>136</td>\n",
       "      <td>293000.00</td>\n",
       "      <td>69</td>\n",
       "      <td>No</td>\n",
       "      <td>1.70</td>\n",
       "      <td>No</td>\n",
       "      <td>No</td>\n",
       "      <td>70</td>\n",
       "      <td>Female</td>\n",
       "      <td>Alive</td>\n",
       "      <td>51 - 70</td>\n",
       "    </tr>\n",
       "    <tr>\n",
       "      <th>82</th>\n",
       "      <td>82</td>\n",
       "      <td>No</td>\n",
       "      <td>25</td>\n",
       "      <td>132</td>\n",
       "      <td>196000.00</td>\n",
       "      <td>76</td>\n",
       "      <td>Yes</td>\n",
       "      <td>2.50</td>\n",
       "      <td>Yes</td>\n",
       "      <td>No</td>\n",
       "      <td>60</td>\n",
       "      <td>Female</td>\n",
       "      <td>Dead</td>\n",
       "      <td>51 - 70</td>\n",
       "    </tr>\n",
       "    <tr>\n",
       "      <th>84</th>\n",
       "      <td>84</td>\n",
       "      <td>No</td>\n",
       "      <td>25</td>\n",
       "      <td>141</td>\n",
       "      <td>302000.00</td>\n",
       "      <td>280</td>\n",
       "      <td>Yes</td>\n",
       "      <td>1.00</td>\n",
       "      <td>Yes</td>\n",
       "      <td>Yes</td>\n",
       "      <td>59</td>\n",
       "      <td>Female</td>\n",
       "      <td>Dead</td>\n",
       "      <td>51 - 70</td>\n",
       "    </tr>\n",
       "    <tr>\n",
       "      <th>94</th>\n",
       "      <td>94</td>\n",
       "      <td>No</td>\n",
       "      <td>38</td>\n",
       "      <td>142</td>\n",
       "      <td>327000.00</td>\n",
       "      <td>144</td>\n",
       "      <td>Yes</td>\n",
       "      <td>0.70</td>\n",
       "      <td>No</td>\n",
       "      <td>Yes</td>\n",
       "      <td>58</td>\n",
       "      <td>Female</td>\n",
       "      <td>Alive</td>\n",
       "      <td>51 - 70</td>\n",
       "    </tr>\n",
       "    <tr>\n",
       "      <th>97</th>\n",
       "      <td>97</td>\n",
       "      <td>No</td>\n",
       "      <td>60</td>\n",
       "      <td>136</td>\n",
       "      <td>255000.00</td>\n",
       "      <td>59</td>\n",
       "      <td>No</td>\n",
       "      <td>1.10</td>\n",
       "      <td>Yes</td>\n",
       "      <td>No</td>\n",
       "      <td>70</td>\n",
       "      <td>Female</td>\n",
       "      <td>Alive</td>\n",
       "      <td>51 - 70</td>\n",
       "    </tr>\n",
       "    <tr>\n",
       "      <th>98</th>\n",
       "      <td>98</td>\n",
       "      <td>No</td>\n",
       "      <td>25</td>\n",
       "      <td>137</td>\n",
       "      <td>318000.00</td>\n",
       "      <td>156</td>\n",
       "      <td>Yes</td>\n",
       "      <td>1.20</td>\n",
       "      <td>Yes</td>\n",
       "      <td>Yes</td>\n",
       "      <td>60</td>\n",
       "      <td>Female</td>\n",
       "      <td>Alive</td>\n",
       "      <td>51 - 70</td>\n",
       "    </tr>\n",
       "    <tr>\n",
       "      <th>99</th>\n",
       "      <td>99</td>\n",
       "      <td>No</td>\n",
       "      <td>40</td>\n",
       "      <td>140</td>\n",
       "      <td>221000.00</td>\n",
       "      <td>61</td>\n",
       "      <td>Yes</td>\n",
       "      <td>1.10</td>\n",
       "      <td>Yes</td>\n",
       "      <td>No</td>\n",
       "      <td>63</td>\n",
       "      <td>Female</td>\n",
       "      <td>Alive</td>\n",
       "      <td>51 - 70</td>\n",
       "    </tr>\n",
       "    <tr>\n",
       "      <th>104</th>\n",
       "      <td>104</td>\n",
       "      <td>No</td>\n",
       "      <td>50</td>\n",
       "      <td>143</td>\n",
       "      <td>286000.00</td>\n",
       "      <td>53</td>\n",
       "      <td>No</td>\n",
       "      <td>2.30</td>\n",
       "      <td>No</td>\n",
       "      <td>Yes</td>\n",
       "      <td>60</td>\n",
       "      <td>Female</td>\n",
       "      <td>Alive</td>\n",
       "      <td>51 - 70</td>\n",
       "    </tr>\n",
       "    <tr>\n",
       "      <th>113</th>\n",
       "      <td>113</td>\n",
       "      <td>No</td>\n",
       "      <td>60</td>\n",
       "      <td>137</td>\n",
       "      <td>351000.00</td>\n",
       "      <td>143</td>\n",
       "      <td>No</td>\n",
       "      <td>1.30</td>\n",
       "      <td>Yes</td>\n",
       "      <td>No</td>\n",
       "      <td>70</td>\n",
       "      <td>Female</td>\n",
       "      <td>Dead</td>\n",
       "      <td>51 - 70</td>\n",
       "    </tr>\n",
       "    <tr>\n",
       "      <th>115</th>\n",
       "      <td>115</td>\n",
       "      <td>No</td>\n",
       "      <td>40</td>\n",
       "      <td>139</td>\n",
       "      <td>164000.00</td>\n",
       "      <td>400</td>\n",
       "      <td>No</td>\n",
       "      <td>1.00</td>\n",
       "      <td>Yes</td>\n",
       "      <td>No</td>\n",
       "      <td>58</td>\n",
       "      <td>Female</td>\n",
       "      <td>Alive</td>\n",
       "      <td>51 - 70</td>\n",
       "    </tr>\n",
       "    <tr>\n",
       "      <th>116</th>\n",
       "      <td>116</td>\n",
       "      <td>No</td>\n",
       "      <td>60</td>\n",
       "      <td>136</td>\n",
       "      <td>271000.00</td>\n",
       "      <td>96</td>\n",
       "      <td>Yes</td>\n",
       "      <td>0.70</td>\n",
       "      <td>Yes</td>\n",
       "      <td>Yes</td>\n",
       "      <td>60</td>\n",
       "      <td>Female</td>\n",
       "      <td>Alive</td>\n",
       "      <td>51 - 70</td>\n",
       "    </tr>\n",
       "    <tr>\n",
       "      <th>118</th>\n",
       "      <td>118</td>\n",
       "      <td>No</td>\n",
       "      <td>60</td>\n",
       "      <td>140</td>\n",
       "      <td>203000.00</td>\n",
       "      <td>113</td>\n",
       "      <td>Yes</td>\n",
       "      <td>0.90</td>\n",
       "      <td>Yes</td>\n",
       "      <td>Yes</td>\n",
       "      <td>65</td>\n",
       "      <td>Female</td>\n",
       "      <td>Alive</td>\n",
       "      <td>51 - 70</td>\n",
       "    </tr>\n",
       "    <tr>\n",
       "      <th>121</th>\n",
       "      <td>121</td>\n",
       "      <td>No</td>\n",
       "      <td>38</td>\n",
       "      <td>136</td>\n",
       "      <td>162000.00</td>\n",
       "      <td>68</td>\n",
       "      <td>Yes</td>\n",
       "      <td>1.00</td>\n",
       "      <td>Yes</td>\n",
       "      <td>Yes</td>\n",
       "      <td>66</td>\n",
       "      <td>Female</td>\n",
       "      <td>Alive</td>\n",
       "      <td>51 - 70</td>\n",
       "    </tr>\n",
       "    <tr>\n",
       "      <th>122</th>\n",
       "      <td>122</td>\n",
       "      <td>No</td>\n",
       "      <td>38</td>\n",
       "      <td>140</td>\n",
       "      <td>228000.00</td>\n",
       "      <td>96</td>\n",
       "      <td>Yes</td>\n",
       "      <td>0.75</td>\n",
       "      <td>No</td>\n",
       "      <td>No</td>\n",
       "      <td>60</td>\n",
       "      <td>Female</td>\n",
       "      <td>Alive</td>\n",
       "      <td>51 - 70</td>\n",
       "    </tr>\n",
       "    <tr>\n",
       "      <th>123</th>\n",
       "      <td>123</td>\n",
       "      <td>No</td>\n",
       "      <td>30</td>\n",
       "      <td>145</td>\n",
       "      <td>127000.00</td>\n",
       "      <td>582</td>\n",
       "      <td>No</td>\n",
       "      <td>0.90</td>\n",
       "      <td>Yes</td>\n",
       "      <td>Yes</td>\n",
       "      <td>60</td>\n",
       "      <td>Female</td>\n",
       "      <td>Alive</td>\n",
       "      <td>51 - 70</td>\n",
       "    </tr>\n",
       "    <tr>\n",
       "      <th>127</th>\n",
       "      <td>127</td>\n",
       "      <td>No</td>\n",
       "      <td>60</td>\n",
       "      <td>137</td>\n",
       "      <td>300000.00</td>\n",
       "      <td>200</td>\n",
       "      <td>Yes</td>\n",
       "      <td>0.80</td>\n",
       "      <td>Yes</td>\n",
       "      <td>No</td>\n",
       "      <td>58</td>\n",
       "      <td>Female</td>\n",
       "      <td>Alive</td>\n",
       "      <td>51 - 70</td>\n",
       "    </tr>\n",
       "    <tr>\n",
       "      <th>136</th>\n",
       "      <td>136</td>\n",
       "      <td>No</td>\n",
       "      <td>60</td>\n",
       "      <td>137</td>\n",
       "      <td>172000.00</td>\n",
       "      <td>59</td>\n",
       "      <td>Yes</td>\n",
       "      <td>0.90</td>\n",
       "      <td>Yes</td>\n",
       "      <td>No</td>\n",
       "      <td>65</td>\n",
       "      <td>Female</td>\n",
       "      <td>Alive</td>\n",
       "      <td>51 - 70</td>\n",
       "    </tr>\n",
       "    <tr>\n",
       "      <th>138</th>\n",
       "      <td>138</td>\n",
       "      <td>No</td>\n",
       "      <td>35</td>\n",
       "      <td>136</td>\n",
       "      <td>221000.00</td>\n",
       "      <td>281</td>\n",
       "      <td>Yes</td>\n",
       "      <td>1.00</td>\n",
       "      <td>No</td>\n",
       "      <td>No</td>\n",
       "      <td>62</td>\n",
       "      <td>Female</td>\n",
       "      <td>Alive</td>\n",
       "      <td>51 - 70</td>\n",
       "    </tr>\n",
       "    <tr>\n",
       "      <th>143</th>\n",
       "      <td>143</td>\n",
       "      <td>No</td>\n",
       "      <td>40</td>\n",
       "      <td>141</td>\n",
       "      <td>229000.00</td>\n",
       "      <td>84</td>\n",
       "      <td>No</td>\n",
       "      <td>0.90</td>\n",
       "      <td>Yes</td>\n",
       "      <td>Yes</td>\n",
       "      <td>61</td>\n",
       "      <td>Female</td>\n",
       "      <td>Alive</td>\n",
       "      <td>51 - 70</td>\n",
       "    </tr>\n",
       "    <tr>\n",
       "      <th>154</th>\n",
       "      <td>154</td>\n",
       "      <td>No</td>\n",
       "      <td>35</td>\n",
       "      <td>136</td>\n",
       "      <td>235000.00</td>\n",
       "      <td>335</td>\n",
       "      <td>No</td>\n",
       "      <td>0.80</td>\n",
       "      <td>Yes</td>\n",
       "      <td>Yes</td>\n",
       "      <td>65</td>\n",
       "      <td>Female</td>\n",
       "      <td>Alive</td>\n",
       "      <td>51 - 70</td>\n",
       "    </tr>\n",
       "    <tr>\n",
       "      <th>156</th>\n",
       "      <td>156</td>\n",
       "      <td>No</td>\n",
       "      <td>35</td>\n",
       "      <td>136</td>\n",
       "      <td>277000.00</td>\n",
       "      <td>58</td>\n",
       "      <td>No</td>\n",
       "      <td>1.40</td>\n",
       "      <td>Yes</td>\n",
       "      <td>No</td>\n",
       "      <td>52</td>\n",
       "      <td>Female</td>\n",
       "      <td>Alive</td>\n",
       "      <td>51 - 70</td>\n",
       "    </tr>\n",
       "    <tr>\n",
       "      <th>168</th>\n",
       "      <td>168</td>\n",
       "      <td>No</td>\n",
       "      <td>40</td>\n",
       "      <td>138</td>\n",
       "      <td>270000.00</td>\n",
       "      <td>582</td>\n",
       "      <td>Yes</td>\n",
       "      <td>1.00</td>\n",
       "      <td>No</td>\n",
       "      <td>No</td>\n",
       "      <td>65</td>\n",
       "      <td>Female</td>\n",
       "      <td>Alive</td>\n",
       "      <td>51 - 70</td>\n",
       "    </tr>\n",
       "    <tr>\n",
       "      <th>169</th>\n",
       "      <td>169</td>\n",
       "      <td>No</td>\n",
       "      <td>35</td>\n",
       "      <td>133</td>\n",
       "      <td>305000.00</td>\n",
       "      <td>835</td>\n",
       "      <td>No</td>\n",
       "      <td>0.80</td>\n",
       "      <td>No</td>\n",
       "      <td>Yes</td>\n",
       "      <td>70</td>\n",
       "      <td>Female</td>\n",
       "      <td>Alive</td>\n",
       "      <td>51 - 70</td>\n",
       "    </tr>\n",
       "    <tr>\n",
       "      <th>187</th>\n",
       "      <td>187</td>\n",
       "      <td>No</td>\n",
       "      <td>25</td>\n",
       "      <td>144</td>\n",
       "      <td>365000.00</td>\n",
       "      <td>1896</td>\n",
       "      <td>Yes</td>\n",
       "      <td>2.10</td>\n",
       "      <td>No</td>\n",
       "      <td>No</td>\n",
       "      <td>60</td>\n",
       "      <td>Female</td>\n",
       "      <td>Dead</td>\n",
       "      <td>51 - 70</td>\n",
       "    </tr>\n",
       "    <tr>\n",
       "      <th>188</th>\n",
       "      <td>188</td>\n",
       "      <td>No</td>\n",
       "      <td>40</td>\n",
       "      <td>136</td>\n",
       "      <td>201000.00</td>\n",
       "      <td>151</td>\n",
       "      <td>Yes</td>\n",
       "      <td>1.00</td>\n",
       "      <td>Yes</td>\n",
       "      <td>Yes</td>\n",
       "      <td>60</td>\n",
       "      <td>Female</td>\n",
       "      <td>Alive</td>\n",
       "      <td>51 - 70</td>\n",
       "    </tr>\n",
       "    <tr>\n",
       "      <th>191</th>\n",
       "      <td>191</td>\n",
       "      <td>No</td>\n",
       "      <td>60</td>\n",
       "      <td>135</td>\n",
       "      <td>309000.00</td>\n",
       "      <td>62</td>\n",
       "      <td>No</td>\n",
       "      <td>1.50</td>\n",
       "      <td>Yes</td>\n",
       "      <td>No</td>\n",
       "      <td>64</td>\n",
       "      <td>Female</td>\n",
       "      <td>Alive</td>\n",
       "      <td>51 - 70</td>\n",
       "    </tr>\n",
       "    <tr>\n",
       "      <th>197</th>\n",
       "      <td>197</td>\n",
       "      <td>No</td>\n",
       "      <td>30</td>\n",
       "      <td>138</td>\n",
       "      <td>259000.00</td>\n",
       "      <td>167</td>\n",
       "      <td>No</td>\n",
       "      <td>0.80</td>\n",
       "      <td>No</td>\n",
       "      <td>No</td>\n",
       "      <td>65</td>\n",
       "      <td>Female</td>\n",
       "      <td>Alive</td>\n",
       "      <td>51 - 70</td>\n",
       "    </tr>\n",
       "    <tr>\n",
       "      <th>208</th>\n",
       "      <td>208</td>\n",
       "      <td>No</td>\n",
       "      <td>40</td>\n",
       "      <td>141</td>\n",
       "      <td>283000.00</td>\n",
       "      <td>2281</td>\n",
       "      <td>Yes</td>\n",
       "      <td>1.00</td>\n",
       "      <td>Yes</td>\n",
       "      <td>No</td>\n",
       "      <td>60</td>\n",
       "      <td>Female</td>\n",
       "      <td>Alive</td>\n",
       "      <td>51 - 70</td>\n",
       "    </tr>\n",
       "    <tr>\n",
       "      <th>216</th>\n",
       "      <td>216</td>\n",
       "      <td>No</td>\n",
       "      <td>50</td>\n",
       "      <td>141</td>\n",
       "      <td>358000.00</td>\n",
       "      <td>1202</td>\n",
       "      <td>No</td>\n",
       "      <td>0.90</td>\n",
       "      <td>No</td>\n",
       "      <td>Yes</td>\n",
       "      <td>70</td>\n",
       "      <td>Female</td>\n",
       "      <td>Alive</td>\n",
       "      <td>51 - 70</td>\n",
       "    </tr>\n",
       "    <tr>\n",
       "      <th>217</th>\n",
       "      <td>217</td>\n",
       "      <td>No</td>\n",
       "      <td>70</td>\n",
       "      <td>137</td>\n",
       "      <td>151000.00</td>\n",
       "      <td>427</td>\n",
       "      <td>No</td>\n",
       "      <td>9.00</td>\n",
       "      <td>Yes</td>\n",
       "      <td>Yes</td>\n",
       "      <td>54</td>\n",
       "      <td>Female</td>\n",
       "      <td>Dead</td>\n",
       "      <td>51 - 70</td>\n",
       "    </tr>\n",
       "    <tr>\n",
       "      <th>219</th>\n",
       "      <td>219</td>\n",
       "      <td>No</td>\n",
       "      <td>35</td>\n",
       "      <td>140</td>\n",
       "      <td>371000.00</td>\n",
       "      <td>582</td>\n",
       "      <td>Yes</td>\n",
       "      <td>0.70</td>\n",
       "      <td>No</td>\n",
       "      <td>Yes</td>\n",
       "      <td>55</td>\n",
       "      <td>Female</td>\n",
       "      <td>Alive</td>\n",
       "      <td>51 - 70</td>\n",
       "    </tr>\n",
       "    <tr>\n",
       "      <th>228</th>\n",
       "      <td>228</td>\n",
       "      <td>No</td>\n",
       "      <td>25</td>\n",
       "      <td>130</td>\n",
       "      <td>237000.00</td>\n",
       "      <td>56</td>\n",
       "      <td>No</td>\n",
       "      <td>5.00</td>\n",
       "      <td>No</td>\n",
       "      <td>No</td>\n",
       "      <td>65</td>\n",
       "      <td>Female</td>\n",
       "      <td>Alive</td>\n",
       "      <td>51 - 70</td>\n",
       "    </tr>\n",
       "    <tr>\n",
       "      <th>230</th>\n",
       "      <td>230</td>\n",
       "      <td>No</td>\n",
       "      <td>30</td>\n",
       "      <td>127</td>\n",
       "      <td>62000.00</td>\n",
       "      <td>166</td>\n",
       "      <td>No</td>\n",
       "      <td>1.70</td>\n",
       "      <td>No</td>\n",
       "      <td>No</td>\n",
       "      <td>60</td>\n",
       "      <td>Female</td>\n",
       "      <td>Dead</td>\n",
       "      <td>51 - 70</td>\n",
       "    </tr>\n",
       "    <tr>\n",
       "      <th>238</th>\n",
       "      <td>238</td>\n",
       "      <td>No</td>\n",
       "      <td>40</td>\n",
       "      <td>136</td>\n",
       "      <td>257000.00</td>\n",
       "      <td>720</td>\n",
       "      <td>Yes</td>\n",
       "      <td>1.00</td>\n",
       "      <td>Yes</td>\n",
       "      <td>No</td>\n",
       "      <td>65</td>\n",
       "      <td>Female</td>\n",
       "      <td>Alive</td>\n",
       "      <td>51 - 70</td>\n",
       "    </tr>\n",
       "    <tr>\n",
       "      <th>240</th>\n",
       "      <td>240</td>\n",
       "      <td>No</td>\n",
       "      <td>35</td>\n",
       "      <td>139</td>\n",
       "      <td>533000.00</td>\n",
       "      <td>81</td>\n",
       "      <td>Yes</td>\n",
       "      <td>1.30</td>\n",
       "      <td>No</td>\n",
       "      <td>Yes</td>\n",
       "      <td>70</td>\n",
       "      <td>Female</td>\n",
       "      <td>Alive</td>\n",
       "      <td>51 - 70</td>\n",
       "    </tr>\n",
       "    <tr>\n",
       "      <th>249</th>\n",
       "      <td>249</td>\n",
       "      <td>No</td>\n",
       "      <td>40</td>\n",
       "      <td>130</td>\n",
       "      <td>223000.00</td>\n",
       "      <td>207</td>\n",
       "      <td>Yes</td>\n",
       "      <td>1.20</td>\n",
       "      <td>No</td>\n",
       "      <td>No</td>\n",
       "      <td>53</td>\n",
       "      <td>Female</td>\n",
       "      <td>Alive</td>\n",
       "      <td>51 - 70</td>\n",
       "    </tr>\n",
       "    <tr>\n",
       "      <th>251</th>\n",
       "      <td>251</td>\n",
       "      <td>No</td>\n",
       "      <td>35</td>\n",
       "      <td>143</td>\n",
       "      <td>231000.00</td>\n",
       "      <td>572</td>\n",
       "      <td>Yes</td>\n",
       "      <td>0.80</td>\n",
       "      <td>No</td>\n",
       "      <td>No</td>\n",
       "      <td>55</td>\n",
       "      <td>Female</td>\n",
       "      <td>Alive</td>\n",
       "      <td>51 - 70</td>\n",
       "    </tr>\n",
       "    <tr>\n",
       "      <th>253</th>\n",
       "      <td>253</td>\n",
       "      <td>No</td>\n",
       "      <td>35</td>\n",
       "      <td>132</td>\n",
       "      <td>236000.00</td>\n",
       "      <td>88</td>\n",
       "      <td>Yes</td>\n",
       "      <td>1.20</td>\n",
       "      <td>No</td>\n",
       "      <td>Yes</td>\n",
       "      <td>70</td>\n",
       "      <td>Female</td>\n",
       "      <td>Alive</td>\n",
       "      <td>51 - 70</td>\n",
       "    </tr>\n",
       "    <tr>\n",
       "      <th>256</th>\n",
       "      <td>256</td>\n",
       "      <td>No</td>\n",
       "      <td>38</td>\n",
       "      <td>139</td>\n",
       "      <td>294000.00</td>\n",
       "      <td>326</td>\n",
       "      <td>No</td>\n",
       "      <td>1.70</td>\n",
       "      <td>No</td>\n",
       "      <td>No</td>\n",
       "      <td>65</td>\n",
       "      <td>Female</td>\n",
       "      <td>Alive</td>\n",
       "      <td>51 - 70</td>\n",
       "    </tr>\n",
       "    <tr>\n",
       "      <th>261</th>\n",
       "      <td>261</td>\n",
       "      <td>No</td>\n",
       "      <td>40</td>\n",
       "      <td>133</td>\n",
       "      <td>283000.00</td>\n",
       "      <td>655</td>\n",
       "      <td>No</td>\n",
       "      <td>0.70</td>\n",
       "      <td>Yes</td>\n",
       "      <td>No</td>\n",
       "      <td>62</td>\n",
       "      <td>Female</td>\n",
       "      <td>Alive</td>\n",
       "      <td>51 - 70</td>\n",
       "    </tr>\n",
       "    <tr>\n",
       "      <th>263</th>\n",
       "      <td>263</td>\n",
       "      <td>No</td>\n",
       "      <td>60</td>\n",
       "      <td>140</td>\n",
       "      <td>208000.00</td>\n",
       "      <td>157</td>\n",
       "      <td>Yes</td>\n",
       "      <td>1.00</td>\n",
       "      <td>Yes</td>\n",
       "      <td>No</td>\n",
       "      <td>68</td>\n",
       "      <td>Female</td>\n",
       "      <td>Alive</td>\n",
       "      <td>51 - 70</td>\n",
       "    </tr>\n",
       "    <tr>\n",
       "      <th>271</th>\n",
       "      <td>271</td>\n",
       "      <td>No</td>\n",
       "      <td>40</td>\n",
       "      <td>134</td>\n",
       "      <td>221000.00</td>\n",
       "      <td>582</td>\n",
       "      <td>Yes</td>\n",
       "      <td>0.90</td>\n",
       "      <td>No</td>\n",
       "      <td>No</td>\n",
       "      <td>51</td>\n",
       "      <td>Female</td>\n",
       "      <td>Alive</td>\n",
       "      <td>51 - 70</td>\n",
       "    </tr>\n",
       "    <tr>\n",
       "      <th>272</th>\n",
       "      <td>272</td>\n",
       "      <td>No</td>\n",
       "      <td>38</td>\n",
       "      <td>133</td>\n",
       "      <td>215000.00</td>\n",
       "      <td>213</td>\n",
       "      <td>No</td>\n",
       "      <td>1.20</td>\n",
       "      <td>No</td>\n",
       "      <td>No</td>\n",
       "      <td>67</td>\n",
       "      <td>Female</td>\n",
       "      <td>Alive</td>\n",
       "      <td>51 - 70</td>\n",
       "    </tr>\n",
       "    <tr>\n",
       "      <th>276</th>\n",
       "      <td>276</td>\n",
       "      <td>No</td>\n",
       "      <td>35</td>\n",
       "      <td>142</td>\n",
       "      <td>327000.00</td>\n",
       "      <td>618</td>\n",
       "      <td>No</td>\n",
       "      <td>1.10</td>\n",
       "      <td>No</td>\n",
       "      <td>No</td>\n",
       "      <td>70</td>\n",
       "      <td>Female</td>\n",
       "      <td>Alive</td>\n",
       "      <td>51 - 70</td>\n",
       "    </tr>\n",
       "    <tr>\n",
       "      <th>279</th>\n",
       "      <td>279</td>\n",
       "      <td>No</td>\n",
       "      <td>38</td>\n",
       "      <td>136</td>\n",
       "      <td>451000.00</td>\n",
       "      <td>84</td>\n",
       "      <td>Yes</td>\n",
       "      <td>1.30</td>\n",
       "      <td>No</td>\n",
       "      <td>No</td>\n",
       "      <td>55</td>\n",
       "      <td>Female</td>\n",
       "      <td>Alive</td>\n",
       "      <td>51 - 70</td>\n",
       "    </tr>\n",
       "    <tr>\n",
       "      <th>288</th>\n",
       "      <td>288</td>\n",
       "      <td>No</td>\n",
       "      <td>35</td>\n",
       "      <td>142</td>\n",
       "      <td>263358.03</td>\n",
       "      <td>892</td>\n",
       "      <td>Yes</td>\n",
       "      <td>1.10</td>\n",
       "      <td>No</td>\n",
       "      <td>No</td>\n",
       "      <td>65</td>\n",
       "      <td>Female</td>\n",
       "      <td>Alive</td>\n",
       "      <td>51 - 70</td>\n",
       "    </tr>\n",
       "    <tr>\n",
       "      <th>295</th>\n",
       "      <td>295</td>\n",
       "      <td>No</td>\n",
       "      <td>38</td>\n",
       "      <td>139</td>\n",
       "      <td>270000.00</td>\n",
       "      <td>1820</td>\n",
       "      <td>No</td>\n",
       "      <td>1.20</td>\n",
       "      <td>No</td>\n",
       "      <td>No</td>\n",
       "      <td>55</td>\n",
       "      <td>Female</td>\n",
       "      <td>Alive</td>\n",
       "      <td>51 - 70</td>\n",
       "    </tr>\n",
       "  </tbody>\n",
       "</table>\n",
       "</div>"
      ],
      "text/plain": [
       "     uniqueID smoking  ejection_fraction  serum_sodium  platelets  \\\n",
       "4           4      No                 20           116  327000.00   \n",
       "8           8      No                 65           138  263358.03   \n",
       "18         18      No                 25           140  237000.00   \n",
       "20         20      No                 25           137  276000.00   \n",
       "21         21      No                 30           136  297000.00   \n",
       "39         39      No                 38           142  329000.00   \n",
       "44         44      No                 60           142  194000.00   \n",
       "49         49      No                 30           140  395000.00   \n",
       "51         51      No                 20           139  418000.00   \n",
       "52         52      No                 62           146  263358.03   \n",
       "53         53      No                 50           134  351000.00   \n",
       "68         68      No                 25           142  244000.00   \n",
       "79         79      No                 45           140  324000.00   \n",
       "80         80      No                 40           136  293000.00   \n",
       "82         82      No                 25           132  196000.00   \n",
       "84         84      No                 25           141  302000.00   \n",
       "94         94      No                 38           142  327000.00   \n",
       "97         97      No                 60           136  255000.00   \n",
       "98         98      No                 25           137  318000.00   \n",
       "99         99      No                 40           140  221000.00   \n",
       "104       104      No                 50           143  286000.00   \n",
       "113       113      No                 60           137  351000.00   \n",
       "115       115      No                 40           139  164000.00   \n",
       "116       116      No                 60           136  271000.00   \n",
       "118       118      No                 60           140  203000.00   \n",
       "121       121      No                 38           136  162000.00   \n",
       "122       122      No                 38           140  228000.00   \n",
       "123       123      No                 30           145  127000.00   \n",
       "127       127      No                 60           137  300000.00   \n",
       "136       136      No                 60           137  172000.00   \n",
       "138       138      No                 35           136  221000.00   \n",
       "143       143      No                 40           141  229000.00   \n",
       "154       154      No                 35           136  235000.00   \n",
       "156       156      No                 35           136  277000.00   \n",
       "168       168      No                 40           138  270000.00   \n",
       "169       169      No                 35           133  305000.00   \n",
       "187       187      No                 25           144  365000.00   \n",
       "188       188      No                 40           136  201000.00   \n",
       "191       191      No                 60           135  309000.00   \n",
       "197       197      No                 30           138  259000.00   \n",
       "208       208      No                 40           141  283000.00   \n",
       "216       216      No                 50           141  358000.00   \n",
       "217       217      No                 70           137  151000.00   \n",
       "219       219      No                 35           140  371000.00   \n",
       "228       228      No                 25           130  237000.00   \n",
       "230       230      No                 30           127   62000.00   \n",
       "238       238      No                 40           136  257000.00   \n",
       "240       240      No                 35           139  533000.00   \n",
       "249       249      No                 40           130  223000.00   \n",
       "251       251      No                 35           143  231000.00   \n",
       "253       253      No                 35           132  236000.00   \n",
       "256       256      No                 38           139  294000.00   \n",
       "261       261      No                 40           133  283000.00   \n",
       "263       263      No                 60           140  208000.00   \n",
       "271       271      No                 40           134  221000.00   \n",
       "272       272      No                 38           133  215000.00   \n",
       "276       276      No                 35           142  327000.00   \n",
       "279       279      No                 38           136  451000.00   \n",
       "288       288      No                 35           142  263358.03   \n",
       "295       295      No                 38           139  270000.00   \n",
       "\n",
       "     creatinine_phosphokinase diabetes  serum_creatinine anaemia  \\\n",
       "4                         160      Yes              2.70     Yes   \n",
       "8                         157       No              1.50      No   \n",
       "18                        125       No              1.00     Yes   \n",
       "20                         52       No              1.30     Yes   \n",
       "21                        128      Yes              1.60     Yes   \n",
       "39                        235      Yes              3.00      No   \n",
       "44                        588      Yes              1.10     Yes   \n",
       "49                        129       No              1.00     Yes   \n",
       "51                         91       No              1.40     Yes   \n",
       "52                       3964      Yes              6.80      No   \n",
       "53                         69      Yes              1.00     Yes   \n",
       "68                        161       No              1.20      No   \n",
       "79                        336       No              0.90      No   \n",
       "80                         69       No              1.70      No   \n",
       "82                         76      Yes              2.50     Yes   \n",
       "84                        280      Yes              1.00     Yes   \n",
       "94                        144      Yes              0.70      No   \n",
       "97                         59       No              1.10     Yes   \n",
       "98                        156      Yes              1.20     Yes   \n",
       "99                         61      Yes              1.10     Yes   \n",
       "104                        53       No              2.30      No   \n",
       "113                       143       No              1.30     Yes   \n",
       "115                       400       No              1.00     Yes   \n",
       "116                        96      Yes              0.70     Yes   \n",
       "118                       113      Yes              0.90     Yes   \n",
       "121                        68      Yes              1.00     Yes   \n",
       "122                        96      Yes              0.75      No   \n",
       "123                       582       No              0.90     Yes   \n",
       "127                       200      Yes              0.80     Yes   \n",
       "136                        59      Yes              0.90     Yes   \n",
       "138                       281      Yes              1.00      No   \n",
       "143                        84       No              0.90     Yes   \n",
       "154                       335       No              0.80     Yes   \n",
       "156                        58       No              1.40     Yes   \n",
       "168                       582      Yes              1.00      No   \n",
       "169                       835       No              0.80      No   \n",
       "187                      1896      Yes              2.10      No   \n",
       "188                       151      Yes              1.00     Yes   \n",
       "191                        62       No              1.50     Yes   \n",
       "197                       167       No              0.80      No   \n",
       "208                      2281      Yes              1.00     Yes   \n",
       "216                      1202       No              0.90      No   \n",
       "217                       427       No              9.00     Yes   \n",
       "219                       582      Yes              0.70      No   \n",
       "228                        56       No              5.00      No   \n",
       "230                       166       No              1.70      No   \n",
       "238                       720      Yes              1.00     Yes   \n",
       "240                        81      Yes              1.30      No   \n",
       "249                       207      Yes              1.20      No   \n",
       "251                       572      Yes              0.80      No   \n",
       "253                        88      Yes              1.20      No   \n",
       "256                       326       No              1.70      No   \n",
       "261                       655       No              0.70     Yes   \n",
       "263                       157      Yes              1.00     Yes   \n",
       "271                       582      Yes              0.90      No   \n",
       "272                       213       No              1.20      No   \n",
       "276                       618       No              1.10      No   \n",
       "279                        84      Yes              1.30      No   \n",
       "288                       892      Yes              1.10      No   \n",
       "295                      1820       No              1.20      No   \n",
       "\n",
       "    high_blood_pressure  age     sex patient_outcome age_group  \n",
       "4                    No   65  Female            Dead   51 - 70  \n",
       "8                    No   65  Female            Dead   51 - 70  \n",
       "18                  Yes   70  Female            Dead   51 - 70  \n",
       "20                  Yes   65  Female           Alive   51 - 70  \n",
       "21                  Yes   65  Female            Dead   51 - 70  \n",
       "39                   No   60  Female            Dead   51 - 70  \n",
       "44                   No   60  Female            Dead   51 - 70  \n",
       "49                   No   57  Female            Dead   51 - 70  \n",
       "51                  Yes   53  Female            Dead   51 - 70  \n",
       "52                   No   60  Female            Dead   51 - 70  \n",
       "53                  Yes   70  Female            Dead   51 - 70  \n",
       "68                   No   70  Female            Dead   51 - 70  \n",
       "79                  Yes   55  Female           Alive   51 - 70  \n",
       "80                   No   70  Female           Alive   51 - 70  \n",
       "82                   No   60  Female            Dead   51 - 70  \n",
       "84                  Yes   59  Female            Dead   51 - 70  \n",
       "94                  Yes   58  Female           Alive   51 - 70  \n",
       "97                   No   70  Female           Alive   51 - 70  \n",
       "98                  Yes   60  Female           Alive   51 - 70  \n",
       "99                   No   63  Female           Alive   51 - 70  \n",
       "104                 Yes   60  Female           Alive   51 - 70  \n",
       "113                  No   70  Female            Dead   51 - 70  \n",
       "115                  No   58  Female           Alive   51 - 70  \n",
       "116                 Yes   60  Female           Alive   51 - 70  \n",
       "118                 Yes   65  Female           Alive   51 - 70  \n",
       "121                 Yes   66  Female           Alive   51 - 70  \n",
       "122                  No   60  Female           Alive   51 - 70  \n",
       "123                 Yes   60  Female           Alive   51 - 70  \n",
       "127                  No   58  Female           Alive   51 - 70  \n",
       "136                  No   65  Female           Alive   51 - 70  \n",
       "138                  No   62  Female           Alive   51 - 70  \n",
       "143                 Yes   61  Female           Alive   51 - 70  \n",
       "154                 Yes   65  Female           Alive   51 - 70  \n",
       "156                  No   52  Female           Alive   51 - 70  \n",
       "168                  No   65  Female           Alive   51 - 70  \n",
       "169                 Yes   70  Female           Alive   51 - 70  \n",
       "187                  No   60  Female            Dead   51 - 70  \n",
       "188                 Yes   60  Female           Alive   51 - 70  \n",
       "191                  No   64  Female           Alive   51 - 70  \n",
       "197                  No   65  Female           Alive   51 - 70  \n",
       "208                  No   60  Female           Alive   51 - 70  \n",
       "216                 Yes   70  Female           Alive   51 - 70  \n",
       "217                 Yes   54  Female            Dead   51 - 70  \n",
       "219                 Yes   55  Female           Alive   51 - 70  \n",
       "228                  No   65  Female           Alive   51 - 70  \n",
       "230                  No   60  Female            Dead   51 - 70  \n",
       "238                  No   65  Female           Alive   51 - 70  \n",
       "240                 Yes   70  Female           Alive   51 - 70  \n",
       "249                  No   53  Female           Alive   51 - 70  \n",
       "251                  No   55  Female           Alive   51 - 70  \n",
       "253                 Yes   70  Female           Alive   51 - 70  \n",
       "256                  No   65  Female           Alive   51 - 70  \n",
       "261                  No   62  Female           Alive   51 - 70  \n",
       "263                  No   68  Female           Alive   51 - 70  \n",
       "271                  No   51  Female           Alive   51 - 70  \n",
       "272                  No   67  Female           Alive   51 - 70  \n",
       "276                  No   70  Female           Alive   51 - 70  \n",
       "279                  No   55  Female           Alive   51 - 70  \n",
       "288                  No   65  Female           Alive   51 - 70  \n",
       "295                  No   55  Female           Alive   51 - 70  "
      ]
     },
     "execution_count": 87,
     "metadata": {},
     "output_type": "execute_result"
    }
   ],
   "source": [
    "#create new df from non-smoking females, age 51-70 for plotting purposes\n",
    "filter_fm = heart_failure_copy[(heart_failure_copy[\"sex\"] == \"Female\") & (heart_failure_copy[\"age\"] > 50) & (heart_failure_copy[\"age\"] <= 70) & (heart_failure_copy[\"smoking\"] == \"No\")]\n",
    "\n",
    "nsf_df = pd.DataFrame(filter_fm)\n",
    "\n",
    "nsf_df"
   ]
  },
  {
   "cell_type": "code",
   "execution_count": 88,
   "id": "02bd2182-36b9-48fa-bf3e-3fcdb9dd1793",
   "metadata": {
    "executionTime": 717,
    "lastSuccessfullyExecutedCode": "# calculate the correlation matrix\ncorr_matrix = nsf_df.corr()\n\n# create the heatmap\nsns.heatmap(corr_matrix, annot=True, cmap='viridis')\n\n# Add a title to the heatmap\nplt.title(\"Correlation of Variables for Non-Smoking Females, Age 50-70\")\n\n# make the heatmap bigger\nplt.gcf().set_size_inches(12, 6)\n\n# show the plot\nplt.show()"
   },
   "outputs": [
    {
     "data": {
      "image/png": "[encoded data removed]",
      "text/plain": [
       "<Figure size 864x432 with 2 Axes>"
      ]
     },
     "metadata": {
      "needs_background": "light"
     },
     "output_type": "display_data"
    }
   ],
   "source": [
    "# calculate the correlation matrix\n",
    "corr_matrix = nsf_df.corr()\n",
    "\n",
    "# create the heatmap\n",
    "sns.heatmap(corr_matrix, annot=True, cmap='viridis')\n",
    "\n",
    "# Add a title to the heatmap\n",
    "plt.title(\"Correlation of Variables for Non-Smoking Females, Age 50-70\")\n",
    "\n",
    "# make the heatmap bigger\n",
    "plt.gcf().set_size_inches(12, 6)\n",
    "\n",
    "# show the plot\n",
    "plt.show()"
   ]
  },
  {
   "cell_type": "markdown",
   "id": "2700245a-02c6-423b-885a-a0ef05aa9bfe",
   "metadata": {},
   "source": [
    "NOTE: It is important to remember that correlation _does not_ equal causation, and more testing is needed for any variables that show a positive, or negative, correlation in the heatmap above."
   ]
  },
  {
   "cell_type": "markdown",
   "id": "cdc9207d-e5db-4aa6-9e14-486564071c08",
   "metadata": {},
   "source": [
    "1) Variables closest to 1.0 (positive correlation):\n",
    "- **serum sodium & CPK** = 0.35\n",
    "- **CPK & serum creatinine** = 0.33\n",
    "- **ejection fraction & serum creatinine** = 0.21\n",
    "\n",
    "2) Variables closest to -1.0 (negative correlation):\n",
    "- **ejection fraction & platelets** = -0.16"
   ]
  },
  {
   "cell_type": "code",
   "execution_count": 89,
   "id": "ac04ca79-8dd2-4aca-a095-f5ff34bc4bad",
   "metadata": {
    "executionTime": 0,
    "lastSuccessfullyExecutedCode": "#Is there any indication that abnormal serum sodium and high CPK levels can be fatal for females age 51-70?\nfm_ss_cpk = nsf_df[['age', 'patient_outcome', 'serum_sodium', 'creatinine_phosphokinase', 'ejection_fraction', 'serum_creatinine', 'platelets']]"
   },
   "outputs": [],
   "source": [
    "#Is there any indication that abnormal serum sodium and high CPK levels can be fatal for females age 51-70?\n",
    "fm_ss_cpk = nsf_df[['age', 'patient_outcome', 'serum_sodium', 'creatinine_phosphokinase', 'ejection_fraction', 'serum_creatinine', 'platelets']]"
   ]
  },
  {
   "cell_type": "code",
   "execution_count": 90,
   "id": "618d8729-7b4a-4b11-aa3d-c3086ca705c7",
   "metadata": {
    "executionTime": 1643,
    "lastSuccessfullyExecutedCode": "sns.pairplot(fm_ss_cpk, hue = 'patient_outcome', palette = 'bright');"
   },
   "outputs": [
    {
     "data": {
      "image/png": "[encoded data removed]",
      "text/plain": [
       "<Figure size 1172x1080 with 42 Axes>"
      ]
     },
     "metadata": {
      "needs_background": "light"
     },
     "output_type": "display_data"
    }
   ],
   "source": [
    "sns.pairplot(fm_ss_cpk, hue = 'patient_outcome', palette = 'bright');"
   ]
  },
  {
   "cell_type": "markdown",
   "id": "159c216e-6d41-4d25-a2bf-e3d62c8b22fe",
   "metadata": {},
   "source": [
    "- Pairplot is the best function here to visualize and understand the relationships between serium sodium, CPK, EF, serum creatinine, and platelets. These plots strengthen the correlation that is seen in the heatmap above for serum sodium and CPK: it is the only scatterplot that is showing a noticable curve between dead and alive patients as both levels increase."
   ]
  },
  {
   "cell_type": "markdown",
   "id": "77e576a7-3e4c-4372-9e40-45d5fba84a56",
   "metadata": {},
   "source": [
    "### Side Exploration of Diabetes, Anemia, and High Blood Pressure in non-smoking females, age 51-70:"
   ]
  },
  {
   "cell_type": "markdown",
   "id": "6e179259-e1db-4d52-831f-6f9bd8efdf39",
   "metadata": {},
   "source": [
    "**1 - Diabetes Diagnosis**"
   ]
  },
  {
   "cell_type": "code",
   "execution_count": 91,
   "id": "b5b3e8cd-b1bd-4c8b-aa13-96af71205919",
   "metadata": {
    "executionTime": 721,
    "lastSuccessfullyExecutedCode": "#count of non-smoking, 51-70 females with diabetes\nsns.countplot(x = nsf_df.patient_outcome, hue = nsf_df.diabetes, palette = ['tab:orange', 'tab:blue'])\nplt.xlabel('Patient Outcome')\nplt.title('Number of Females with Diabetes');"
   },
   "outputs": [
    {
     "data": {
      "image/png": "[encoded data removed]",
      "text/plain": [
       "<Figure size 432x288 with 1 Axes>"
      ]
     },
     "metadata": {
      "needs_background": "light"
     },
     "output_type": "display_data"
    }
   ],
   "source": [
    "#count of non-smoking, 51-70 females with diabetes\n",
    "sns.countplot(x = nsf_df.patient_outcome, hue = nsf_df.diabetes, palette = ['tab:orange', 'tab:blue'])\n",
    "plt.xlabel('Patient Outcome')\n",
    "plt.title('Number of Females with Diabetes');"
   ]
  },
  {
   "cell_type": "code",
   "execution_count": 92,
   "id": "679e3c06-cceb-4f0c-b129-cfe6a0840175",
   "metadata": {
    "executionTime": 1049,
    "lastSuccessfullyExecutedCode": "#number of females in new df with diabetes that have died\nfd_dead = nsf_df[(nsf_df[\"sex\"] == \"Female\") & (nsf_df[\"diabetes\"] == \"Yes\") & (nsf_df[\"patient_outcome\"] == \"Dead\")]\ncount_fd_dead = len(fd_dead)\nprint(\"How many non-smoking females with diabetes have died?\",count_fd_dead)"
   },
   "outputs": [
    {
     "name": "stdout",
     "output_type": "stream",
     "text": [
      "How many non-smoking females with diabetes have died? 9\n"
     ]
    }
   ],
   "source": [
    "#number of females in new df with diabetes that have died\n",
    "fd_dead = nsf_df[(nsf_df[\"sex\"] == \"Female\") & (nsf_df[\"diabetes\"] == \"Yes\") & (nsf_df[\"patient_outcome\"] == \"Dead\")]\n",
    "count_fd_dead = len(fd_dead)\n",
    "print(\"How many non-smoking females with diabetes have died?\",count_fd_dead)"
   ]
  },
  {
   "cell_type": "code",
   "execution_count": 93,
   "id": "6dc16cdd-8dba-4ee8-aa0a-c40718ee21f8",
   "metadata": {
    "executionTime": 517,
    "lastSuccessfullyExecutedCode": "#number of females in new df with diabetes that are alive\nfd_alive = nsf_df[(nsf_df[\"sex\"] == \"Female\") & (nsf_df[\"diabetes\"] == \"Yes\") & (nsf_df[\"patient_outcome\"] == \"Alive\")]\ncount_fd_alive = len(fd_alive)\nprint(\"How many non-smoking females with diabetes are alive?\",count_fd_alive)"
   },
   "outputs": [
    {
     "name": "stdout",
     "output_type": "stream",
     "text": [
      "How many non-smoking females with diabetes are alive? 23\n"
     ]
    }
   ],
   "source": [
    "#number of females in new df with diabetes that are alive\n",
    "fd_alive = nsf_df[(nsf_df[\"sex\"] == \"Female\") & (nsf_df[\"diabetes\"] == \"Yes\") & (nsf_df[\"patient_outcome\"] == \"Alive\")]\n",
    "count_fd_alive = len(fd_alive)\n",
    "print(\"How many non-smoking females with diabetes are alive?\",count_fd_alive)"
   ]
  },
  {
   "cell_type": "code",
   "execution_count": 94,
   "id": "40917e8a-269c-4809-a8f8-11b652bfec8a",
   "metadata": {
    "executionTime": 552,
    "lastSuccessfullyExecutedCode": "#number of females in new df without diabetes that have died\nfnd_dead = nsf_df[(nsf_df[\"sex\"] == \"Female\") & (nsf_df[\"diabetes\"] == \"No\") & (nsf_df[\"patient_outcome\"] == \"Dead\")]\ncount_fnd_dead = len(fnd_dead)\nprint(\"How many non-smoking females without diabetes have died?\",count_fnd_dead)"
   },
   "outputs": [
    {
     "name": "stdout",
     "output_type": "stream",
     "text": [
      "How many non-smoking females without diabetes have died? 8\n"
     ]
    }
   ],
   "source": [
    "#number of females in new df without diabetes that have died\n",
    "fnd_dead = nsf_df[(nsf_df[\"sex\"] == \"Female\") & (nsf_df[\"diabetes\"] == \"No\") & (nsf_df[\"patient_outcome\"] == \"Dead\")]\n",
    "count_fnd_dead = len(fnd_dead)\n",
    "print(\"How many non-smoking females without diabetes have died?\",count_fnd_dead)"
   ]
  },
  {
   "cell_type": "code",
   "execution_count": 95,
   "id": "759e9a8a-73e9-491d-af22-0ae59c803b9a",
   "metadata": {
    "executionTime": 524,
    "lastSuccessfullyExecutedCode": "#number of females in new df without diabetes that are alive\nfnd_alive = nsf_df[(nsf_df[\"sex\"] == \"Female\") & (nsf_df[\"diabetes\"] == \"No\") & (nsf_df[\"patient_outcome\"] == \"Alive\")]\ncount_fnd_alive = len(fnd_alive)\nprint(\"How many non-smoking females without diabetes are alive?\",count_fnd_alive)"
   },
   "outputs": [
    {
     "name": "stdout",
     "output_type": "stream",
     "text": [
      "How many non-smoking females without diabetes are alive? 20\n"
     ]
    }
   ],
   "source": [
    "#number of females in new df without diabetes that are alive\n",
    "fnd_alive = nsf_df[(nsf_df[\"sex\"] == \"Female\") & (nsf_df[\"diabetes\"] == \"No\") & (nsf_df[\"patient_outcome\"] == \"Alive\")]\n",
    "count_fnd_alive = len(fnd_alive)\n",
    "print(\"How many non-smoking females without diabetes are alive?\",count_fnd_alive)"
   ]
  },
  {
   "cell_type": "markdown",
   "id": "7d83dcfe-018e-48fd-bd3b-8a6713dc716c",
   "metadata": {},
   "source": [
    "There are more females in this age group that have been diagnosed with diabetes that were alive during the follow up portion of this data collection. This could potentially indicate that most females were managing their diabetes and keeping their levels within a controllable range, thus decreasing complications for heart failure and/or death.\n",
    "- There are **9** females that were diagnosed with diabetes that died, and **23** females that are alive.\n",
    "- There are **8** females that were not diagnosed with diabetes that died, and **20** females that are alive."
   ]
  },
  {
   "cell_type": "code",
   "execution_count": 96,
   "id": "7f9965ac-0bee-4acd-96ac-733b319a427d",
   "metadata": {
    "executionTime": 679,
    "lastSuccessfullyExecutedCode": "fef = nsf_df[(nsf_df[\"diabetes\"] == \"Yes\") & (nsf_df[\"patient_outcome\"] == \"Dead\") & (nsf_df[\"ejection_fraction\"] < 40)]\ncount_fef = len(fef)\nprint(count_fef,\"out of 9 females also had low ejection fraction.\")\nprint(round((6/9)*100),\"% of females died.\")"
   },
   "outputs": [
    {
     "name": "stdout",
     "output_type": "stream",
     "text": [
      "6 out of 9 females also had low ejection fraction.\n",
      "67 % of females died.\n"
     ]
    }
   ],
   "source": [
    "fef = nsf_df[(nsf_df[\"diabetes\"] == \"Yes\") & (nsf_df[\"patient_outcome\"] == \"Dead\") & (nsf_df[\"ejection_fraction\"] < 40)]\n",
    "count_fef = len(fef)\n",
    "print(count_fef,\"out of 9 females also had low ejection fraction.\")\n",
    "print(round((6/9)*100),\"% of females died.\")"
   ]
  },
  {
   "cell_type": "code",
   "execution_count": 97,
   "id": "45b78084-fd20-467a-822b-c2ddb52aed78",
   "metadata": {
    "executionTime": 723,
    "lastSuccessfullyExecutedCode": "fss = nsf_df[(nsf_df[\"diabetes\"] == \"Yes\") & (nsf_df[\"patient_outcome\"] == \"Dead\") & (nsf_df[\"serum_sodium\"] < 135)]\ncount_fss = len(fss)\nprint(count_fss,\"out of 9 females also had low serum sodium.\")\nprint(round((3/9)*100),\"% of females died.\")"
   },
   "outputs": [
    {
     "name": "stdout",
     "output_type": "stream",
     "text": [
      "3 out of 9 females also had low serum sodium.\n",
      "33 % of females died.\n"
     ]
    }
   ],
   "source": [
    "fss = nsf_df[(nsf_df[\"diabetes\"] == \"Yes\") & (nsf_df[\"patient_outcome\"] == \"Dead\") & (nsf_df[\"serum_sodium\"] < 135)]\n",
    "count_fss = len(fss)\n",
    "print(count_fss,\"out of 9 females also had low serum sodium.\")\n",
    "print(round((3/9)*100),\"% of females died.\")"
   ]
  },
  {
   "cell_type": "code",
   "execution_count": 98,
   "id": "0ef6987f-e0b4-4d67-b659-dfaa820f9e3e",
   "metadata": {
    "executionTime": 930,
    "lastSuccessfullyExecutedCode": "fp = nsf_df[(nsf_df[\"diabetes\"] == \"Yes\") & (nsf_df[\"patient_outcome\"] == \"Dead\") & (nsf_df[\"platelets\"] < 150000)]\ncount_fp = len(fp)\nprint(count_fp,\"out of 9 females also had low platelets.\")\nprint(round((0/9)*100),\"% of females died.\")\n\nfp2 = nsf_df[(nsf_df[\"diabetes\"] == \"Yes\") & (nsf_df[\"patient_outcome\"] == \"Dead\") & (nsf_df[\"platelets\"] > 450000)]\ncount_fp2 = len(fp2)\nprint(count_fp2,\"out of 9 females also had high platelets.\")\nprint(round((0/9)*100),\"% of females died.\")"
   },
   "outputs": [
    {
     "name": "stdout",
     "output_type": "stream",
     "text": [
      "0 out of 9 females also had low platelets.\n",
      "0 % of females died.\n",
      "0 out of 9 females also had high platelets.\n",
      "0 % of females died.\n"
     ]
    }
   ],
   "source": [
    "fp = nsf_df[(nsf_df[\"diabetes\"] == \"Yes\") & (nsf_df[\"patient_outcome\"] == \"Dead\") & (nsf_df[\"platelets\"] < 150000)]\n",
    "count_fp = len(fp)\n",
    "print(count_fp,\"out of 9 females also had low platelets.\")\n",
    "print(round((0/9)*100),\"% of females died.\")\n",
    "\n",
    "fp2 = nsf_df[(nsf_df[\"diabetes\"] == \"Yes\") & (nsf_df[\"patient_outcome\"] == \"Dead\") & (nsf_df[\"platelets\"] > 450000)]\n",
    "count_fp2 = len(fp2)\n",
    "print(count_fp2,\"out of 9 females also had high platelets.\")\n",
    "print(round((0/9)*100),\"% of females died.\")"
   ]
  },
  {
   "cell_type": "code",
   "execution_count": 99,
   "id": "18b4ec47-9b35-433b-9401-884a705f0c08",
   "metadata": {
    "executionTime": 507,
    "lastSuccessfullyExecutedCode": "fcpk = nsf_df[(nsf_df[\"diabetes\"] == \"Yes\") & (nsf_df[\"patient_outcome\"] == \"Dead\") & (nsf_df[\"creatinine_phosphokinase\"] > 200)]\ncount_fcpk = len(fcpk)\nprint(count_fcpk,\"out of 9 females also had high creatinine_phosphokinase.\")\nprint(round((5/9)*100),\"% of females died.\")\n\nfcpk2 = nsf_df[(nsf_df[\"diabetes\"] == \"Yes\") & (nsf_df[\"patient_outcome\"] == \"Dead\") & (nsf_df[\"creatinine_phosphokinase\"] > 1000)]\ncount_fcpk2 = len(fcpk2)\nprint(count_fcpk2,\"out of 9 females also had extremely high creatinine_phosphokinase.\")\nprint(round((2/9)*100),\"% of females died.\")"
   },
   "outputs": [
    {
     "name": "stdout",
     "output_type": "stream",
     "text": [
      "5 out of 9 females also had high creatinine_phosphokinase.\n",
      "56 % of females died.\n",
      "2 out of 9 females also had extremely high creatinine_phosphokinase.\n",
      "22 % of females died.\n"
     ]
    }
   ],
   "source": [
    "fcpk = nsf_df[(nsf_df[\"diabetes\"] == \"Yes\") & (nsf_df[\"patient_outcome\"] == \"Dead\") & (nsf_df[\"creatinine_phosphokinase\"] > 200)]\n",
    "count_fcpk = len(fcpk)\n",
    "print(count_fcpk,\"out of 9 females also had high creatinine_phosphokinase.\")\n",
    "print(round((5/9)*100),\"% of females died.\")\n",
    "\n",
    "fcpk2 = nsf_df[(nsf_df[\"diabetes\"] == \"Yes\") & (nsf_df[\"patient_outcome\"] == \"Dead\") & (nsf_df[\"creatinine_phosphokinase\"] > 1000)]\n",
    "count_fcpk2 = len(fcpk2)\n",
    "print(count_fcpk2,\"out of 9 females also had extremely high creatinine_phosphokinase.\")\n",
    "print(round((2/9)*100),\"% of females died.\")"
   ]
  },
  {
   "cell_type": "code",
   "execution_count": 100,
   "id": "e78db79b-8719-41a8-8d59-250722309a85",
   "metadata": {
    "executionTime": 503,
    "lastSuccessfullyExecutedCode": "fsc = nsf_df[(nsf_df[\"diabetes\"] == \"Yes\") & (nsf_df[\"patient_outcome\"] == \"Dead\") & (nsf_df[\"serum_creatinine\"] > 1.1)]\ncount_fsc = len(fsc)\nprint(count_fsc,\"out of 9 females also had high serum creatinine.\")\nprint(round((6/9)*100),\"% of females died.\")"
   },
   "outputs": [
    {
     "name": "stdout",
     "output_type": "stream",
     "text": [
      "6 out of 9 females also had high serum creatinine.\n",
      "67 % of females died.\n"
     ]
    }
   ],
   "source": [
    "fsc = nsf_df[(nsf_df[\"diabetes\"] == \"Yes\") & (nsf_df[\"patient_outcome\"] == \"Dead\") & (nsf_df[\"serum_creatinine\"] > 1.1)]\n",
    "count_fsc = len(fsc)\n",
    "print(count_fsc,\"out of 9 females also had high serum creatinine.\")\n",
    "print(round((6/9)*100),\"% of females died.\")"
   ]
  },
  {
   "cell_type": "markdown",
   "id": "de8b2653-d303-4872-9517-a420ded3e157",
   "metadata": {},
   "source": [
    "The most noticeable correlation between non-smoking females, age 51-70, that were diagnosed with diabetes came from **low ejection fraction**, **high creatinine phosphokinase**, and **high serum creatinine**: all three variables were present in over half of the females that have died.\n",
    "- Low ejection fraction was present in **67%** of patients.\n",
    "- High creatine phosphokinase was present in **56%** of patients.\n",
    "- High serum creatinine was present in **67%** of patients.\n",
    "\n",
    "It would be interesting to see how many females had all three present:"
   ]
  },
  {
   "cell_type": "code",
   "execution_count": 101,
   "id": "4d95b869-b28b-4075-b219-bfcfe7625b90",
   "metadata": {
    "executionTime": 588,
    "lastSuccessfullyExecutedCode": "female_combo = nsf_df[(nsf_df[\"diabetes\"] == \"Yes\") & (nsf_df[\"patient_outcome\"] == \"Dead\") & (nsf_df[\"ejection_fraction\"] < 40) & (nsf_df[\"creatinine_phosphokinase\"] > 200) & (nsf_df[\"serum_creatinine\"] > 1.1)]\ncount_f_combo = len(female_combo)\nprint(\"Only\",count_f_combo,\"out of 17 female patients that died, and diagnosed with diabetes had all three abnormal levels.\")"
   },
   "outputs": [
    {
     "name": "stdout",
     "output_type": "stream",
     "text": [
      "Only 2 out of 17 female patients that died, and diagnosed with diabetes had all three abnormal levels.\n"
     ]
    }
   ],
   "source": [
    "female_combo = nsf_df[(nsf_df[\"diabetes\"] == \"Yes\") & (nsf_df[\"patient_outcome\"] == \"Dead\") & (nsf_df[\"ejection_fraction\"] < 40) & (nsf_df[\"creatinine_phosphokinase\"] > 200) & (nsf_df[\"serum_creatinine\"] > 1.1)]\n",
    "count_f_combo = len(female_combo)\n",
    "print(\"Only\",count_f_combo,\"out of 17 female patients that died, and diagnosed with diabetes had all three abnormal levels.\")"
   ]
  },
  {
   "cell_type": "markdown",
   "id": "9bbce982-3002-4d72-a822-32607fe976ab",
   "metadata": {},
   "source": [
    "- **11.76%** of females that died were diagnosed with diabetes and had all three abnormal levels."
   ]
  },
  {
   "cell_type": "markdown",
   "id": "828962df-8ee0-4569-8842-0740568866cb",
   "metadata": {},
   "source": [
    "**2 - High Blood Pressure Diagnosis**"
   ]
  },
  {
   "cell_type": "code",
   "execution_count": 102,
   "id": "af93ed79-d501-4646-bd36-ee147a3a4a1d",
   "metadata": {
    "executionTime": 535,
    "lastSuccessfullyExecutedCode": "#count of females with high bp from new df\nsns.countplot(x = nsf_df.patient_outcome, hue = nsf_df.high_blood_pressure, palette = ['tab:blue', 'tab:orange'])\nplt.xlabel('Patient Outcome')\nplt.title('Number of Females with High Blood Pressure');"
   },
   "outputs": [
    {
     "data": {
      "image/png": "[encoded data removed]",
      "text/plain": [
       "<Figure size 432x288 with 1 Axes>"
      ]
     },
     "metadata": {
      "needs_background": "light"
     },
     "output_type": "display_data"
    }
   ],
   "source": [
    "#count of females with high bp from new df\n",
    "sns.countplot(x = nsf_df.patient_outcome, hue = nsf_df.high_blood_pressure, palette = ['tab:blue', 'tab:orange'])\n",
    "plt.xlabel('Patient Outcome')\n",
    "plt.title('Number of Females with High Blood Pressure');"
   ]
  },
  {
   "cell_type": "code",
   "execution_count": 103,
   "id": "c1e6a3c3-80c5-4b0f-a348-a7510814108b",
   "metadata": {
    "executionTime": 623,
    "lastSuccessfullyExecutedCode": "#number of females in new df with high blood pressure that have died\nfhbp_dead = nsf_df[(nsf_df[\"sex\"] == \"Female\") & (nsf_df[\"high_blood_pressure\"] == \"Yes\") & (nsf_df[\"patient_outcome\"] == \"Dead\")]\ncount_fhbp_dead = len(fhbp_dead)\nprint(\"How many non-smoking females with high blood pressure have died?\",count_fhbp_dead)"
   },
   "outputs": [
    {
     "name": "stdout",
     "output_type": "stream",
     "text": [
      "How many non-smoking females with high blood pressure have died? 6\n"
     ]
    }
   ],
   "source": [
    "#number of females in new df with high blood pressure that have died\n",
    "fhbp_dead = nsf_df[(nsf_df[\"sex\"] == \"Female\") & (nsf_df[\"high_blood_pressure\"] == \"Yes\") & (nsf_df[\"patient_outcome\"] == \"Dead\")]\n",
    "count_fhbp_dead = len(fhbp_dead)\n",
    "print(\"How many non-smoking females with high blood pressure have died?\",count_fhbp_dead)"
   ]
  },
  {
   "cell_type": "code",
   "execution_count": 104,
   "id": "30880ee5-5e37-406f-8798-7ee3bc48a8a3",
   "metadata": {
    "executionTime": 647,
    "lastSuccessfullyExecutedCode": "#number of females in new df with high blood pressure that are alive\nfhbp_alive = nsf_df[(nsf_df[\"sex\"] == \"Female\") & (nsf_df[\"high_blood_pressure\"] == \"Yes\") & (nsf_df[\"patient_outcome\"] == \"Alive\")]\ncount_fhbp_alive = len(fhbp_alive)\nprint(\"How many non-smoking females with high blood pressure are alive?\",count_fhbp_alive)"
   },
   "outputs": [
    {
     "name": "stdout",
     "output_type": "stream",
     "text": [
      "How many non-smoking females with high blood pressure are alive? 17\n"
     ]
    }
   ],
   "source": [
    "#number of females in new df with high blood pressure that are alive\n",
    "fhbp_alive = nsf_df[(nsf_df[\"sex\"] == \"Female\") & (nsf_df[\"high_blood_pressure\"] == \"Yes\") & (nsf_df[\"patient_outcome\"] == \"Alive\")]\n",
    "count_fhbp_alive = len(fhbp_alive)\n",
    "print(\"How many non-smoking females with high blood pressure are alive?\",count_fhbp_alive)"
   ]
  },
  {
   "cell_type": "code",
   "execution_count": 105,
   "id": "6253920d-f4a8-4c17-a8dd-1f90241a87a9",
   "metadata": {
    "executionTime": 496,
    "lastSuccessfullyExecutedCode": "#number of females in new df without high blood pressure that have died\nfnhbp_dead = nsf_df[(nsf_df[\"sex\"] == \"Female\") & (nsf_df[\"high_blood_pressure\"] == \"No\") & (nsf_df[\"patient_outcome\"] == \"Dead\")]\ncount_fnhbp_dead = len(fnhbp_dead)\nprint(\"How many non-smoking females without high blood pressure have died?\",count_fnhbp_dead)"
   },
   "outputs": [
    {
     "name": "stdout",
     "output_type": "stream",
     "text": [
      "How many non-smoking females without high blood pressure have died? 11\n"
     ]
    }
   ],
   "source": [
    "#number of females in new df without high blood pressure that have died\n",
    "fnhbp_dead = nsf_df[(nsf_df[\"sex\"] == \"Female\") & (nsf_df[\"high_blood_pressure\"] == \"No\") & (nsf_df[\"patient_outcome\"] == \"Dead\")]\n",
    "count_fnhbp_dead = len(fnhbp_dead)\n",
    "print(\"How many non-smoking females without high blood pressure have died?\",count_fnhbp_dead)"
   ]
  },
  {
   "cell_type": "code",
   "execution_count": 106,
   "id": "e9d2260a-79e2-49f0-9350-095035722d33",
   "metadata": {
    "executionTime": 489,
    "lastSuccessfullyExecutedCode": "#number of females in new df without high blood pressure that are alive\nfnhbp_alive = nsf_df[(nsf_df[\"sex\"] == \"Female\") & (nsf_df[\"high_blood_pressure\"] == \"No\") & (nsf_df[\"patient_outcome\"] == \"Alive\")]\ncount_fnhbp_alive = len(fnhbp_alive)\nprint(\"How many non-smoking females without high blood pressure are alive?\",count_fnhbp_alive)"
   },
   "outputs": [
    {
     "name": "stdout",
     "output_type": "stream",
     "text": [
      "How many non-smoking females without high blood pressure are alive? 26\n"
     ]
    }
   ],
   "source": [
    "#number of females in new df without high blood pressure that are alive\n",
    "fnhbp_alive = nsf_df[(nsf_df[\"sex\"] == \"Female\") & (nsf_df[\"high_blood_pressure\"] == \"No\") & (nsf_df[\"patient_outcome\"] == \"Alive\")]\n",
    "count_fnhbp_alive = len(fnhbp_alive)\n",
    "print(\"How many non-smoking females without high blood pressure are alive?\",count_fnhbp_alive)"
   ]
  },
  {
   "cell_type": "markdown",
   "id": "4461d4a1-2830-4d8c-8488-7d7fa90ee50c",
   "metadata": {},
   "source": [
    "There are more females without high blood pressure that have died than those diagnosed with high blood pressure: however, the same is to be said about the females that were still alive during the follow up. High blood pressure is the only variable (out of these last three) that more patients died without having high blood pressure than those that did have high blood pressure. This is an interesting find and needs to be further investigated over a long time-span.\n",
    "- There are **6** females that were diagnosed with high blood pressure that died, and **17** females that are alive.\n",
    "- There are **11** females that were not diagnosed with high blood pressure that died, and **26** females that are alive."
   ]
  },
  {
   "cell_type": "code",
   "execution_count": 107,
   "id": "580177e5-a13f-499c-be77-d52d61d7849c",
   "metadata": {
    "executionTime": 478,
    "lastSuccessfullyExecutedCode": "fef = nsf_df[(nsf_df[\"high_blood_pressure\"] == \"Yes\") & (nsf_df[\"patient_outcome\"] == \"Dead\") & (nsf_df[\"ejection_fraction\"] < 40)]\ncount_fef = len(fef)\nprint(count_fef,\"out of 6 females also had low ejection fraction.\")\nprint(round((4/6)*100),\"% of females died.\")"
   },
   "outputs": [
    {
     "name": "stdout",
     "output_type": "stream",
     "text": [
      "4 out of 6 females also had low ejection fraction.\n",
      "67 % of females died.\n"
     ]
    }
   ],
   "source": [
    "fef = nsf_df[(nsf_df[\"high_blood_pressure\"] == \"Yes\") & (nsf_df[\"patient_outcome\"] == \"Dead\") & (nsf_df[\"ejection_fraction\"] < 40)]\n",
    "count_fef = len(fef)\n",
    "print(count_fef,\"out of 6 females also had low ejection fraction.\")\n",
    "print(round((4/6)*100),\"% of females died.\")"
   ]
  },
  {
   "cell_type": "code",
   "execution_count": 108,
   "id": "8db89ce5-0aa1-4a89-90c1-d7071450e404",
   "metadata": {
    "executionTime": 525,
    "lastSuccessfullyExecutedCode": "fss = nsf_df[(nsf_df[\"high_blood_pressure\"] == \"Yes\") & (nsf_df[\"patient_outcome\"] == \"Dead\") & (nsf_df[\"serum_sodium\"] < 135)]\ncount_fss = len(fss)\nprint(count_fss,\"out of 6 females also had low serum sodium.\")\nprint(round((1/6)*100),\"% of females died.\")"
   },
   "outputs": [
    {
     "name": "stdout",
     "output_type": "stream",
     "text": [
      "1 out of 6 females also had low serum sodium.\n",
      "17 % of females died.\n"
     ]
    }
   ],
   "source": [
    "fss = nsf_df[(nsf_df[\"high_blood_pressure\"] == \"Yes\") & (nsf_df[\"patient_outcome\"] == \"Dead\") & (nsf_df[\"serum_sodium\"] < 135)]\n",
    "count_fss = len(fss)\n",
    "print(count_fss,\"out of 6 females also had low serum sodium.\")\n",
    "print(round((1/6)*100),\"% of females died.\")"
   ]
  },
  {
   "cell_type": "code",
   "execution_count": 109,
   "id": "967007ee-4145-46da-a835-dde399372557",
   "metadata": {
    "executionTime": 597,
    "lastSuccessfullyExecutedCode": "fp = nsf_df[(nsf_df[\"high_blood_pressure\"] == \"Yes\") & (nsf_df[\"patient_outcome\"] == \"Dead\") & (nsf_df[\"platelets\"] < 150000)]\ncount_fp = len(fp)\nprint(count_fp,\"out of 6 females also had low platelets.\")\nprint(round((0/6)*100),\"% of females died.\")\n\nfp2 = nsf_df[(nsf_df[\"high_blood_pressure\"] == \"Yes\") & (nsf_df[\"patient_outcome\"] == \"Dead\") & (nsf_df[\"platelets\"] > 450000)]\ncount_fp2 = len(fp2)\nprint(count_fp2,\"out of 6 females also had high platelets.\")\nprint(round((0/6)*100),\"% of females died.\")"
   },
   "outputs": [
    {
     "name": "stdout",
     "output_type": "stream",
     "text": [
      "0 out of 6 females also had low platelets.\n",
      "0 % of females died.\n",
      "0 out of 6 females also had high platelets.\n",
      "0 % of females died.\n"
     ]
    }
   ],
   "source": [
    "fp = nsf_df[(nsf_df[\"high_blood_pressure\"] == \"Yes\") & (nsf_df[\"patient_outcome\"] == \"Dead\") & (nsf_df[\"platelets\"] < 150000)]\n",
    "count_fp = len(fp)\n",
    "print(count_fp,\"out of 6 females also had low platelets.\")\n",
    "print(round((0/6)*100),\"% of females died.\")\n",
    "\n",
    "fp2 = nsf_df[(nsf_df[\"high_blood_pressure\"] == \"Yes\") & (nsf_df[\"patient_outcome\"] == \"Dead\") & (nsf_df[\"platelets\"] > 450000)]\n",
    "count_fp2 = len(fp2)\n",
    "print(count_fp2,\"out of 6 females also had high platelets.\")\n",
    "print(round((0/6)*100),\"% of females died.\")"
   ]
  },
  {
   "cell_type": "code",
   "execution_count": 110,
   "id": "24743244-a731-4131-9188-09193d056b5e",
   "metadata": {
    "executionTime": 664,
    "lastSuccessfullyExecutedCode": "fcpk = nsf_df[(nsf_df[\"high_blood_pressure\"] == \"Yes\") & (nsf_df[\"patient_outcome\"] == \"Dead\") & (nsf_df[\"creatinine_phosphokinase\"] > 200)]\ncount_fcpk = len(fcpk)\nprint(count_fcpk,\"out of 6 females also had high creatinine_phosphokinase.\")\nprint(round((2/6)*100),\"% of females died.\")\n\nfcpk2 = nsf_df[(nsf_df[\"high_blood_pressure\"] == \"Yes\") & (nsf_df[\"patient_outcome\"] == \"Dead\") & (nsf_df[\"creatinine_phosphokinase\"] > 1000)]\ncount_fcpk2 = len(fcpk2)\nprint(count_fcpk2,\"out of 6 females also had extremely high creatinine_phosphokinase.\")\nprint(round((0/6)*100),\"% of females died.\")"
   },
   "outputs": [
    {
     "name": "stdout",
     "output_type": "stream",
     "text": [
      "2 out of 6 females also had high creatinine_phosphokinase.\n",
      "33 % of females died.\n",
      "0 out of 6 females also had extremely high creatinine_phosphokinase.\n",
      "0 % of females died.\n"
     ]
    }
   ],
   "source": [
    "fcpk = nsf_df[(nsf_df[\"high_blood_pressure\"] == \"Yes\") & (nsf_df[\"patient_outcome\"] == \"Dead\") & (nsf_df[\"creatinine_phosphokinase\"] > 200)]\n",
    "count_fcpk = len(fcpk)\n",
    "print(count_fcpk,\"out of 6 females also had high creatinine_phosphokinase.\")\n",
    "print(round((2/6)*100),\"% of females died.\")\n",
    "\n",
    "fcpk2 = nsf_df[(nsf_df[\"high_blood_pressure\"] == \"Yes\") & (nsf_df[\"patient_outcome\"] == \"Dead\") & (nsf_df[\"creatinine_phosphokinase\"] > 1000)]\n",
    "count_fcpk2 = len(fcpk2)\n",
    "print(count_fcpk2,\"out of 6 females also had extremely high creatinine_phosphokinase.\")\n",
    "print(round((0/6)*100),\"% of females died.\")"
   ]
  },
  {
   "cell_type": "code",
   "execution_count": 111,
   "id": "471927ab-b27d-4612-8681-6ae10762ef53",
   "metadata": {
    "executionTime": 539,
    "lastSuccessfullyExecutedCode": "fsc = nsf_df[(nsf_df[\"high_blood_pressure\"] == \"Yes\") & (nsf_df[\"patient_outcome\"] == \"Dead\") & (nsf_df[\"serum_creatinine\"] > 1.1)]\ncount_fsc = len(fsc)\nprint(count_fsc,\"out of 6 females also had high serum creatinine.\")\nprint(round((3/6)*100),\"% of females died.\")"
   },
   "outputs": [
    {
     "name": "stdout",
     "output_type": "stream",
     "text": [
      "3 out of 6 females also had high serum creatinine.\n",
      "50 % of females died.\n"
     ]
    }
   ],
   "source": [
    "fsc = nsf_df[(nsf_df[\"high_blood_pressure\"] == \"Yes\") & (nsf_df[\"patient_outcome\"] == \"Dead\") & (nsf_df[\"serum_creatinine\"] > 1.1)]\n",
    "count_fsc = len(fsc)\n",
    "print(count_fsc,\"out of 6 females also had high serum creatinine.\")\n",
    "print(round((3/6)*100),\"% of females died.\")"
   ]
  },
  {
   "cell_type": "markdown",
   "id": "4dc42426-b73f-4025-a2c0-789bbf055dd5",
   "metadata": {},
   "source": [
    "The most noticeable correlation between non-smoking females, age 51-70, that were diagnosed with diabetes came from **low ejection fraction** and **high serum creatinine**: both variables were present in over half of the females that have died.\n",
    "- Low ejection fraction was present in **67%** of patients (same percentage as diabetes).\n",
    "- High serum creatinine was present in **50%** of patients.\n",
    "\n",
    "It would be interesting to see how many females had both present:"
   ]
  },
  {
   "cell_type": "code",
   "execution_count": 112,
   "id": "f7fdd0fc-5b58-40a2-8663-4feee7749e19",
   "metadata": {
    "executionTime": 822,
    "lastSuccessfullyExecutedCode": "dhbp_ef = nsf_df[(nsf_df[\"diabetes\"] == \"Yes\") & (nsf_df[\"high_blood_pressure\"] == \"Yes\") & (nsf_df[\"patient_outcome\"] == \"Dead\") & (nsf_df[\"ejection_fraction\"] < 40) & (nsf_df[\"serum_creatinine\"] > 1.1)]\ncount_dhpb_ef = len(dhbp_ef)\nprint(\"There are only\",count_dhpb_ef,\"out of 17 females that died that have both diabetes and high blood pressure, and also have low ejection fraction and high serum creatinine.\")"
   },
   "outputs": [
    {
     "name": "stdout",
     "output_type": "stream",
     "text": [
      "There are only 1 out of 17 females that died that have both diabetes and high blood pressure, and also have low ejection fraction and high serum creatinine.\n"
     ]
    }
   ],
   "source": [
    "dhbp_ef = nsf_df[(nsf_df[\"diabetes\"] == \"Yes\") & (nsf_df[\"high_blood_pressure\"] == \"Yes\") & (nsf_df[\"patient_outcome\"] == \"Dead\") & (nsf_df[\"ejection_fraction\"] < 40) & (nsf_df[\"serum_creatinine\"] > 1.1)]\n",
    "count_dhpb_ef = len(dhbp_ef)\n",
    "print(\"There are only\",count_dhpb_ef,\"out of 17 females that died that have both diabetes and high blood pressure, and also have low ejection fraction and high serum creatinine.\")"
   ]
  },
  {
   "cell_type": "markdown",
   "id": "18d7f648-fa32-4f00-a48b-e824c8f708ff",
   "metadata": {},
   "source": [
    "- **5.88%** of females that died were diagnosed with high blood pressure and had both abnormal levels."
   ]
  },
  {
   "cell_type": "markdown",
   "id": "f4fe0af4-d6d4-4f73-b6ed-c74790b52c53",
   "metadata": {},
   "source": [
    "**3 - Anemia Diagnosis**"
   ]
  },
  {
   "cell_type": "code",
   "execution_count": 113,
   "id": "fa04e6e5-83cb-41da-8849-c8052832c498",
   "metadata": {
    "executionTime": 626,
    "lastSuccessfullyExecutedCode": "#count of females with anemia from new df\nsns.countplot(x = nsf_df.patient_outcome, hue = nsf_df.anaemia, palette = ['tab:orange', 'tab:blue'])\nplt.xlabel('Patient Outcome')\nplt.title('Number of Females with Anemia');"
   },
   "outputs": [
    {
     "data": {
      "image/png": "[encoded data removed]",
      "text/plain": [
       "<Figure size 432x288 with 1 Axes>"
      ]
     },
     "metadata": {
      "needs_background": "light"
     },
     "output_type": "display_data"
    }
   ],
   "source": [
    "#count of females with anemia from new df\n",
    "sns.countplot(x = nsf_df.patient_outcome, hue = nsf_df.anaemia, palette = ['tab:orange', 'tab:blue'])\n",
    "plt.xlabel('Patient Outcome')\n",
    "plt.title('Number of Females with Anemia');"
   ]
  },
  {
   "cell_type": "code",
   "execution_count": 114,
   "id": "6316bb9a-b38d-419c-841d-b82e0ee583ce",
   "metadata": {
    "executionTime": 936,
    "lastSuccessfullyExecutedCode": "#number of females in new df with anemia that have died\nfa_dead = nsf_df[(nsf_df[\"sex\"] == \"Female\") & (nsf_df[\"anaemia\"] == \"Yes\") & (nsf_df[\"patient_outcome\"] == \"Dead\")]\ncount_fa_dead = len(fa_dead)\nprint(\"How many non-smoking females with anemia have died?\",count_fa_dead)"
   },
   "outputs": [
    {
     "name": "stdout",
     "output_type": "stream",
     "text": [
      "How many non-smoking females with anemia have died? 11\n"
     ]
    }
   ],
   "source": [
    "#number of females in new df with anemia that have died\n",
    "fa_dead = nsf_df[(nsf_df[\"sex\"] == \"Female\") & (nsf_df[\"anaemia\"] == \"Yes\") & (nsf_df[\"patient_outcome\"] == \"Dead\")]\n",
    "count_fa_dead = len(fa_dead)\n",
    "print(\"How many non-smoking females with anemia have died?\",count_fa_dead)"
   ]
  },
  {
   "cell_type": "code",
   "execution_count": 115,
   "id": "f619426e-c427-45e6-98c8-e76bbf319e62",
   "metadata": {
    "executionTime": 506,
    "lastSuccessfullyExecutedCode": "#number of females in new df with anemia that are alive\nfa_alive = nsf_df[(nsf_df[\"sex\"] == \"Female\") & (nsf_df[\"anaemia\"] == \"Yes\") & (nsf_df[\"patient_outcome\"] == \"Alive\")]\ncount_fa_alive = len(fa_alive)\nprint(\"How many non-smoking females with anemia are alive?\",count_fa_alive)"
   },
   "outputs": [
    {
     "name": "stdout",
     "output_type": "stream",
     "text": [
      "How many non-smoking females with anemia are alive? 20\n"
     ]
    }
   ],
   "source": [
    "#number of females in new df with anemia that are alive\n",
    "fa_alive = nsf_df[(nsf_df[\"sex\"] == \"Female\") & (nsf_df[\"anaemia\"] == \"Yes\") & (nsf_df[\"patient_outcome\"] == \"Alive\")]\n",
    "count_fa_alive = len(fa_alive)\n",
    "print(\"How many non-smoking females with anemia are alive?\",count_fa_alive)"
   ]
  },
  {
   "cell_type": "code",
   "execution_count": 116,
   "id": "0f68f1fe-c474-4ac1-ace9-7cdeb3a0f511",
   "metadata": {
    "executionTime": 497,
    "lastSuccessfullyExecutedCode": "#number of females in new df without anemia that have died\nfna_dead = nsf_df[(nsf_df[\"sex\"] == \"Female\") & (nsf_df[\"anaemia\"] == \"No\") & (nsf_df[\"patient_outcome\"] == \"Dead\")]\ncount_fna_dead = len(fna_dead)\nprint(\"How many non-smoking females without anemia have died?\",count_fna_dead)"
   },
   "outputs": [
    {
     "name": "stdout",
     "output_type": "stream",
     "text": [
      "How many non-smoking females without anemia have died? 6\n"
     ]
    }
   ],
   "source": [
    "#number of females in new df without anemia that have died\n",
    "fna_dead = nsf_df[(nsf_df[\"sex\"] == \"Female\") & (nsf_df[\"anaemia\"] == \"No\") & (nsf_df[\"patient_outcome\"] == \"Dead\")]\n",
    "count_fna_dead = len(fna_dead)\n",
    "print(\"How many non-smoking females without anemia have died?\",count_fna_dead)"
   ]
  },
  {
   "cell_type": "code",
   "execution_count": 117,
   "id": "c4e3d164-7d01-4a49-ae59-4617d717fd88",
   "metadata": {
    "executionTime": 492,
    "lastSuccessfullyExecutedCode": "#number of females in new df without anemia that are alive\nfna_alive = nsf_df[(nsf_df[\"sex\"] == \"Female\") & (nsf_df[\"anaemia\"] == \"No\") & (nsf_df[\"patient_outcome\"] == \"Alive\")]\ncount_fna_alive = len(fna_alive)\nprint(\"How many non-smoking females without anemia are alive?\",count_fna_alive)"
   },
   "outputs": [
    {
     "name": "stdout",
     "output_type": "stream",
     "text": [
      "How many non-smoking females without anemia are alive? 23\n"
     ]
    }
   ],
   "source": [
    "#number of females in new df without anemia that are alive\n",
    "fna_alive = nsf_df[(nsf_df[\"sex\"] == \"Female\") & (nsf_df[\"anaemia\"] == \"No\") & (nsf_df[\"patient_outcome\"] == \"Alive\")]\n",
    "count_fna_alive = len(fna_alive)\n",
    "print(\"How many non-smoking females without anemia are alive?\",count_fna_alive)"
   ]
  },
  {
   "cell_type": "markdown",
   "id": "0dd5e885-94bb-4346-a687-7db755b9da21",
   "metadata": {},
   "source": [
    "There are almost double the amount of females that have been diagnosed with anemia that were alive during the follow up period than there were those that died. The ratio climbs higher in females that were not diagnosed with anemia as alive females were present **3.83** times more than those that died.\n",
    "- There are **11** females that were diagnosed with anemia that died, and **20** females that were alive.\n",
    "- There are **6** females that were not diagnosed with anemia that died, and **23** females that were alive."
   ]
  },
  {
   "cell_type": "code",
   "execution_count": 118,
   "id": "abdd8b28-8052-4873-acd8-e5fca0ee9a9c",
   "metadata": {
    "executionTime": 589,
    "lastSuccessfullyExecutedCode": "fef = nsf_df[(nsf_df[\"anaemia\"] == \"Yes\") & (nsf_df[\"patient_outcome\"] == \"Dead\") & (nsf_df[\"ejection_fraction\"] < 40)]\ncount_fef = len(fef)\nprint(count_fef,\"out of 11 females also had low ejection fraction.\")\nprint(round((7/11)*100),\"% of females died.\")"
   },
   "outputs": [
    {
     "name": "stdout",
     "output_type": "stream",
     "text": [
      "7 out of 11 females also had low ejection fraction.\n",
      "64 % of females died.\n"
     ]
    }
   ],
   "source": [
    "fef = nsf_df[(nsf_df[\"anaemia\"] == \"Yes\") & (nsf_df[\"patient_outcome\"] == \"Dead\") & (nsf_df[\"ejection_fraction\"] < 40)]\n",
    "count_fef = len(fef)\n",
    "print(count_fef,\"out of 11 females also had low ejection fraction.\")\n",
    "print(round((7/11)*100),\"% of females died.\")"
   ]
  },
  {
   "cell_type": "code",
   "execution_count": 119,
   "id": "9112c644-f079-4956-8441-7909c4a1f5cf",
   "metadata": {
    "executionTime": 653,
    "lastSuccessfullyExecutedCode": "fss = nsf_df[(nsf_df[\"anaemia\"] == \"Yes\") & (nsf_df[\"patient_outcome\"] == \"Dead\") & (nsf_df[\"serum_sodium\"] < 135)]\ncount_fss = len(fss)\nprint(count_fss,\"out of 11 females also had low serum sodium.\")\nprint(round((3/11)*100),\"% of females died.\")"
   },
   "outputs": [
    {
     "name": "stdout",
     "output_type": "stream",
     "text": [
      "3 out of 11 females also had low serum sodium.\n",
      "27 % of females died.\n"
     ]
    }
   ],
   "source": [
    "fss = nsf_df[(nsf_df[\"anaemia\"] == \"Yes\") & (nsf_df[\"patient_outcome\"] == \"Dead\") & (nsf_df[\"serum_sodium\"] < 135)]\n",
    "count_fss = len(fss)\n",
    "print(count_fss,\"out of 11 females also had low serum sodium.\")\n",
    "print(round((3/11)*100),\"% of females died.\")"
   ]
  },
  {
   "cell_type": "code",
   "execution_count": 120,
   "id": "0548e39c-b774-484c-bacd-79a6fd3ad2d3",
   "metadata": {
    "executionTime": 502,
    "lastSuccessfullyExecutedCode": "fp = nsf_df[(nsf_df[\"anaemia\"] == \"Yes\") & (nsf_df[\"patient_outcome\"] == \"Dead\") & (nsf_df[\"platelets\"] < 150000)]\ncount_fp = len(fp)\nprint(count_fp,\"out of 11 females also had low platelets.\")\nprint(round((0/11)*100),\"% of females died.\")\n\nfp2 = nsf_df[(nsf_df[\"anaemia\"] == \"Yes\") & (nsf_df[\"patient_outcome\"] == \"Dead\") & (nsf_df[\"platelets\"] > 450000)]\ncount_fp2 = len(fp2)\nprint(count_fp2,\"out of 11 females also had high platelets.\")\nprint(round((0/11)*100),\"% of females died.\")"
   },
   "outputs": [
    {
     "name": "stdout",
     "output_type": "stream",
     "text": [
      "0 out of 11 females also had low platelets.\n",
      "0 % of females died.\n",
      "0 out of 11 females also had high platelets.\n",
      "0 % of females died.\n"
     ]
    }
   ],
   "source": [
    "fp = nsf_df[(nsf_df[\"anaemia\"] == \"Yes\") & (nsf_df[\"patient_outcome\"] == \"Dead\") & (nsf_df[\"platelets\"] < 150000)]\n",
    "count_fp = len(fp)\n",
    "print(count_fp,\"out of 11 females also had low platelets.\")\n",
    "print(round((0/11)*100),\"% of females died.\")\n",
    "\n",
    "fp2 = nsf_df[(nsf_df[\"anaemia\"] == \"Yes\") & (nsf_df[\"patient_outcome\"] == \"Dead\") & (nsf_df[\"platelets\"] > 450000)]\n",
    "count_fp2 = len(fp2)\n",
    "print(count_fp2,\"out of 11 females also had high platelets.\")\n",
    "print(round((0/11)*100),\"% of females died.\")"
   ]
  },
  {
   "cell_type": "code",
   "execution_count": 121,
   "id": "ca6307eb-9282-4145-8408-37f36bbaddd6",
   "metadata": {
    "executionTime": 491,
    "lastSuccessfullyExecutedCode": "fcpk = nsf_df[(nsf_df[\"anaemia\"] == \"Yes\") & (nsf_df[\"patient_outcome\"] == \"Dead\") & (nsf_df[\"creatinine_phosphokinase\"] > 200)]\ncount_fcpk = len(fcpk)\nprint(count_fcpk,\"out of 11 females also had high creatinine_phosphokinase.\")\nprint(round((3/11)*100),\"% of females died.\")\n\nfcpk2 = nsf_df[(nsf_df[\"anaemia\"] == \"Yes\") & (nsf_df[\"patient_outcome\"] == \"Dead\") & (nsf_df[\"creatinine_phosphokinase\"] > 1000)]\ncount_fcpk2 = len(fcpk2)\nprint(count_fcpk2,\"out of 11 females also had extremely high creatinine_phosphokinase.\")\nprint(round((0/11)*100),\"% of females died.\")"
   },
   "outputs": [
    {
     "name": "stdout",
     "output_type": "stream",
     "text": [
      "3 out of 11 females also had high creatinine_phosphokinase.\n",
      "27 % of females died.\n",
      "0 out of 11 females also had extremely high creatinine_phosphokinase.\n",
      "0 % of females died.\n"
     ]
    }
   ],
   "source": [
    "fcpk = nsf_df[(nsf_df[\"anaemia\"] == \"Yes\") & (nsf_df[\"patient_outcome\"] == \"Dead\") & (nsf_df[\"creatinine_phosphokinase\"] > 200)]\n",
    "count_fcpk = len(fcpk)\n",
    "print(count_fcpk,\"out of 11 females also had high creatinine_phosphokinase.\")\n",
    "print(round((3/11)*100),\"% of females died.\")\n",
    "\n",
    "fcpk2 = nsf_df[(nsf_df[\"anaemia\"] == \"Yes\") & (nsf_df[\"patient_outcome\"] == \"Dead\") & (nsf_df[\"creatinine_phosphokinase\"] > 1000)]\n",
    "count_fcpk2 = len(fcpk2)\n",
    "print(count_fcpk2,\"out of 11 females also had extremely high creatinine_phosphokinase.\")\n",
    "print(round((0/11)*100),\"% of females died.\")"
   ]
  },
  {
   "cell_type": "code",
   "execution_count": 122,
   "id": "b6fe66c7-dcc3-4cc3-92f8-d031cbd51966",
   "metadata": {
    "executionTime": 491,
    "lastSuccessfullyExecutedCode": "fsc = nsf_df[(nsf_df[\"anaemia\"] == \"Yes\") & (nsf_df[\"patient_outcome\"] == \"Dead\") & (nsf_df[\"serum_creatinine\"] > 1.1)]\ncount_fsc = len(fsc)\nprint(count_fsc,\"out of 11 females also had high serum creatinine.\")\nprint(round((6/11)*100),\"% of females died.\")"
   },
   "outputs": [
    {
     "name": "stdout",
     "output_type": "stream",
     "text": [
      "6 out of 11 females also had high serum creatinine.\n",
      "55 % of females died.\n"
     ]
    }
   ],
   "source": [
    "fsc = nsf_df[(nsf_df[\"anaemia\"] == \"Yes\") & (nsf_df[\"patient_outcome\"] == \"Dead\") & (nsf_df[\"serum_creatinine\"] > 1.1)]\n",
    "count_fsc = len(fsc)\n",
    "print(count_fsc,\"out of 11 females also had high serum creatinine.\")\n",
    "print(round((6/11)*100),\"% of females died.\")"
   ]
  },
  {
   "cell_type": "markdown",
   "id": "cc0b131d-866c-420d-b500-889b6c8956b2",
   "metadata": {},
   "source": [
    "The most noticeable correlation between non-smoking females, age 51-70, that were diagnosed with anemia came from **low ejection fraction** and **high serum creatinine**: both variables were present in over half of the females that have died.\n",
    "- Low ejection fraction was present in **64%** of patients.\n",
    "- High serum creatinine was present in **55%** of patients.\n",
    "\n",
    "It would be interesting to see how many females had both present:"
   ]
  },
  {
   "cell_type": "code",
   "execution_count": 123,
   "id": "331dd797-5b07-4630-9448-c9009eff6cd0",
   "metadata": {
    "executionTime": 486,
    "lastSuccessfullyExecutedCode": "female_combo = nsf_df[(nsf_df[\"anaemia\"] == \"Yes\") & (nsf_df[\"patient_outcome\"] == \"Dead\") & (nsf_df[\"ejection_fraction\"] < 40) & (nsf_df[\"serum_creatinine\"] > 1.1)]\ncount_f_combo = len(female_combo)\nprint(\"Only\",count_f_combo,\"out of 17 female patients with anemia that died had both abnormal levels.\")"
   },
   "outputs": [
    {
     "name": "stdout",
     "output_type": "stream",
     "text": [
      "Only 4 out of 17 female patients with anemia that died had both abnormal levels.\n"
     ]
    }
   ],
   "source": [
    "female_combo = nsf_df[(nsf_df[\"anaemia\"] == \"Yes\") & (nsf_df[\"patient_outcome\"] == \"Dead\") & (nsf_df[\"ejection_fraction\"] < 40) & (nsf_df[\"serum_creatinine\"] > 1.1)]\n",
    "count_f_combo = len(female_combo)\n",
    "print(\"Only\",count_f_combo,\"out of 17 female patients with anemia that died had both abnormal levels.\")"
   ]
  },
  {
   "cell_type": "markdown",
   "id": "01e14d07-84a1-4f0e-9739-aee2d56e84be",
   "metadata": {},
   "source": [
    "- **23.53%** of females that died were diagnosed with anemia and had both abnormal levels.\n",
    "\n",
    "It would be interesting to see, however, if there is a correlation between a patient having diabetes, high blood pressure, anemia and low ejection fraction:"
   ]
  },
  {
   "cell_type": "code",
   "execution_count": 124,
   "id": "ef936613-4ec2-48ca-b20f-d41f0bd58a4c",
   "metadata": {
    "executionTime": 585,
    "lastSuccessfullyExecutedCode": "dhbpa_ef = nsf_df[(nsf_df[\"diabetes\"] == \"Yes\") & (nsf_df[\"high_blood_pressure\"] == \"Yes\") & (nsf_df[\"anaemia\"] == \"Yes\") & (nsf_df[\"patient_outcome\"] == \"Dead\") & (nsf_df[\"ejection_fraction\"] < 40)]\ncount_dhpba_ef = len(dhbpa_ef)\nprint(\"There are only\",count_dhpba_ef,\"out of 17 females that died that have diabetes, high blood pressure, anemia and also have low ejection fraction.\")"
   },
   "outputs": [
    {
     "name": "stdout",
     "output_type": "stream",
     "text": [
      "There are only 2 out of 17 females that died that have diabetes, high blood pressure, anemia and also have low ejection fraction.\n"
     ]
    }
   ],
   "source": [
    "dhbpa_ef = nsf_df[(nsf_df[\"diabetes\"] == \"Yes\") & (nsf_df[\"high_blood_pressure\"] == \"Yes\") & (nsf_df[\"anaemia\"] == \"Yes\") & (nsf_df[\"patient_outcome\"] == \"Dead\") & (nsf_df[\"ejection_fraction\"] < 40)]\n",
    "count_dhpba_ef = len(dhbpa_ef)\n",
    "print(\"There are only\",count_dhpba_ef,\"out of 17 females that died that have diabetes, high blood pressure, anemia and also have low ejection fraction.\")"
   ]
  },
  {
   "cell_type": "markdown",
   "id": "e164b01f-739b-4599-9c13-fed021c269f1",
   "metadata": {},
   "source": [
    "- **11.76%** of females with diabetes, high blood pressure, and anemia also had low ejection fraction, and died."
   ]
  },
  {
   "cell_type": "markdown",
   "id": "cb525995-1832-4bbc-ae0f-125ea8a7ab94",
   "metadata": {},
   "source": [
    "## Conclusion: Written Analysis"
   ]
  },
  {
   "cell_type": "markdown",
   "id": "46897bc5-7192-4b89-aee6-b24c52091005",
   "metadata": {},
   "source": [
    "**1. Analysis Questions**"
   ]
  },
  {
   "cell_type": "markdown",
   "id": "4c2b6e7a-ad06-4e2b-926e-d367e97b0303",
   "metadata": {},
   "source": [
    "A) **Basic Statistics**\n",
    "- There are no null (or NaN) values present in the original and cleaned dataset. I ran df.describe() twice in this project: once before I changed all Boolean columns to strings, and then once after I funneled down to only include the numerical columns. The second descriptive statistics table did include the uniqueid and age columns as I wanted to leave them as integers for plotting later on. None of the statistics changed from the first to the second analysis, I only wanted to narrow it down for easier evaluation. Creatinine Phosphokinase (CPK) and Serum Creatinine were the only two columns whose range was larger than the rest:\n",
    "\t- CPK range = 7,838\n",
    "\t- Serum Creatinine range = 8.9\n",
    "- All data values were int, float, or string, and favorable for using in my exploratory analysis. I only changed the age datatype to only use full ages, not decimals."
   ]
  },
  {
   "cell_type": "markdown",
   "id": "83d3ee8f-c08b-449b-957d-063841c634c8",
   "metadata": {},
   "source": [
    "B) **Outliers Detection**\n",
    "- I decided to use the Z-score method to detect any outliers as I felt that this method would be the most accurate for this dataset.\n",
    "- Ejection fraction only contained one outlier that was slightly higher than the rest. \n",
    "- Serum sodium contained three outliers that were moderately lower than the mean; however, being that the lower numbers can be a sign of heart failure, it would be detrimental to the research to take any of this information out.\n",
    "- Platelets contained three outliers as well that were moderately higher above the mean.\n",
    "- Creatinine phosphokinase (CPK) contained the highest number of outliers with seven patients having extremely high levels (compared to the mean). However, these extreme abnormal levels are a major risk-factor for heart failure, so they were left in for a more accurate representation of the data.\n",
    "- Serum creatinine came in as the second highest to contain outliers with six patients having extremely high levels as well (compared to the mean). Again, just like for CPK and ejection fraction, being that this dataset contains lab levels for healthcare purposes, and these abnormal levels are an accurate indication for heart failure, they were left in.\n",
    "- Since this dataset only contains 299 patients, and there are roughly 6.2 million individuals in the United States of America that have been diagnosed with heart failure, this data has a slighter larger margin of error ( than most (CDC, 2023).\n",
    "- The margin of error (MOE), with a 95% confidence interval, is roughly 8.78."
   ]
  },
  {
   "cell_type": "markdown",
   "id": "72017c1a-1c9d-4100-b5ce-57dcadb7d12c",
   "metadata": {},
   "source": [
    "**2. Data Cleaning**"
   ]
  },
  {
   "cell_type": "markdown",
   "id": "fd76b501-93c6-4f89-9bb9-5a98d2936e8a",
   "metadata": {},
   "source": [
    "- I ended up exporting all four csv files from Masterschool’s DataCamp workspace, importing into my personal SQL to practice the questions for the SQL portion of this project, and then joined all four datasets into one master csv. I then decided to upload my master csv file so that if other students changed anything in the original four files it would not change anything in my duplicated workspace.\n",
    "- I renamed DEATH_EVENT to patient_outcome, and then changed the Boolean variables to “Dead” and “Alive” for a more readable dataset.\n",
    "- I decided to drop the time column from my dataset as I did not believe it had any bearing on the rest of the data.\n",
    "- I changed the age columns’ datatype from float to int, so as to only include whole numbers for better grouping when using this number in the cross-correlation analysis section.\n",
    "- I changed all Boolean columns (there were 6 in the heart failure dataset) to reflect Yes/No, Female/Male, and Alive/Dead so that my visuals would be more appealing and easier to read. I did not want to have to keep repeating a legend with each Boolean column used.\n",
    "- Everything else was left alone as this dataset did not contain many patients to pull from."
   ]
  },
  {
   "cell_type": "markdown",
   "id": "b98a41b2-11b7-4cc5-841f-e1ae41297989",
   "metadata": {},
   "source": [
    "**3. Distribution Analysis**"
   ]
  },
  {
   "cell_type": "markdown",
   "id": "53bc405d-efd8-467a-81d7-e21f44279faa",
   "metadata": {},
   "source": [
    "- This dataset is slightly imbalanced as there were 1.83 times more males than females recorded as patients. Out of the 299 patients collected, 64.88% (194) were males and 35.12% (105) were females.\n",
    "- The patient outcome distribution was positive in the fact that only 32.11% (96) of patients died during the follow up analysis, whereas 67.89% (203) were still alive.\n",
    "- The distribution of smokers versus non-smokers was to be expected: out of 299 patients, 67.89% (203) were non-smokers, while the smokers made up 32.11% (96) of all patients collected.\n",
    "- Diving further into the smokers count, there were only 30 patients (31.25%) that died that were smokers, whereas 66 patients (68.75%) were still alive during the follow up analysis.\n",
    "- The diabetic distribution was more balanced with 58.19% (174) of patients who did not have diabetes, and 41.81% (125) were diagnosed with diabetes. There are 1.39 times more non-diabetics than diabetics in this dataset.\n",
    "- The anemia distribution was more balanced, too, with 56.86% (170) of patients who did not have anemia, and 43.14% (129) were diagnosed with anemia. There are 1.32 times more non-anemics than anemics in this dataset.\n",
    "- The high blood pressure distribution was bit more imbalanced, where 64.88% (194) patients were not diagnosed with high blood pressure, and 35.12% (105) patients were diagnosed. However, there are still more patients without this underlying health issue than those who were diagnosed: there are 1.85 times more patients without high blood pressure than those who do have it.\n",
    "- The age range is to be expected:\n",
    "\t- Minimum age recorded = 40\n",
    "\t- Maximum age recorded = 95\n",
    "- The age distribution was the most normal of all columns/variables in this dataset.\n",
    "- There were more 60–65-year-olds than any other age group."
   ]
  },
  {
   "cell_type": "markdown",
   "id": "5fb65b3a-a11b-4502-999d-3fe2f660ad1b",
   "metadata": {},
   "source": [
    "**4. Cross-Correlation Analysis**"
   ]
  },
  {
   "cell_type": "markdown",
   "id": "da8db2c0-e3a1-4839-9bc3-18878d89f473",
   "metadata": {},
   "source": [
    "- In diving deeper to analyze the number of deaths per sex, there were 9 more females that were reported alive, 71 total, whereas 62 males were reported dead.\n",
    "- In the boxenplot, the only variable with visible outliers is platelets. I decided to keep them in as I only used this variable in my analysis a handful of times.\n",
    "- Serum Sodium and Creatinine Phosphokinase (CPK) has a slightly moderate positive correlation: 0.35.\n",
    "- CPK and Serum Creatinine has a slightly moderate positive correlation as well: 0.33.\n",
    "- Ejection Fraction and Serum Creatinine has a slightly lower, but still moderate positive correlation: 0.21.\n",
    "- The highest negative correlation is Ejection Fraction and Platelet levels at -0.16.\n",
    "- In the pair plot between all numerical variables, the only two that showed an upward trend (or positive correlation) was that of Serum Sodium and CPK. All other levels were scattered about with no visual trend(s)."
   ]
  },
  {
   "cell_type": "markdown",
   "id": "290160e8-0ec4-479b-9b7d-6d0606b91088",
   "metadata": {},
   "source": [
    "**5. Raising Data Questions**"
   ]
  },
  {
   "cell_type": "markdown",
   "id": "6992d704-b66d-4f57-845d-a4518cc3931e",
   "metadata": {},
   "source": [
    "- Why are females, aged 51 – 70, who do not smoke dying at a higher rate than males, regardless of age and/or smoking status?\n",
    "\t- Inconclusive: low Ejection Fraction and high Serum Creatinine levels were more prevalent amongst this group. Their condition was made worse, and had a high death rate, if they were diagnosed with diabetes, anemia, and high blood pressure. More testing over a longer period would be highly suggested so that the healthcare field can start adopting better/more policies to help predict, and reduce, heart failure diagnosis, and ultimately death.\n",
    "- How many non-smoking females are in the age group 51-70?\n",
    "\t- 60 patients\n",
    "- Out of those 60 females, how many died?\n",
    "\t- 17 patients (28.33%)\n",
    "- How many females that died had lower than 40% Ejection Fraction levels?\n",
    "\t- 11 patients (64.71%)\n",
    "- How many females that died had lower than 135 Serum Sodium levels?\n",
    "\t- 4 patients (23.53%)\n",
    "- How many females that died had lower than 150,000 Platelet levels?\n",
    "\t- 1 patient (5.88%)\n",
    "- How many females that died had higher than 200 Creatinine Phosphokinase (CPK levels)?\n",
    "\t- 6 patients (35.29%)\n",
    "- How many females that died had higher than 1,000 Creatinine Phosphokinase (CPK levels)?\n",
    "\t- 2 patients (11.76%)\n",
    "- How many females that died had higher than 1.1 Serum Creatinine levels?\n",
    "\t- 12 patients (70.59%)\n",
    "- _The two highest levels were that of Ejection Fraction and Serum Creatinine: both variables were present in abnormal levels in over 50% of female patients, non-smokers, that died in the age group 51-70._"
   ]
  },
  {
   "cell_type": "markdown",
   "id": "ea730479-c115-4ea5-a86d-c089102f710a",
   "metadata": {},
   "source": [
    "**6. Data Enrichment**"
   ]
  },
  {
   "cell_type": "markdown",
   "id": "0119d295-58c4-4929-a071-27d178a03300",
   "metadata": {},
   "source": [
    "- As much as I want to enrich the current dataset, I believe this would violate the code of ethics as far as data collection goes for the healthcare field. However, if I had unlimited resources and budget, I would collect every piece of information I could get my hands on (that do not violate HIPAA) from all 299 patients collected, all the way back from their date of birth. I believe it would be helpful to do a thorough analysis of every primary care, urgent care, and ER/hospital visit, including lab work for blood levels throughout their life. I could then take this information and study how their levels have fluctuated throughout the years and try to find any/all patterns included in this information."
   ]
  },
  {
   "cell_type": "markdown",
   "id": "18a8ecf6-9fbc-49bd-b7f9-0824de9c3c74",
   "metadata": {},
   "source": [
    "**7. Recommendation(s)**"
   ]
  },
  {
   "cell_type": "markdown",
   "id": "f3031b07-6573-4909-9c06-a307942e3cf0",
   "metadata": {},
   "source": [
    "- Recommendations for further investigation into Ejection Fraction levels, cross-checking with other labs, symptoms, and underlying health conditions, should be the highest priority going forward in the healthcare field regarding heart failure prevention, diagnosis, and treatment; specifically for non-smoking females in the age range 51-70, and smoking males in the same age range."
   ]
  },
  {
   "cell_type": "markdown",
   "id": "e9b400ab-26a0-4eac-a4a7-ea7fd563c54a",
   "metadata": {},
   "source": [
    "**8. Summary / Conclusion(s)**"
   ]
  },
  {
   "cell_type": "markdown",
   "id": "0d339647-b357-4e1f-945c-95ab1a0e6d98",
   "metadata": {},
   "source": [
    "- It would be helpful to know exactly how long of a timespan this data was collected from: healthcare surveys and/or testing benefit from longer timespans.\n",
    "- It would be safe to add a temporary conclusion that smoking did not have a primary effect on patient outcome due to heart failure in this dataset. However, further investigation into other variables included here, then cross-referencing them to smoker’s vs non-smokers would be helpful in finding trends on whether smoking can kill heart failure patients with underlying conditions.\n",
    "- Abnormally low ejection fraction is the single most common factor amongst 51–70-year-old females that do not smoke. "
   ]
  },
  {
   "cell_type": "markdown",
   "id": "1add4777-040f-4187-b19a-f041977aa99b",
   "metadata": {},
   "source": [
    "**References:**\n",
    "- CDC (2023, January 5). Heart Failure https://www.cdc.gov/heartdisease/heart_failure.htm\n",
    "- ChatGPT (2023). https://chat.openai.com/chat"
   ]
  }
 ],
 "metadata": {
  "editor": "DataCamp Workspace",
  "kernelspec": {
   "display_name": "Python 3 (ipykernel)",
   "language": "python",
   "name": "python3"
  },
  "language_info": {
   "codemirror_mode": {
    "name": "ipython",
    "version": 3
   },
   "file_extension": ".py",
   "mimetype": "text/x-python",
   "name": "python",
   "nbconvert_exporter": "python",
   "pygments_lexer": "ipython3",
   "version": "3.9.12"
  }
 },
 "nbformat": 4,
 "nbformat_minor": 5
}
